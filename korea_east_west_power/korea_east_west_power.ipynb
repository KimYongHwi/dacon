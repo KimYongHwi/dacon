{
  "nbformat": 4,
  "nbformat_minor": 0,
  "metadata": {
    "colab": {
      "name": "korea_east_west_power.ipynb",
      "provenance": [],
      "collapsed_sections": [],
      "authorship_tag": "ABX9TyObLyV+2AjD2mRs2PBsC97T"
    },
    "kernelspec": {
      "name": "python3",
      "display_name": "Python 3"
    },
    "language_info": {
      "name": "python"
    },
    "accelerator": "GPU"
  },
  "cells": [
    {
      "cell_type": "markdown",
      "metadata": {
        "id": "ZuoiuXxqCWuR"
      },
      "source": [
        "## [배경]\n",
        "\n",
        "태양광 발전은 매일 기상 상황과 계절에 따른 일사량의 영향을 받습니다.\n",
        "\n",
        "이에 대한 예측이 가능하다면 보다 원활한 전력 수급 계획이 가능합니다.\n",
        "\n",
        "인공지능 기반 태양광 발전량 예측 모델을 만들어주세요.\n",
        "\n",
        "## [평가]\n",
        "\n",
        "- 심사 기준: NMAE-10(Normalized Mean Absolute Error)\n",
        "\n",
        "- Public 평가: 학습용 제공 데이터를 이용하여 미래 한 달간 발전량 예측 후 평가\n",
        "\n",
        "- Private 평가: 대회 종료 시점부터 30일간 실제 발전량을 하루씩 평가\n",
        "\n",
        "- 1일 1회 채점 후 누적 결과 리더보드 반영\n",
        "\n",
        "- Private 평가 기간 제출물 업데이트 가능 (※제출 후 선택 파일 확인을 반드시 해주시기 바랍니다.)\n",
        "\n",
        "## [외부 데이터 및 사전학습 모델]\n",
        "\n",
        "- 예측일 전날 자정까지 확인이 가능한 데이터만 학습 및 추론 과정에서 사용 가능\n",
        "\n",
        "```\n",
        "ex) 2021년 6월 11일 예측 -> 2021년 6월 10일 24:00까지 획득 가능한 데이터만 사용\n",
        "(6월 10일 기상 관측 정보, 6월10일에 예보한 6월 11일 예보 등...)\n",
        "```\n",
        "\n",
        "- 예측 이전 시점의 데이터만 사용 가능\n",
        "\n",
        "- 공공데이터와 같이 누구나 얻을 수 있고 법적 제약이 없는 외부 데이터 허용\n",
        "\n",
        "- 사전학습 모델의 경우 사전학습에 사용된 데이터를 명시해야함\n",
        "\n",
        "- 대회 진행 중 data leakage 및 규칙 위반 사항이 의심되는 경우 코드 제출 요청을 할 수 있으며 요청 2일 이내 코드 미제출 혹은 외부 데이터 사용이 확인되었을 경우 리더보드 기록 삭제\n",
        "\n",
        "- 최종 평가시 외부데이터 및 출처 제출\n",
        "\n",
        "## [유의 사항]\n",
        "\n",
        "- 1일 최대 제출 횟수: 3회\n",
        "- 사용 가능 언어: Python, R\n",
        "- 모델 학습에서 검증 혹은 평가 데이터셋 활용 시(Data Leakage 등) 실격\n",
        "- 최종 순위는 선택된 파일 중에서 채점되므로 참가자는 제출 창에서 자신이 최종적으로 채점 받고 싶은 파일을 선택해야 함\n",
        "- 대회 직후 공개되는 Private 랭킹은 최종 순위가 아니며 코드 검증 후 수상자가 결정됨\n",
        "- 데이콘은 부정 제출 행위를 금지하고 있으며 데이콘 대회 부정 제출 이력이 있는 경우 평가가 제한됩니다. 자세한 사항은 아래의 링크를 참고해 주시기 바랍니다. https://dacon.io/notice/notice/13"
      ]
    },
    {
      "cell_type": "code",
      "metadata": {
        "colab": {
          "base_uri": "https://localhost:8080/"
        },
        "id": "HVvPDZWeBqzm",
        "outputId": "d8929eb1-c47b-4154-ef2f-0922ea7f5591"
      },
      "source": [
        "from google.colab import auth\n",
        "auth.authenticate_user()\n",
        "\n",
        "from google.colab import drive\n",
        "drive.mount('/content/drive', force_remount=False)"
      ],
      "execution_count": 1,
      "outputs": [
        {
          "output_type": "stream",
          "text": [
            "Mounted at /content/drive\n"
          ],
          "name": "stdout"
        }
      ]
    },
    {
      "cell_type": "code",
      "metadata": {
        "id": "iSHbzREkDCdW"
      },
      "source": [
        "import os\n",
        "import pandas as pd\n",
        "import datetime as dt\n",
        "import seaborn as sns\n",
        "import matplotlib.pyplot as plt\n",
        "from pathlib import Path\n",
        "from functools import reduce"
      ],
      "execution_count": 2,
      "outputs": []
    },
    {
      "cell_type": "code",
      "metadata": {
        "colab": {
          "base_uri": "https://localhost:8080/"
        },
        "id": "1Q4UV8tGESdq",
        "outputId": "775a9579-ef78-4320-c3ba-7b7648b13a81"
      },
      "source": [
        "folder = \"dacon\"\n",
        "project_dir = \"korea_east_west_power\"\n",
        "\n",
        "base_path = Path(\"/content/drive/My Drive/\")\n",
        "project_path = base_path / folder / project_dir\n",
        "os.chdir(project_path)\n",
        "\n",
        "for x in list(project_path.glob(\"*\")):\n",
        "    if x.is_dir():\n",
        "        dir_name = str(x.relative_to(project_path))\n",
        "        os.rename(dir_name, dir_name.split(\" \", 1)[0])\n",
        "\n",
        "print(f\"현재 디렉토리 위치: {os.getcwd()}\")"
      ],
      "execution_count": 3,
      "outputs": [
        {
          "output_type": "stream",
          "text": [
            "현재 디렉토리 위치: /content/drive/My Drive/dacon/korea_east_west_power\n"
          ],
          "name": "stdout"
        }
      ]
    },
    {
      "cell_type": "code",
      "metadata": {
        "id": "s_iSq22PDpat"
      },
      "source": [
        "dangjin_fcst_df = pd.read_csv('./data/dangjin_fcst_data.csv')\n",
        "energy_df = pd.read_csv('./data/energy.csv')\n",
        "ulsan_fcst_df = pd.read_csv('./data/ulsan_fcst_data.csv')\n",
        "sample_submission_df = pd.read_csv('./data/sample_submission.csv')"
      ],
      "execution_count": 75,
      "outputs": []
    },
    {
      "cell_type": "markdown",
      "metadata": {
        "id": "521ohd8ucQL2"
      },
      "source": [
        "## energy.csv - 발전소별 발전량\n",
        "- time : 1시간 단위 계량된 시간 (ex-2018-03-01 1:00:00 => 2018-03-01 00:00:00 ~ 2018-03-01 1:00:00 1시간동안 발전량 계량)\n",
        "- dangjin_floating : 당진수상태양광 발전량(KW)\n",
        "- dangjin_warehouse : 당진자재창고태양광 발전량(KW)\n",
        "- dangjin : 당진태양광 발전량(KW)\n",
        "- ulsan : 울산태양광 발전량(KW)"
      ]
    },
    {
      "cell_type": "code",
      "metadata": {
        "colab": {
          "base_uri": "https://localhost:8080/",
          "height": 419
        },
        "id": "tnhg0BvTcPXN",
        "outputId": "97fb0aca-e15a-4b61-beea-c09c128cbf20"
      },
      "source": [
        "energy_df"
      ],
      "execution_count": 76,
      "outputs": [
        {
          "output_type": "execute_result",
          "data": {
            "text/html": [
              "<div>\n",
              "<style scoped>\n",
              "    .dataframe tbody tr th:only-of-type {\n",
              "        vertical-align: middle;\n",
              "    }\n",
              "\n",
              "    .dataframe tbody tr th {\n",
              "        vertical-align: top;\n",
              "    }\n",
              "\n",
              "    .dataframe thead th {\n",
              "        text-align: right;\n",
              "    }\n",
              "</style>\n",
              "<table border=\"1\" class=\"dataframe\">\n",
              "  <thead>\n",
              "    <tr style=\"text-align: right;\">\n",
              "      <th></th>\n",
              "      <th>time</th>\n",
              "      <th>dangjin_floating</th>\n",
              "      <th>dangjin_warehouse</th>\n",
              "      <th>dangjin</th>\n",
              "      <th>ulsan</th>\n",
              "    </tr>\n",
              "  </thead>\n",
              "  <tbody>\n",
              "    <tr>\n",
              "      <th>0</th>\n",
              "      <td>2018-03-01 1:00:00</td>\n",
              "      <td>0.0</td>\n",
              "      <td>0.0</td>\n",
              "      <td>0</td>\n",
              "      <td>0</td>\n",
              "    </tr>\n",
              "    <tr>\n",
              "      <th>1</th>\n",
              "      <td>2018-03-01 2:00:00</td>\n",
              "      <td>0.0</td>\n",
              "      <td>0.0</td>\n",
              "      <td>0</td>\n",
              "      <td>0</td>\n",
              "    </tr>\n",
              "    <tr>\n",
              "      <th>2</th>\n",
              "      <td>2018-03-01 3:00:00</td>\n",
              "      <td>0.0</td>\n",
              "      <td>0.0</td>\n",
              "      <td>0</td>\n",
              "      <td>0</td>\n",
              "    </tr>\n",
              "    <tr>\n",
              "      <th>3</th>\n",
              "      <td>2018-03-01 4:00:00</td>\n",
              "      <td>0.0</td>\n",
              "      <td>0.0</td>\n",
              "      <td>0</td>\n",
              "      <td>0</td>\n",
              "    </tr>\n",
              "    <tr>\n",
              "      <th>4</th>\n",
              "      <td>2018-03-01 5:00:00</td>\n",
              "      <td>0.0</td>\n",
              "      <td>0.0</td>\n",
              "      <td>0</td>\n",
              "      <td>0</td>\n",
              "    </tr>\n",
              "    <tr>\n",
              "      <th>...</th>\n",
              "      <td>...</td>\n",
              "      <td>...</td>\n",
              "      <td>...</td>\n",
              "      <td>...</td>\n",
              "      <td>...</td>\n",
              "    </tr>\n",
              "    <tr>\n",
              "      <th>25627</th>\n",
              "      <td>2021-01-31 20:00:00</td>\n",
              "      <td>0.0</td>\n",
              "      <td>0.0</td>\n",
              "      <td>0</td>\n",
              "      <td>0</td>\n",
              "    </tr>\n",
              "    <tr>\n",
              "      <th>25628</th>\n",
              "      <td>2021-01-31 21:00:00</td>\n",
              "      <td>0.0</td>\n",
              "      <td>0.0</td>\n",
              "      <td>0</td>\n",
              "      <td>0</td>\n",
              "    </tr>\n",
              "    <tr>\n",
              "      <th>25629</th>\n",
              "      <td>2021-01-31 22:00:00</td>\n",
              "      <td>0.0</td>\n",
              "      <td>0.0</td>\n",
              "      <td>0</td>\n",
              "      <td>0</td>\n",
              "    </tr>\n",
              "    <tr>\n",
              "      <th>25630</th>\n",
              "      <td>2021-01-31 23:00:00</td>\n",
              "      <td>0.0</td>\n",
              "      <td>0.0</td>\n",
              "      <td>0</td>\n",
              "      <td>0</td>\n",
              "    </tr>\n",
              "    <tr>\n",
              "      <th>25631</th>\n",
              "      <td>2021-01-31 24:00:00</td>\n",
              "      <td>0.0</td>\n",
              "      <td>0.0</td>\n",
              "      <td>0</td>\n",
              "      <td>0</td>\n",
              "    </tr>\n",
              "  </tbody>\n",
              "</table>\n",
              "<p>25632 rows × 5 columns</p>\n",
              "</div>"
            ],
            "text/plain": [
              "                      time  dangjin_floating  dangjin_warehouse  dangjin  ulsan\n",
              "0       2018-03-01 1:00:00               0.0                0.0        0      0\n",
              "1       2018-03-01 2:00:00               0.0                0.0        0      0\n",
              "2       2018-03-01 3:00:00               0.0                0.0        0      0\n",
              "3       2018-03-01 4:00:00               0.0                0.0        0      0\n",
              "4       2018-03-01 5:00:00               0.0                0.0        0      0\n",
              "...                    ...               ...                ...      ...    ...\n",
              "25627  2021-01-31 20:00:00               0.0                0.0        0      0\n",
              "25628  2021-01-31 21:00:00               0.0                0.0        0      0\n",
              "25629  2021-01-31 22:00:00               0.0                0.0        0      0\n",
              "25630  2021-01-31 23:00:00               0.0                0.0        0      0\n",
              "25631  2021-01-31 24:00:00               0.0                0.0        0      0\n",
              "\n",
              "[25632 rows x 5 columns]"
            ]
          },
          "metadata": {
            "tags": []
          },
          "execution_count": 76
        }
      ]
    },
    {
      "cell_type": "code",
      "metadata": {
        "id": "bzegOSyMdoXj"
      },
      "source": [
        "def to_datetime(date_str):\n",
        "    if date_str[11:13] != '24':\n",
        "        return pd.to_datetime(date_str, format='%Y-%m-%d %H:%M:%S')\n",
        "\n",
        "    date_str = date_str[0:11] + '00' + date_str[13:]\n",
        "    \n",
        "    return pd.to_datetime(date_str, format='%Y%m%d %H:%M:%S') + \\\n",
        "           dt.timedelta(days=1)\n",
        "\n",
        "def set_date_info(df, column_name):\n",
        "    df['year'] = df[column_name].dt.year\n",
        "    df['month'] = df[column_name].dt.month\n",
        "    df['day'] = df[column_name].dt.day\n",
        "    df['dayofweek'] = df[column_name].dt.dayofweek\n",
        "    df['hour'] = df[column_name].dt.hour\n",
        "\n",
        "    return df"
      ],
      "execution_count": 77,
      "outputs": []
    },
    {
      "cell_type": "code",
      "metadata": {
        "id": "_uxeDfyAdwQf"
      },
      "source": [
        "energy_df['time'] = energy_df.time.apply(to_datetime)\n",
        "energy_df = set_date_info(energy_df, 'time')"
      ],
      "execution_count": 78,
      "outputs": []
    },
    {
      "cell_type": "code",
      "metadata": {
        "colab": {
          "base_uri": "https://localhost:8080/",
          "height": 419
        },
        "id": "nE45MwkJeLOi",
        "outputId": "6fee74c1-8f0e-4672-8ee5-a87a6c51b51d"
      },
      "source": [
        "energy_df = energy_df[['time', 'year', 'month', 'day', 'dayofweek', 'hour', 'dangjin_floating', 'dangjin_warehouse', 'dangjin', 'ulsan']]\n",
        "energy_df"
      ],
      "execution_count": 79,
      "outputs": [
        {
          "output_type": "execute_result",
          "data": {
            "text/html": [
              "<div>\n",
              "<style scoped>\n",
              "    .dataframe tbody tr th:only-of-type {\n",
              "        vertical-align: middle;\n",
              "    }\n",
              "\n",
              "    .dataframe tbody tr th {\n",
              "        vertical-align: top;\n",
              "    }\n",
              "\n",
              "    .dataframe thead th {\n",
              "        text-align: right;\n",
              "    }\n",
              "</style>\n",
              "<table border=\"1\" class=\"dataframe\">\n",
              "  <thead>\n",
              "    <tr style=\"text-align: right;\">\n",
              "      <th></th>\n",
              "      <th>time</th>\n",
              "      <th>year</th>\n",
              "      <th>month</th>\n",
              "      <th>day</th>\n",
              "      <th>dayofweek</th>\n",
              "      <th>hour</th>\n",
              "      <th>dangjin_floating</th>\n",
              "      <th>dangjin_warehouse</th>\n",
              "      <th>dangjin</th>\n",
              "      <th>ulsan</th>\n",
              "    </tr>\n",
              "  </thead>\n",
              "  <tbody>\n",
              "    <tr>\n",
              "      <th>0</th>\n",
              "      <td>2018-03-01 01:00:00</td>\n",
              "      <td>2018</td>\n",
              "      <td>3</td>\n",
              "      <td>1</td>\n",
              "      <td>3</td>\n",
              "      <td>1</td>\n",
              "      <td>0.0</td>\n",
              "      <td>0.0</td>\n",
              "      <td>0</td>\n",
              "      <td>0</td>\n",
              "    </tr>\n",
              "    <tr>\n",
              "      <th>1</th>\n",
              "      <td>2018-03-01 02:00:00</td>\n",
              "      <td>2018</td>\n",
              "      <td>3</td>\n",
              "      <td>1</td>\n",
              "      <td>3</td>\n",
              "      <td>2</td>\n",
              "      <td>0.0</td>\n",
              "      <td>0.0</td>\n",
              "      <td>0</td>\n",
              "      <td>0</td>\n",
              "    </tr>\n",
              "    <tr>\n",
              "      <th>2</th>\n",
              "      <td>2018-03-01 03:00:00</td>\n",
              "      <td>2018</td>\n",
              "      <td>3</td>\n",
              "      <td>1</td>\n",
              "      <td>3</td>\n",
              "      <td>3</td>\n",
              "      <td>0.0</td>\n",
              "      <td>0.0</td>\n",
              "      <td>0</td>\n",
              "      <td>0</td>\n",
              "    </tr>\n",
              "    <tr>\n",
              "      <th>3</th>\n",
              "      <td>2018-03-01 04:00:00</td>\n",
              "      <td>2018</td>\n",
              "      <td>3</td>\n",
              "      <td>1</td>\n",
              "      <td>3</td>\n",
              "      <td>4</td>\n",
              "      <td>0.0</td>\n",
              "      <td>0.0</td>\n",
              "      <td>0</td>\n",
              "      <td>0</td>\n",
              "    </tr>\n",
              "    <tr>\n",
              "      <th>4</th>\n",
              "      <td>2018-03-01 05:00:00</td>\n",
              "      <td>2018</td>\n",
              "      <td>3</td>\n",
              "      <td>1</td>\n",
              "      <td>3</td>\n",
              "      <td>5</td>\n",
              "      <td>0.0</td>\n",
              "      <td>0.0</td>\n",
              "      <td>0</td>\n",
              "      <td>0</td>\n",
              "    </tr>\n",
              "    <tr>\n",
              "      <th>...</th>\n",
              "      <td>...</td>\n",
              "      <td>...</td>\n",
              "      <td>...</td>\n",
              "      <td>...</td>\n",
              "      <td>...</td>\n",
              "      <td>...</td>\n",
              "      <td>...</td>\n",
              "      <td>...</td>\n",
              "      <td>...</td>\n",
              "      <td>...</td>\n",
              "    </tr>\n",
              "    <tr>\n",
              "      <th>25627</th>\n",
              "      <td>2021-01-31 20:00:00</td>\n",
              "      <td>2021</td>\n",
              "      <td>1</td>\n",
              "      <td>31</td>\n",
              "      <td>6</td>\n",
              "      <td>20</td>\n",
              "      <td>0.0</td>\n",
              "      <td>0.0</td>\n",
              "      <td>0</td>\n",
              "      <td>0</td>\n",
              "    </tr>\n",
              "    <tr>\n",
              "      <th>25628</th>\n",
              "      <td>2021-01-31 21:00:00</td>\n",
              "      <td>2021</td>\n",
              "      <td>1</td>\n",
              "      <td>31</td>\n",
              "      <td>6</td>\n",
              "      <td>21</td>\n",
              "      <td>0.0</td>\n",
              "      <td>0.0</td>\n",
              "      <td>0</td>\n",
              "      <td>0</td>\n",
              "    </tr>\n",
              "    <tr>\n",
              "      <th>25629</th>\n",
              "      <td>2021-01-31 22:00:00</td>\n",
              "      <td>2021</td>\n",
              "      <td>1</td>\n",
              "      <td>31</td>\n",
              "      <td>6</td>\n",
              "      <td>22</td>\n",
              "      <td>0.0</td>\n",
              "      <td>0.0</td>\n",
              "      <td>0</td>\n",
              "      <td>0</td>\n",
              "    </tr>\n",
              "    <tr>\n",
              "      <th>25630</th>\n",
              "      <td>2021-01-31 23:00:00</td>\n",
              "      <td>2021</td>\n",
              "      <td>1</td>\n",
              "      <td>31</td>\n",
              "      <td>6</td>\n",
              "      <td>23</td>\n",
              "      <td>0.0</td>\n",
              "      <td>0.0</td>\n",
              "      <td>0</td>\n",
              "      <td>0</td>\n",
              "    </tr>\n",
              "    <tr>\n",
              "      <th>25631</th>\n",
              "      <td>2021-02-01 00:00:00</td>\n",
              "      <td>2021</td>\n",
              "      <td>2</td>\n",
              "      <td>1</td>\n",
              "      <td>0</td>\n",
              "      <td>0</td>\n",
              "      <td>0.0</td>\n",
              "      <td>0.0</td>\n",
              "      <td>0</td>\n",
              "      <td>0</td>\n",
              "    </tr>\n",
              "  </tbody>\n",
              "</table>\n",
              "<p>25632 rows × 10 columns</p>\n",
              "</div>"
            ],
            "text/plain": [
              "                     time  year  month  ...  dangjin_warehouse  dangjin  ulsan\n",
              "0     2018-03-01 01:00:00  2018      3  ...                0.0        0      0\n",
              "1     2018-03-01 02:00:00  2018      3  ...                0.0        0      0\n",
              "2     2018-03-01 03:00:00  2018      3  ...                0.0        0      0\n",
              "3     2018-03-01 04:00:00  2018      3  ...                0.0        0      0\n",
              "4     2018-03-01 05:00:00  2018      3  ...                0.0        0      0\n",
              "...                   ...   ...    ...  ...                ...      ...    ...\n",
              "25627 2021-01-31 20:00:00  2021      1  ...                0.0        0      0\n",
              "25628 2021-01-31 21:00:00  2021      1  ...                0.0        0      0\n",
              "25629 2021-01-31 22:00:00  2021      1  ...                0.0        0      0\n",
              "25630 2021-01-31 23:00:00  2021      1  ...                0.0        0      0\n",
              "25631 2021-02-01 00:00:00  2021      2  ...                0.0        0      0\n",
              "\n",
              "[25632 rows x 10 columns]"
            ]
          },
          "metadata": {
            "tags": []
          },
          "execution_count": 79
        }
      ]
    },
    {
      "cell_type": "markdown",
      "metadata": {
        "id": "VCShtZMeIEMI"
      },
      "source": [
        "## dangjin_fcst_data.csv - 당진지역 발전소 동네 예보\n",
        "- Forecast time : 예보 발표 시점\n",
        "- forecast : 예보 시간 (ex - Forecast time:2018-03-01 11:00:00, forecast:4.0 => 2018-03-01 11:00:00에 발표한 2018-03-01 15:00:00 예보\n",
        "\n",
        "### 예보 발표 시점 'forecast'시간 후 기상 예보\n",
        "- Temperature : 온도(℃)\n",
        "- Humidity : 습도(%)\n",
        "- WindSpeed : 풍속(m/s)\n",
        "- WindDirection : 풍향(º)\n",
        "- Cloud : 하늘상태(1-맑음, 2-구름보통, 3-구름많음, 4-흐림)"
      ]
    },
    {
      "cell_type": "code",
      "metadata": {
        "colab": {
          "base_uri": "https://localhost:8080/"
        },
        "id": "AqRN-3tGqOjj",
        "outputId": "1ce15212-939a-470b-9023-4eb89ad23b93"
      },
      "source": [
        "dangjin_fcst_df.info()"
      ],
      "execution_count": 80,
      "outputs": [
        {
          "output_type": "stream",
          "text": [
            "<class 'pandas.core.frame.DataFrame'>\n",
            "RangeIndex: 162208 entries, 0 to 162207\n",
            "Data columns (total 7 columns):\n",
            " #   Column         Non-Null Count   Dtype  \n",
            "---  ------         --------------   -----  \n",
            " 0   Forecast time  162208 non-null  object \n",
            " 1   forecast       162208 non-null  float64\n",
            " 2   Temperature    162208 non-null  float64\n",
            " 3   Humidity       162208 non-null  float64\n",
            " 4   WindSpeed      162208 non-null  float64\n",
            " 5   WindDirection  162208 non-null  float64\n",
            " 6   Cloud          162208 non-null  float64\n",
            "dtypes: float64(6), object(1)\n",
            "memory usage: 8.7+ MB\n"
          ],
          "name": "stdout"
        }
      ]
    },
    {
      "cell_type": "code",
      "metadata": {
        "colab": {
          "base_uri": "https://localhost:8080/",
          "height": 419
        },
        "id": "4FUVebl3qmEx",
        "outputId": "fd1cca67-2757-4f26-846f-8faa4ae7dae7"
      },
      "source": [
        "dangjin_fcst_df"
      ],
      "execution_count": 81,
      "outputs": [
        {
          "output_type": "execute_result",
          "data": {
            "text/html": [
              "<div>\n",
              "<style scoped>\n",
              "    .dataframe tbody tr th:only-of-type {\n",
              "        vertical-align: middle;\n",
              "    }\n",
              "\n",
              "    .dataframe tbody tr th {\n",
              "        vertical-align: top;\n",
              "    }\n",
              "\n",
              "    .dataframe thead th {\n",
              "        text-align: right;\n",
              "    }\n",
              "</style>\n",
              "<table border=\"1\" class=\"dataframe\">\n",
              "  <thead>\n",
              "    <tr style=\"text-align: right;\">\n",
              "      <th></th>\n",
              "      <th>Forecast time</th>\n",
              "      <th>forecast</th>\n",
              "      <th>Temperature</th>\n",
              "      <th>Humidity</th>\n",
              "      <th>WindSpeed</th>\n",
              "      <th>WindDirection</th>\n",
              "      <th>Cloud</th>\n",
              "    </tr>\n",
              "  </thead>\n",
              "  <tbody>\n",
              "    <tr>\n",
              "      <th>0</th>\n",
              "      <td>2018-03-01 11:00:00</td>\n",
              "      <td>4.0</td>\n",
              "      <td>0.0</td>\n",
              "      <td>60.0</td>\n",
              "      <td>7.3</td>\n",
              "      <td>309.0</td>\n",
              "      <td>2.0</td>\n",
              "    </tr>\n",
              "    <tr>\n",
              "      <th>1</th>\n",
              "      <td>2018-03-01 11:00:00</td>\n",
              "      <td>7.0</td>\n",
              "      <td>-2.0</td>\n",
              "      <td>60.0</td>\n",
              "      <td>7.1</td>\n",
              "      <td>314.0</td>\n",
              "      <td>1.0</td>\n",
              "    </tr>\n",
              "    <tr>\n",
              "      <th>2</th>\n",
              "      <td>2018-03-01 11:00:00</td>\n",
              "      <td>10.0</td>\n",
              "      <td>-2.0</td>\n",
              "      <td>60.0</td>\n",
              "      <td>6.7</td>\n",
              "      <td>323.0</td>\n",
              "      <td>1.0</td>\n",
              "    </tr>\n",
              "    <tr>\n",
              "      <th>3</th>\n",
              "      <td>2018-03-01 11:00:00</td>\n",
              "      <td>13.0</td>\n",
              "      <td>-2.0</td>\n",
              "      <td>55.0</td>\n",
              "      <td>6.7</td>\n",
              "      <td>336.0</td>\n",
              "      <td>1.0</td>\n",
              "    </tr>\n",
              "    <tr>\n",
              "      <th>4</th>\n",
              "      <td>2018-03-01 11:00:00</td>\n",
              "      <td>16.0</td>\n",
              "      <td>-4.0</td>\n",
              "      <td>55.0</td>\n",
              "      <td>5.5</td>\n",
              "      <td>339.0</td>\n",
              "      <td>1.0</td>\n",
              "    </tr>\n",
              "    <tr>\n",
              "      <th>...</th>\n",
              "      <td>...</td>\n",
              "      <td>...</td>\n",
              "      <td>...</td>\n",
              "      <td>...</td>\n",
              "      <td>...</td>\n",
              "      <td>...</td>\n",
              "      <td>...</td>\n",
              "    </tr>\n",
              "    <tr>\n",
              "      <th>162203</th>\n",
              "      <td>2021-03-01 08:00:00</td>\n",
              "      <td>52.0</td>\n",
              "      <td>7.0</td>\n",
              "      <td>40.0</td>\n",
              "      <td>3.2</td>\n",
              "      <td>187.0</td>\n",
              "      <td>1.0</td>\n",
              "    </tr>\n",
              "    <tr>\n",
              "      <th>162204</th>\n",
              "      <td>2021-03-01 08:00:00</td>\n",
              "      <td>55.0</td>\n",
              "      <td>8.0</td>\n",
              "      <td>40.0</td>\n",
              "      <td>4.5</td>\n",
              "      <td>217.0</td>\n",
              "      <td>1.0</td>\n",
              "    </tr>\n",
              "    <tr>\n",
              "      <th>162205</th>\n",
              "      <td>2021-03-01 08:00:00</td>\n",
              "      <td>58.0</td>\n",
              "      <td>5.0</td>\n",
              "      <td>55.0</td>\n",
              "      <td>2.2</td>\n",
              "      <td>210.0</td>\n",
              "      <td>1.0</td>\n",
              "    </tr>\n",
              "    <tr>\n",
              "      <th>162206</th>\n",
              "      <td>2021-03-01 08:00:00</td>\n",
              "      <td>61.0</td>\n",
              "      <td>1.0</td>\n",
              "      <td>80.0</td>\n",
              "      <td>1.9</td>\n",
              "      <td>164.0</td>\n",
              "      <td>1.0</td>\n",
              "    </tr>\n",
              "    <tr>\n",
              "      <th>162207</th>\n",
              "      <td>2021-03-01 08:00:00</td>\n",
              "      <td>64.0</td>\n",
              "      <td>1.0</td>\n",
              "      <td>80.0</td>\n",
              "      <td>2.1</td>\n",
              "      <td>152.0</td>\n",
              "      <td>1.0</td>\n",
              "    </tr>\n",
              "  </tbody>\n",
              "</table>\n",
              "<p>162208 rows × 7 columns</p>\n",
              "</div>"
            ],
            "text/plain": [
              "              Forecast time  forecast  ...  WindDirection  Cloud\n",
              "0       2018-03-01 11:00:00       4.0  ...          309.0    2.0\n",
              "1       2018-03-01 11:00:00       7.0  ...          314.0    1.0\n",
              "2       2018-03-01 11:00:00      10.0  ...          323.0    1.0\n",
              "3       2018-03-01 11:00:00      13.0  ...          336.0    1.0\n",
              "4       2018-03-01 11:00:00      16.0  ...          339.0    1.0\n",
              "...                     ...       ...  ...            ...    ...\n",
              "162203  2021-03-01 08:00:00      52.0  ...          187.0    1.0\n",
              "162204  2021-03-01 08:00:00      55.0  ...          217.0    1.0\n",
              "162205  2021-03-01 08:00:00      58.0  ...          210.0    1.0\n",
              "162206  2021-03-01 08:00:00      61.0  ...          164.0    1.0\n",
              "162207  2021-03-01 08:00:00      64.0  ...          152.0    1.0\n",
              "\n",
              "[162208 rows x 7 columns]"
            ]
          },
          "metadata": {
            "tags": []
          },
          "execution_count": 81
        }
      ]
    },
    {
      "cell_type": "code",
      "metadata": {
        "id": "Lbswo4owuNpl"
      },
      "source": [
        "dangjin_feb_temperature_df = pd.read_csv('./data/dangjin/석문면_3시간기온_201802_201802.csv')\n",
        "dangjin_feb_humidity_df = pd.read_csv('./data/dangjin/석문면_습도_201802_201802.csv')\n",
        "dangjin_feb_wind_direction_df = pd.read_csv('./data/dangjin/석문면_풍향_201802_201802.csv')\n",
        "dangjin_feb_wind_speed_df = pd.read_csv('./data/dangjin/석문면_풍속_201802_201802.csv')\n",
        "dangjin_feb_cloud_df = pd.read_csv('./data/dangjin/석문면_하늘상태_201802_201802.csv')"
      ],
      "execution_count": 82,
      "outputs": []
    },
    {
      "cell_type": "code",
      "metadata": {
        "id": "JEhn1vfGvy-y"
      },
      "source": [
        "# 2018-02-28의 14시 예보만 사용\n",
        "def filter_feb_14hour_data(df, key):\n",
        "    df = df[(df[' format: day'] == 28) & (df['hour'] == 1400)]\n",
        "    df_ = df.copy()\n",
        "    df_[key] = df_.copy()[df_.columns[-1]].astype(float)\n",
        "    df_['Forecast time'] = pd.to_datetime('2018-02-28 14:00:00')\n",
        "    df_['forecast'] = df_['forecast'].astype(float)\n",
        "\n",
        "    return df_[['Forecast time', 'forecast', key]]\n",
        "\n",
        "dangjin_feb_temperature_df = filter_feb_14hour_data(dangjin_feb_temperature_df, 'Temperature')\n",
        "dangjin_feb_humidity_df = filter_feb_14hour_data(dangjin_feb_humidity_df, 'Humidity')\n",
        "dangjin_feb_wind_direction_df = filter_feb_14hour_data(dangjin_feb_wind_direction_df, 'WindDirection')\n",
        "dangjin_feb_wind_speed_df = filter_feb_14hour_data(dangjin_feb_wind_speed_df, 'WindSpeed')\n",
        "dangjin_feb_cloud_df = filter_feb_14hour_data(dangjin_feb_cloud_df, 'Cloud')"
      ],
      "execution_count": 83,
      "outputs": []
    },
    {
      "cell_type": "code",
      "metadata": {
        "id": "aNeiKFv9pAA8"
      },
      "source": [
        "dfs = [dangjin_feb_temperature_df, dangjin_feb_humidity_df, dangjin_feb_wind_direction_df, dangjin_feb_wind_speed_df, dangjin_feb_cloud_df]\n",
        "dangjin_feb_fcst_df = reduce(lambda df_left, df_right: pd.merge(df_left, df_right, how = 'left'), dfs)"
      ],
      "execution_count": 84,
      "outputs": []
    },
    {
      "cell_type": "code",
      "metadata": {
        "id": "R2GlFhcElHnz"
      },
      "source": [
        "# 2018-02-28 14시 예보 추가\n",
        "dangjin_fcst_df = pd.concat([dangjin_feb_fcst_df, dangjin_fcst_df])"
      ],
      "execution_count": 85,
      "outputs": []
    },
    {
      "cell_type": "code",
      "metadata": {
        "id": "_U65v5w9qJ6e"
      },
      "source": [
        "\"\"\"\n",
        "- DACON.Dobby님의 소스를 참고하였습니다.\n",
        "- https://dacon.io/competitions/official/235720/codeshare/2499?page=1&dtype=recent\n",
        "\"\"\"\n",
        "def make_fcst_df(df):\n",
        "    df['Forecast time'] = pd.to_datetime(df['Forecast time'])\n",
        "\n",
        "    # 14시 예보만 사용\n",
        "    fcst_14_df = df[df['Forecast time'].dt.hour == 14]\n",
        "\n",
        "    # 다음 날의 기상 예보가 필요하여 예보시간 기준 10시간 후(00:00)부터 33시간 후(23:00) 데이터만 사용\n",
        "    fcst_14_df = fcst_14_df[(fcst_14_df['forecast'] >= 10) & (fcst_14_df['forecast'] <= 33)]\n",
        "\n",
        "    # 예보 시점에 focast를 더하여 예보 시각을 구한다.\n",
        "    fcst_14_df['Forecast_time'] = fcst_14_df['Forecast time'] + fcst_14_df['forecast'].map(lambda x: pd.DateOffset(hours=x))\n",
        "\n",
        "    # 풍향을 radian으로\n",
        "    # fcst_14_df['WindDirection_Rad'] = fcst_14_df['WindDirection'] * np.pi / 180\n",
        "\n",
        "    fcst_14_df =  fcst_14_df[['Forecast_time', 'Temperature', 'Humidity', 'WindSpeed', 'WindDirection', 'Cloud']]\n",
        "\n",
        "    # 태양광 발전량 예측은 1시간 간격으로 해야하나 예보는 3시간 간격으로 나오기 떄문에 선형보간법을 활용하여 비어있는 값을 채운다\n",
        "    # 한시간 간격의 데이터프레임을 생성\n",
        "    fcst_14_df_ = pd.DataFrame()\n",
        "    fcst_14_df_['Forecast_time'] = pd.date_range(start='2018-03-01 00:00:00', end='2021-03-01 23:00:00', freq='H')\n",
        "\n",
        "    # 기존 예보 df와 병합\n",
        "    fcst_14_df_ = pd.merge(fcst_14_df_, fcst_14_df, on='Forecast_time', how='outer')\n",
        "\n",
        "    # 선형보간\n",
        "    inter_fcst_14_df = fcst_14_df_.interpolate()\n",
        "\n",
        "    return inter_fcst_14_df\n",
        "    "
      ],
      "execution_count": 86,
      "outputs": []
    },
    {
      "cell_type": "code",
      "metadata": {
        "colab": {
          "base_uri": "https://localhost:8080/"
        },
        "id": "Tcdd7uzTcHbT",
        "outputId": "2372574b-64f5-46ef-ea57-2eecfa8d1d2c"
      },
      "source": [
        "# 선형보간\n",
        "inter_dangjin_fcst_14_df = make_fcst_df(dangjin_fcst_df)"
      ],
      "execution_count": 87,
      "outputs": [
        {
          "output_type": "stream",
          "text": [
            "/usr/local/lib/python3.7/dist-packages/pandas/core/arrays/datetimelike.py:1345: PerformanceWarning: Adding/subtracting object-dtype array to DatetimeArray not vectorized\n",
            "  PerformanceWarning,\n"
          ],
          "name": "stderr"
        }
      ]
    },
    {
      "cell_type": "markdown",
      "metadata": {
        "id": "oqPJfzS2pk2w"
      },
      "source": [
        "## ulsan_fcst_data.csv - 울산지역 발전소 동네 예보\n",
        "- Forecast time : 예보 발표 시점\n",
        "- forecast : 예보 시간 (ex - Forecast time:2018-03-01 11:00:00, forecast:4.0 => 2018-03-01 11:00:00에 발표한 2018-03-01 15:00:00 예보\n",
        "\n",
        "### 예보 발표 시점 'forecast'시간 후 기상 예보\n",
        "- Temperature : 온도(℃)\n",
        "- Humidity : 습도(%)\n",
        "- WindSpeed : 풍속(m/s)\n",
        "- WindDirection : 풍향(º)\n",
        "- Cloud : 하늘상태(1-맑음, 2-구름보통, 3-구름많음, 4-흐림)"
      ]
    },
    {
      "cell_type": "code",
      "metadata": {
        "colab": {
          "base_uri": "https://localhost:8080/"
        },
        "id": "cs8VUPBKsMi9",
        "outputId": "6ebf7fae-9921-4516-e0ea-a05427bff21f"
      },
      "source": [
        "ulsan_fcst_df.info()"
      ],
      "execution_count": 88,
      "outputs": [
        {
          "output_type": "stream",
          "text": [
            "<class 'pandas.core.frame.DataFrame'>\n",
            "RangeIndex: 162208 entries, 0 to 162207\n",
            "Data columns (total 7 columns):\n",
            " #   Column         Non-Null Count   Dtype  \n",
            "---  ------         --------------   -----  \n",
            " 0   Forecast time  162208 non-null  object \n",
            " 1   forecast       162208 non-null  float64\n",
            " 2   Temperature    162208 non-null  float64\n",
            " 3   Humidity       162208 non-null  float64\n",
            " 4   WindSpeed      162208 non-null  float64\n",
            " 5   WindDirection  162208 non-null  float64\n",
            " 6   Cloud          162208 non-null  float64\n",
            "dtypes: float64(6), object(1)\n",
            "memory usage: 8.7+ MB\n"
          ],
          "name": "stdout"
        }
      ]
    },
    {
      "cell_type": "code",
      "metadata": {
        "id": "bNxN4OC8k0xu"
      },
      "source": [
        "ulsan_feb_temperature_df = pd.read_csv('./data/ulsan/선암동_3시간기온_201802_201802.csv')\n",
        "ulsan_feb_humidity_df = pd.read_csv('./data/ulsan/선암동_습도_201802_201802.csv')\n",
        "ulsan_feb_wind_direction_df = pd.read_csv('./data/ulsan/선암동_풍향_201802_201802.csv')\n",
        "ulsan_feb_wind_speed_df = pd.read_csv('./data/ulsan/선암동_풍속_201802_201802.csv')\n",
        "ulsan_feb_cloud_df = pd.read_csv('./data/ulsan/선암동_하늘상태_201802_201802.csv')"
      ],
      "execution_count": 89,
      "outputs": []
    },
    {
      "cell_type": "code",
      "metadata": {
        "id": "z6k16_E2bj_L"
      },
      "source": [
        "ulsan_feb_temperature_df = filter_feb_14hour_data(ulsan_feb_temperature_df, 'Temperature')\n",
        "ulsan_feb_humidity_df = filter_feb_14hour_data(ulsan_feb_humidity_df, 'Humidity')\n",
        "ulsan_feb_wind_direction_df = filter_feb_14hour_data(ulsan_feb_wind_direction_df, 'WindDirection')\n",
        "ulsan_feb_wind_speed_df = filter_feb_14hour_data(ulsan_feb_wind_speed_df, 'WindSpeed')\n",
        "ulsan_feb_cloud_df = filter_feb_14hour_data(ulsan_feb_cloud_df, 'Cloud')"
      ],
      "execution_count": 90,
      "outputs": []
    },
    {
      "cell_type": "code",
      "metadata": {
        "id": "cuU1dvsLlM_H"
      },
      "source": [
        "dfs = [ulsan_feb_temperature_df, ulsan_feb_humidity_df, ulsan_feb_wind_direction_df, ulsan_feb_wind_speed_df, ulsan_feb_cloud_df]\n",
        "ulsan_feb_fcst_df = reduce(lambda df_left, df_right: pd.merge(df_left, df_right, how = 'left'), dfs)"
      ],
      "execution_count": 91,
      "outputs": []
    },
    {
      "cell_type": "code",
      "metadata": {
        "id": "JWEw7IMfqOPQ"
      },
      "source": [
        "# 2018-02-28 14시 예보 추가\n",
        "ulsan_fcst_df = pd.concat([ulsan_feb_fcst_df, ulsan_fcst_df])"
      ],
      "execution_count": 92,
      "outputs": []
    },
    {
      "cell_type": "code",
      "metadata": {
        "colab": {
          "base_uri": "https://localhost:8080/"
        },
        "id": "JONvSIbUsWFe",
        "outputId": "9ac22247-a122-474b-a9ca-37d07c6aa54f"
      },
      "source": [
        "# # 선형보간\n",
        "inter_ulsan_fcst_14_df = make_fcst_df(ulsan_fcst_df)"
      ],
      "execution_count": 93,
      "outputs": [
        {
          "output_type": "stream",
          "text": [
            "/usr/local/lib/python3.7/dist-packages/pandas/core/arrays/datetimelike.py:1345: PerformanceWarning: Adding/subtracting object-dtype array to DatetimeArray not vectorized\n",
            "  PerformanceWarning,\n"
          ],
          "name": "stderr"
        }
      ]
    },
    {
      "cell_type": "markdown",
      "metadata": {
        "id": "hjf5dmhYf0lB"
      },
      "source": [
        "## 학습데이터 전처리\n",
        "### 1. 기상정보와 발전량 merge\n",
        "### 2. 결측치 확인 및 fillna\n",
        "### 3. 발전량이 0인 데이터 제거\n",
        "### 4. 시간 데이터 전처리"
      ]
    },
    {
      "cell_type": "code",
      "metadata": {
        "colab": {
          "base_uri": "https://localhost:8080/",
          "height": 419
        },
        "id": "oBOa0u5McY1v",
        "outputId": "87243682-5d15-41a0-cced-e24c7a56bc59"
      },
      "source": [
        "energy_df"
      ],
      "execution_count": 94,
      "outputs": [
        {
          "output_type": "execute_result",
          "data": {
            "text/html": [
              "<div>\n",
              "<style scoped>\n",
              "    .dataframe tbody tr th:only-of-type {\n",
              "        vertical-align: middle;\n",
              "    }\n",
              "\n",
              "    .dataframe tbody tr th {\n",
              "        vertical-align: top;\n",
              "    }\n",
              "\n",
              "    .dataframe thead th {\n",
              "        text-align: right;\n",
              "    }\n",
              "</style>\n",
              "<table border=\"1\" class=\"dataframe\">\n",
              "  <thead>\n",
              "    <tr style=\"text-align: right;\">\n",
              "      <th></th>\n",
              "      <th>time</th>\n",
              "      <th>year</th>\n",
              "      <th>month</th>\n",
              "      <th>day</th>\n",
              "      <th>dayofweek</th>\n",
              "      <th>hour</th>\n",
              "      <th>dangjin_floating</th>\n",
              "      <th>dangjin_warehouse</th>\n",
              "      <th>dangjin</th>\n",
              "      <th>ulsan</th>\n",
              "    </tr>\n",
              "  </thead>\n",
              "  <tbody>\n",
              "    <tr>\n",
              "      <th>0</th>\n",
              "      <td>2018-03-01 01:00:00</td>\n",
              "      <td>2018</td>\n",
              "      <td>3</td>\n",
              "      <td>1</td>\n",
              "      <td>3</td>\n",
              "      <td>1</td>\n",
              "      <td>0.0</td>\n",
              "      <td>0.0</td>\n",
              "      <td>0</td>\n",
              "      <td>0</td>\n",
              "    </tr>\n",
              "    <tr>\n",
              "      <th>1</th>\n",
              "      <td>2018-03-01 02:00:00</td>\n",
              "      <td>2018</td>\n",
              "      <td>3</td>\n",
              "      <td>1</td>\n",
              "      <td>3</td>\n",
              "      <td>2</td>\n",
              "      <td>0.0</td>\n",
              "      <td>0.0</td>\n",
              "      <td>0</td>\n",
              "      <td>0</td>\n",
              "    </tr>\n",
              "    <tr>\n",
              "      <th>2</th>\n",
              "      <td>2018-03-01 03:00:00</td>\n",
              "      <td>2018</td>\n",
              "      <td>3</td>\n",
              "      <td>1</td>\n",
              "      <td>3</td>\n",
              "      <td>3</td>\n",
              "      <td>0.0</td>\n",
              "      <td>0.0</td>\n",
              "      <td>0</td>\n",
              "      <td>0</td>\n",
              "    </tr>\n",
              "    <tr>\n",
              "      <th>3</th>\n",
              "      <td>2018-03-01 04:00:00</td>\n",
              "      <td>2018</td>\n",
              "      <td>3</td>\n",
              "      <td>1</td>\n",
              "      <td>3</td>\n",
              "      <td>4</td>\n",
              "      <td>0.0</td>\n",
              "      <td>0.0</td>\n",
              "      <td>0</td>\n",
              "      <td>0</td>\n",
              "    </tr>\n",
              "    <tr>\n",
              "      <th>4</th>\n",
              "      <td>2018-03-01 05:00:00</td>\n",
              "      <td>2018</td>\n",
              "      <td>3</td>\n",
              "      <td>1</td>\n",
              "      <td>3</td>\n",
              "      <td>5</td>\n",
              "      <td>0.0</td>\n",
              "      <td>0.0</td>\n",
              "      <td>0</td>\n",
              "      <td>0</td>\n",
              "    </tr>\n",
              "    <tr>\n",
              "      <th>...</th>\n",
              "      <td>...</td>\n",
              "      <td>...</td>\n",
              "      <td>...</td>\n",
              "      <td>...</td>\n",
              "      <td>...</td>\n",
              "      <td>...</td>\n",
              "      <td>...</td>\n",
              "      <td>...</td>\n",
              "      <td>...</td>\n",
              "      <td>...</td>\n",
              "    </tr>\n",
              "    <tr>\n",
              "      <th>25627</th>\n",
              "      <td>2021-01-31 20:00:00</td>\n",
              "      <td>2021</td>\n",
              "      <td>1</td>\n",
              "      <td>31</td>\n",
              "      <td>6</td>\n",
              "      <td>20</td>\n",
              "      <td>0.0</td>\n",
              "      <td>0.0</td>\n",
              "      <td>0</td>\n",
              "      <td>0</td>\n",
              "    </tr>\n",
              "    <tr>\n",
              "      <th>25628</th>\n",
              "      <td>2021-01-31 21:00:00</td>\n",
              "      <td>2021</td>\n",
              "      <td>1</td>\n",
              "      <td>31</td>\n",
              "      <td>6</td>\n",
              "      <td>21</td>\n",
              "      <td>0.0</td>\n",
              "      <td>0.0</td>\n",
              "      <td>0</td>\n",
              "      <td>0</td>\n",
              "    </tr>\n",
              "    <tr>\n",
              "      <th>25629</th>\n",
              "      <td>2021-01-31 22:00:00</td>\n",
              "      <td>2021</td>\n",
              "      <td>1</td>\n",
              "      <td>31</td>\n",
              "      <td>6</td>\n",
              "      <td>22</td>\n",
              "      <td>0.0</td>\n",
              "      <td>0.0</td>\n",
              "      <td>0</td>\n",
              "      <td>0</td>\n",
              "    </tr>\n",
              "    <tr>\n",
              "      <th>25630</th>\n",
              "      <td>2021-01-31 23:00:00</td>\n",
              "      <td>2021</td>\n",
              "      <td>1</td>\n",
              "      <td>31</td>\n",
              "      <td>6</td>\n",
              "      <td>23</td>\n",
              "      <td>0.0</td>\n",
              "      <td>0.0</td>\n",
              "      <td>0</td>\n",
              "      <td>0</td>\n",
              "    </tr>\n",
              "    <tr>\n",
              "      <th>25631</th>\n",
              "      <td>2021-02-01 00:00:00</td>\n",
              "      <td>2021</td>\n",
              "      <td>2</td>\n",
              "      <td>1</td>\n",
              "      <td>0</td>\n",
              "      <td>0</td>\n",
              "      <td>0.0</td>\n",
              "      <td>0.0</td>\n",
              "      <td>0</td>\n",
              "      <td>0</td>\n",
              "    </tr>\n",
              "  </tbody>\n",
              "</table>\n",
              "<p>25632 rows × 10 columns</p>\n",
              "</div>"
            ],
            "text/plain": [
              "                     time  year  month  ...  dangjin_warehouse  dangjin  ulsan\n",
              "0     2018-03-01 01:00:00  2018      3  ...                0.0        0      0\n",
              "1     2018-03-01 02:00:00  2018      3  ...                0.0        0      0\n",
              "2     2018-03-01 03:00:00  2018      3  ...                0.0        0      0\n",
              "3     2018-03-01 04:00:00  2018      3  ...                0.0        0      0\n",
              "4     2018-03-01 05:00:00  2018      3  ...                0.0        0      0\n",
              "...                   ...   ...    ...  ...                ...      ...    ...\n",
              "25627 2021-01-31 20:00:00  2021      1  ...                0.0        0      0\n",
              "25628 2021-01-31 21:00:00  2021      1  ...                0.0        0      0\n",
              "25629 2021-01-31 22:00:00  2021      1  ...                0.0        0      0\n",
              "25630 2021-01-31 23:00:00  2021      1  ...                0.0        0      0\n",
              "25631 2021-02-01 00:00:00  2021      2  ...                0.0        0      0\n",
              "\n",
              "[25632 rows x 10 columns]"
            ]
          },
          "metadata": {
            "tags": []
          },
          "execution_count": 94
        }
      ]
    },
    {
      "cell_type": "code",
      "metadata": {
        "id": "MTl4hT7YsTy5"
      },
      "source": [
        "dangjin_floating_df = energy_df.loc[:, 'time':'dangjin_floating']\n",
        "# dangjin_warehouse_df = energy_df.iloc[:, [0, 1, 2, 4]]\n",
        "# dangjin_df = energy_df.iloc[:, [0, 1, 2, 5]]\n",
        "# ulsan_df = energy_df.iloc[:, [0, 1, 2, 6]]"
      ],
      "execution_count": 97,
      "outputs": []
    },
    {
      "cell_type": "code",
      "metadata": {
        "colab": {
          "base_uri": "https://localhost:8080/",
          "height": 419
        },
        "id": "Z1xWtuliew6e",
        "outputId": "c26b4310-ab7d-4269-ddfc-5ac28690ede2"
      },
      "source": [
        "dangjin_floating_df"
      ],
      "execution_count": 98,
      "outputs": [
        {
          "output_type": "execute_result",
          "data": {
            "text/html": [
              "<div>\n",
              "<style scoped>\n",
              "    .dataframe tbody tr th:only-of-type {\n",
              "        vertical-align: middle;\n",
              "    }\n",
              "\n",
              "    .dataframe tbody tr th {\n",
              "        vertical-align: top;\n",
              "    }\n",
              "\n",
              "    .dataframe thead th {\n",
              "        text-align: right;\n",
              "    }\n",
              "</style>\n",
              "<table border=\"1\" class=\"dataframe\">\n",
              "  <thead>\n",
              "    <tr style=\"text-align: right;\">\n",
              "      <th></th>\n",
              "      <th>time</th>\n",
              "      <th>year</th>\n",
              "      <th>month</th>\n",
              "      <th>day</th>\n",
              "      <th>dayofweek</th>\n",
              "      <th>hour</th>\n",
              "      <th>dangjin_floating</th>\n",
              "    </tr>\n",
              "  </thead>\n",
              "  <tbody>\n",
              "    <tr>\n",
              "      <th>0</th>\n",
              "      <td>2018-03-01 01:00:00</td>\n",
              "      <td>2018</td>\n",
              "      <td>3</td>\n",
              "      <td>1</td>\n",
              "      <td>3</td>\n",
              "      <td>1</td>\n",
              "      <td>0.0</td>\n",
              "    </tr>\n",
              "    <tr>\n",
              "      <th>1</th>\n",
              "      <td>2018-03-01 02:00:00</td>\n",
              "      <td>2018</td>\n",
              "      <td>3</td>\n",
              "      <td>1</td>\n",
              "      <td>3</td>\n",
              "      <td>2</td>\n",
              "      <td>0.0</td>\n",
              "    </tr>\n",
              "    <tr>\n",
              "      <th>2</th>\n",
              "      <td>2018-03-01 03:00:00</td>\n",
              "      <td>2018</td>\n",
              "      <td>3</td>\n",
              "      <td>1</td>\n",
              "      <td>3</td>\n",
              "      <td>3</td>\n",
              "      <td>0.0</td>\n",
              "    </tr>\n",
              "    <tr>\n",
              "      <th>3</th>\n",
              "      <td>2018-03-01 04:00:00</td>\n",
              "      <td>2018</td>\n",
              "      <td>3</td>\n",
              "      <td>1</td>\n",
              "      <td>3</td>\n",
              "      <td>4</td>\n",
              "      <td>0.0</td>\n",
              "    </tr>\n",
              "    <tr>\n",
              "      <th>4</th>\n",
              "      <td>2018-03-01 05:00:00</td>\n",
              "      <td>2018</td>\n",
              "      <td>3</td>\n",
              "      <td>1</td>\n",
              "      <td>3</td>\n",
              "      <td>5</td>\n",
              "      <td>0.0</td>\n",
              "    </tr>\n",
              "    <tr>\n",
              "      <th>...</th>\n",
              "      <td>...</td>\n",
              "      <td>...</td>\n",
              "      <td>...</td>\n",
              "      <td>...</td>\n",
              "      <td>...</td>\n",
              "      <td>...</td>\n",
              "      <td>...</td>\n",
              "    </tr>\n",
              "    <tr>\n",
              "      <th>25627</th>\n",
              "      <td>2021-01-31 20:00:00</td>\n",
              "      <td>2021</td>\n",
              "      <td>1</td>\n",
              "      <td>31</td>\n",
              "      <td>6</td>\n",
              "      <td>20</td>\n",
              "      <td>0.0</td>\n",
              "    </tr>\n",
              "    <tr>\n",
              "      <th>25628</th>\n",
              "      <td>2021-01-31 21:00:00</td>\n",
              "      <td>2021</td>\n",
              "      <td>1</td>\n",
              "      <td>31</td>\n",
              "      <td>6</td>\n",
              "      <td>21</td>\n",
              "      <td>0.0</td>\n",
              "    </tr>\n",
              "    <tr>\n",
              "      <th>25629</th>\n",
              "      <td>2021-01-31 22:00:00</td>\n",
              "      <td>2021</td>\n",
              "      <td>1</td>\n",
              "      <td>31</td>\n",
              "      <td>6</td>\n",
              "      <td>22</td>\n",
              "      <td>0.0</td>\n",
              "    </tr>\n",
              "    <tr>\n",
              "      <th>25630</th>\n",
              "      <td>2021-01-31 23:00:00</td>\n",
              "      <td>2021</td>\n",
              "      <td>1</td>\n",
              "      <td>31</td>\n",
              "      <td>6</td>\n",
              "      <td>23</td>\n",
              "      <td>0.0</td>\n",
              "    </tr>\n",
              "    <tr>\n",
              "      <th>25631</th>\n",
              "      <td>2021-02-01 00:00:00</td>\n",
              "      <td>2021</td>\n",
              "      <td>2</td>\n",
              "      <td>1</td>\n",
              "      <td>0</td>\n",
              "      <td>0</td>\n",
              "      <td>0.0</td>\n",
              "    </tr>\n",
              "  </tbody>\n",
              "</table>\n",
              "<p>25632 rows × 7 columns</p>\n",
              "</div>"
            ],
            "text/plain": [
              "                     time  year  month  day  dayofweek  hour  dangjin_floating\n",
              "0     2018-03-01 01:00:00  2018      3    1          3     1               0.0\n",
              "1     2018-03-01 02:00:00  2018      3    1          3     2               0.0\n",
              "2     2018-03-01 03:00:00  2018      3    1          3     3               0.0\n",
              "3     2018-03-01 04:00:00  2018      3    1          3     4               0.0\n",
              "4     2018-03-01 05:00:00  2018      3    1          3     5               0.0\n",
              "...                   ...   ...    ...  ...        ...   ...               ...\n",
              "25627 2021-01-31 20:00:00  2021      1   31          6    20               0.0\n",
              "25628 2021-01-31 21:00:00  2021      1   31          6    21               0.0\n",
              "25629 2021-01-31 22:00:00  2021      1   31          6    22               0.0\n",
              "25630 2021-01-31 23:00:00  2021      1   31          6    23               0.0\n",
              "25631 2021-02-01 00:00:00  2021      2    1          0     0               0.0\n",
              "\n",
              "[25632 rows x 7 columns]"
            ]
          },
          "metadata": {
            "tags": []
          },
          "execution_count": 98
        }
      ]
    },
    {
      "cell_type": "code",
      "metadata": {
        "id": "D0sZHEiYvyzN"
      },
      "source": [
        "columns = ['time', 'year', 'month', 'day', 'dayofweek', 'hour', 'Temperature', 'Humidity', 'WindSpeed', 'WindDirection', 'Cloud']\n",
        "\n",
        "# 기상정보와 발전량 merge\n",
        "dangjin_floating_df = pd.concat([dangjin_floating_df, inter_dangjin_fcst_14_df],axis=1, join='inner')[columns + ['dangjin_floating']]\n",
        "# dangjin_warehouse_df = pd.concat([dangjin_warehouse_df, inter_dangjin_fcst_14_df],axis=1, join='inner')[columns + ['dangjin_warehouse']]\n",
        "# dangjin_df = pd.concat([dangjin_df, inter_dangjin_fcst_14_df],axis=1, join='inner')[columns + ['dangjin']]\n",
        "# ulsan_df = pd.concat([ulsan_df, inter_dangjin_fcst_14_df],axis=1, join='inner')[columns + ['ulsan']]"
      ],
      "execution_count": 99,
      "outputs": []
    },
    {
      "cell_type": "code",
      "metadata": {
        "colab": {
          "base_uri": "https://localhost:8080/",
          "height": 419
        },
        "id": "puC9GWjtfGtQ",
        "outputId": "9da5cc27-e949-42de-c5a9-df36ac043efe"
      },
      "source": [
        "dangjin_floating_df"
      ],
      "execution_count": 101,
      "outputs": [
        {
          "output_type": "execute_result",
          "data": {
            "text/html": [
              "<div>\n",
              "<style scoped>\n",
              "    .dataframe tbody tr th:only-of-type {\n",
              "        vertical-align: middle;\n",
              "    }\n",
              "\n",
              "    .dataframe tbody tr th {\n",
              "        vertical-align: top;\n",
              "    }\n",
              "\n",
              "    .dataframe thead th {\n",
              "        text-align: right;\n",
              "    }\n",
              "</style>\n",
              "<table border=\"1\" class=\"dataframe\">\n",
              "  <thead>\n",
              "    <tr style=\"text-align: right;\">\n",
              "      <th></th>\n",
              "      <th>time</th>\n",
              "      <th>year</th>\n",
              "      <th>month</th>\n",
              "      <th>day</th>\n",
              "      <th>dayofweek</th>\n",
              "      <th>hour</th>\n",
              "      <th>Temperature</th>\n",
              "      <th>Humidity</th>\n",
              "      <th>WindSpeed</th>\n",
              "      <th>WindDirection</th>\n",
              "      <th>Cloud</th>\n",
              "      <th>dangjin_floating</th>\n",
              "    </tr>\n",
              "  </thead>\n",
              "  <tbody>\n",
              "    <tr>\n",
              "      <th>0</th>\n",
              "      <td>2018-03-01 01:00:00</td>\n",
              "      <td>2018</td>\n",
              "      <td>3</td>\n",
              "      <td>1</td>\n",
              "      <td>3</td>\n",
              "      <td>1</td>\n",
              "      <td>1.000000</td>\n",
              "      <td>85.000000</td>\n",
              "      <td>7.500000</td>\n",
              "      <td>309.000000</td>\n",
              "      <td>3.000000</td>\n",
              "      <td>0.0</td>\n",
              "    </tr>\n",
              "    <tr>\n",
              "      <th>1</th>\n",
              "      <td>2018-03-01 02:00:00</td>\n",
              "      <td>2018</td>\n",
              "      <td>3</td>\n",
              "      <td>1</td>\n",
              "      <td>3</td>\n",
              "      <td>2</td>\n",
              "      <td>1.000000</td>\n",
              "      <td>80.000000</td>\n",
              "      <td>7.133333</td>\n",
              "      <td>310.333333</td>\n",
              "      <td>2.666667</td>\n",
              "      <td>0.0</td>\n",
              "    </tr>\n",
              "    <tr>\n",
              "      <th>2</th>\n",
              "      <td>2018-03-01 03:00:00</td>\n",
              "      <td>2018</td>\n",
              "      <td>3</td>\n",
              "      <td>1</td>\n",
              "      <td>3</td>\n",
              "      <td>3</td>\n",
              "      <td>1.000000</td>\n",
              "      <td>75.000000</td>\n",
              "      <td>6.766667</td>\n",
              "      <td>311.666667</td>\n",
              "      <td>2.333333</td>\n",
              "      <td>0.0</td>\n",
              "    </tr>\n",
              "    <tr>\n",
              "      <th>3</th>\n",
              "      <td>2018-03-01 04:00:00</td>\n",
              "      <td>2018</td>\n",
              "      <td>3</td>\n",
              "      <td>1</td>\n",
              "      <td>3</td>\n",
              "      <td>4</td>\n",
              "      <td>1.000000</td>\n",
              "      <td>70.000000</td>\n",
              "      <td>6.400000</td>\n",
              "      <td>313.000000</td>\n",
              "      <td>2.000000</td>\n",
              "      <td>0.0</td>\n",
              "    </tr>\n",
              "    <tr>\n",
              "      <th>4</th>\n",
              "      <td>2018-03-01 05:00:00</td>\n",
              "      <td>2018</td>\n",
              "      <td>3</td>\n",
              "      <td>1</td>\n",
              "      <td>3</td>\n",
              "      <td>5</td>\n",
              "      <td>0.666667</td>\n",
              "      <td>66.666667</td>\n",
              "      <td>6.666667</td>\n",
              "      <td>311.666667</td>\n",
              "      <td>2.000000</td>\n",
              "      <td>0.0</td>\n",
              "    </tr>\n",
              "    <tr>\n",
              "      <th>...</th>\n",
              "      <td>...</td>\n",
              "      <td>...</td>\n",
              "      <td>...</td>\n",
              "      <td>...</td>\n",
              "      <td>...</td>\n",
              "      <td>...</td>\n",
              "      <td>...</td>\n",
              "      <td>...</td>\n",
              "      <td>...</td>\n",
              "      <td>...</td>\n",
              "      <td>...</td>\n",
              "      <td>...</td>\n",
              "    </tr>\n",
              "    <tr>\n",
              "      <th>25627</th>\n",
              "      <td>2021-01-31 20:00:00</td>\n",
              "      <td>2021</td>\n",
              "      <td>1</td>\n",
              "      <td>31</td>\n",
              "      <td>6</td>\n",
              "      <td>20</td>\n",
              "      <td>5.666667</td>\n",
              "      <td>76.666667</td>\n",
              "      <td>3.266667</td>\n",
              "      <td>170.666667</td>\n",
              "      <td>4.000000</td>\n",
              "      <td>0.0</td>\n",
              "    </tr>\n",
              "    <tr>\n",
              "      <th>25628</th>\n",
              "      <td>2021-01-31 21:00:00</td>\n",
              "      <td>2021</td>\n",
              "      <td>1</td>\n",
              "      <td>31</td>\n",
              "      <td>6</td>\n",
              "      <td>21</td>\n",
              "      <td>5.333333</td>\n",
              "      <td>78.333333</td>\n",
              "      <td>3.433333</td>\n",
              "      <td>167.333333</td>\n",
              "      <td>4.000000</td>\n",
              "      <td>0.0</td>\n",
              "    </tr>\n",
              "    <tr>\n",
              "      <th>25629</th>\n",
              "      <td>2021-01-31 22:00:00</td>\n",
              "      <td>2021</td>\n",
              "      <td>1</td>\n",
              "      <td>31</td>\n",
              "      <td>6</td>\n",
              "      <td>22</td>\n",
              "      <td>5.000000</td>\n",
              "      <td>80.000000</td>\n",
              "      <td>3.600000</td>\n",
              "      <td>164.000000</td>\n",
              "      <td>4.000000</td>\n",
              "      <td>0.0</td>\n",
              "    </tr>\n",
              "    <tr>\n",
              "      <th>25630</th>\n",
              "      <td>2021-01-31 23:00:00</td>\n",
              "      <td>2021</td>\n",
              "      <td>1</td>\n",
              "      <td>31</td>\n",
              "      <td>6</td>\n",
              "      <td>23</td>\n",
              "      <td>5.333333</td>\n",
              "      <td>80.000000</td>\n",
              "      <td>4.266667</td>\n",
              "      <td>168.333333</td>\n",
              "      <td>4.000000</td>\n",
              "      <td>0.0</td>\n",
              "    </tr>\n",
              "    <tr>\n",
              "      <th>25631</th>\n",
              "      <td>2021-02-01 00:00:00</td>\n",
              "      <td>2021</td>\n",
              "      <td>2</td>\n",
              "      <td>1</td>\n",
              "      <td>0</td>\n",
              "      <td>0</td>\n",
              "      <td>5.666667</td>\n",
              "      <td>80.000000</td>\n",
              "      <td>4.933333</td>\n",
              "      <td>172.666667</td>\n",
              "      <td>4.000000</td>\n",
              "      <td>0.0</td>\n",
              "    </tr>\n",
              "  </tbody>\n",
              "</table>\n",
              "<p>25632 rows × 12 columns</p>\n",
              "</div>"
            ],
            "text/plain": [
              "                     time  year  ...     Cloud  dangjin_floating\n",
              "0     2018-03-01 01:00:00  2018  ...  3.000000               0.0\n",
              "1     2018-03-01 02:00:00  2018  ...  2.666667               0.0\n",
              "2     2018-03-01 03:00:00  2018  ...  2.333333               0.0\n",
              "3     2018-03-01 04:00:00  2018  ...  2.000000               0.0\n",
              "4     2018-03-01 05:00:00  2018  ...  2.000000               0.0\n",
              "...                   ...   ...  ...       ...               ...\n",
              "25627 2021-01-31 20:00:00  2021  ...  4.000000               0.0\n",
              "25628 2021-01-31 21:00:00  2021  ...  4.000000               0.0\n",
              "25629 2021-01-31 22:00:00  2021  ...  4.000000               0.0\n",
              "25630 2021-01-31 23:00:00  2021  ...  4.000000               0.0\n",
              "25631 2021-02-01 00:00:00  2021  ...  4.000000               0.0\n",
              "\n",
              "[25632 rows x 12 columns]"
            ]
          },
          "metadata": {
            "tags": []
          },
          "execution_count": 101
        }
      ]
    },
    {
      "cell_type": "code",
      "metadata": {
        "colab": {
          "base_uri": "https://localhost:8080/",
          "height": 34
        },
        "id": "xNyNoreLS3NJ",
        "outputId": "584d5a45-11d8-4a1e-f7fd-a58778ae6504"
      },
      "source": [
        "# 결측치 확인\n",
        "display(dangjin_floating_df['dangjin_floating'].isnull().sum())\n",
        "# display(dangjin_warehouse_df['dangjin_warehouse'].isnull().sum())\n",
        "# display(dangjin_df['dangjin'].isnull().sum()) # 결측치 없음\n",
        "# display(ulsan_df['ulsan'].isnull().sum()) # 결측치 없음"
      ],
      "execution_count": 100,
      "outputs": [
        {
          "output_type": "display_data",
          "data": {
            "text/plain": [
              "24"
            ]
          },
          "metadata": {
            "tags": []
          }
        }
      ]
    },
    {
      "cell_type": "code",
      "metadata": {
        "id": "qv18efvtOaku"
      },
      "source": [
        "def set_missing_value_group_by_time(df, key):\n",
        "    df[key] = df.groupby(df.time.dt.time, sort=False)[key].apply(lambda x: x.fillna(x.mean()))\n",
        "    return df\n",
        "\n",
        "def filter_zero(df, key):\n",
        "    df = df[df[key] != 0]\n",
        "    return df"
      ],
      "execution_count": 105,
      "outputs": []
    },
    {
      "cell_type": "code",
      "metadata": {
        "id": "fqSRYjIzS-88"
      },
      "source": [
        "# 결측치는 시간별 평균 값으로 채움\n",
        "dangjin_floating_df = set_missing_value_group_by_time(dangjin_floating_df, 'dangjin_floating')\n",
        "# dangjin_warehouse_df = set_missing_value_group_by_time(dangjin_warehouse_df, 'dangjin_warehouse')"
      ],
      "execution_count": 106,
      "outputs": []
    },
    {
      "cell_type": "code",
      "metadata": {
        "id": "MbCA4yJng7A0"
      },
      "source": [
        "# 발전량이 0인 데이터 제거\n",
        "dangjin_floating_df = filter_zero(dangjin_floating_df, 'dangjin_floating')\n",
        "# dangjin_warehouse_df = filter_zero(dangjin_warehouse_df, 'dangjin_warehouse')\n",
        "# dangjin_df = filter_zero(dangjin_df, 'dangjin')\n",
        "# ulsan_df = filter_zero(ulsan_df, 'ulsan')"
      ],
      "execution_count": null,
      "outputs": []
    },
    {
      "cell_type": "code",
      "metadata": {
        "colab": {
          "base_uri": "https://localhost:8080/",
          "height": 419
        },
        "id": "Kj08c6Hno5-F",
        "outputId": "0aaeb1c6-f0e6-4f96-bd66-3bc48f3c4c78"
      },
      "source": [
        "dangjin_floating_df"
      ],
      "execution_count": 107,
      "outputs": [
        {
          "output_type": "execute_result",
          "data": {
            "text/html": [
              "<div>\n",
              "<style scoped>\n",
              "    .dataframe tbody tr th:only-of-type {\n",
              "        vertical-align: middle;\n",
              "    }\n",
              "\n",
              "    .dataframe tbody tr th {\n",
              "        vertical-align: top;\n",
              "    }\n",
              "\n",
              "    .dataframe thead th {\n",
              "        text-align: right;\n",
              "    }\n",
              "</style>\n",
              "<table border=\"1\" class=\"dataframe\">\n",
              "  <thead>\n",
              "    <tr style=\"text-align: right;\">\n",
              "      <th></th>\n",
              "      <th>time</th>\n",
              "      <th>year</th>\n",
              "      <th>month</th>\n",
              "      <th>day</th>\n",
              "      <th>dayofweek</th>\n",
              "      <th>hour</th>\n",
              "      <th>Temperature</th>\n",
              "      <th>Humidity</th>\n",
              "      <th>WindSpeed</th>\n",
              "      <th>WindDirection</th>\n",
              "      <th>Cloud</th>\n",
              "      <th>dangjin_floating</th>\n",
              "    </tr>\n",
              "  </thead>\n",
              "  <tbody>\n",
              "    <tr>\n",
              "      <th>0</th>\n",
              "      <td>2018-03-01 01:00:00</td>\n",
              "      <td>2018</td>\n",
              "      <td>3</td>\n",
              "      <td>1</td>\n",
              "      <td>3</td>\n",
              "      <td>1</td>\n",
              "      <td>1.000000</td>\n",
              "      <td>85.000000</td>\n",
              "      <td>7.500000</td>\n",
              "      <td>309.000000</td>\n",
              "      <td>3.000000</td>\n",
              "      <td>0.0</td>\n",
              "    </tr>\n",
              "    <tr>\n",
              "      <th>1</th>\n",
              "      <td>2018-03-01 02:00:00</td>\n",
              "      <td>2018</td>\n",
              "      <td>3</td>\n",
              "      <td>1</td>\n",
              "      <td>3</td>\n",
              "      <td>2</td>\n",
              "      <td>1.000000</td>\n",
              "      <td>80.000000</td>\n",
              "      <td>7.133333</td>\n",
              "      <td>310.333333</td>\n",
              "      <td>2.666667</td>\n",
              "      <td>0.0</td>\n",
              "    </tr>\n",
              "    <tr>\n",
              "      <th>2</th>\n",
              "      <td>2018-03-01 03:00:00</td>\n",
              "      <td>2018</td>\n",
              "      <td>3</td>\n",
              "      <td>1</td>\n",
              "      <td>3</td>\n",
              "      <td>3</td>\n",
              "      <td>1.000000</td>\n",
              "      <td>75.000000</td>\n",
              "      <td>6.766667</td>\n",
              "      <td>311.666667</td>\n",
              "      <td>2.333333</td>\n",
              "      <td>0.0</td>\n",
              "    </tr>\n",
              "    <tr>\n",
              "      <th>3</th>\n",
              "      <td>2018-03-01 04:00:00</td>\n",
              "      <td>2018</td>\n",
              "      <td>3</td>\n",
              "      <td>1</td>\n",
              "      <td>3</td>\n",
              "      <td>4</td>\n",
              "      <td>1.000000</td>\n",
              "      <td>70.000000</td>\n",
              "      <td>6.400000</td>\n",
              "      <td>313.000000</td>\n",
              "      <td>2.000000</td>\n",
              "      <td>0.0</td>\n",
              "    </tr>\n",
              "    <tr>\n",
              "      <th>4</th>\n",
              "      <td>2018-03-01 05:00:00</td>\n",
              "      <td>2018</td>\n",
              "      <td>3</td>\n",
              "      <td>1</td>\n",
              "      <td>3</td>\n",
              "      <td>5</td>\n",
              "      <td>0.666667</td>\n",
              "      <td>66.666667</td>\n",
              "      <td>6.666667</td>\n",
              "      <td>311.666667</td>\n",
              "      <td>2.000000</td>\n",
              "      <td>0.0</td>\n",
              "    </tr>\n",
              "    <tr>\n",
              "      <th>...</th>\n",
              "      <td>...</td>\n",
              "      <td>...</td>\n",
              "      <td>...</td>\n",
              "      <td>...</td>\n",
              "      <td>...</td>\n",
              "      <td>...</td>\n",
              "      <td>...</td>\n",
              "      <td>...</td>\n",
              "      <td>...</td>\n",
              "      <td>...</td>\n",
              "      <td>...</td>\n",
              "      <td>...</td>\n",
              "    </tr>\n",
              "    <tr>\n",
              "      <th>25627</th>\n",
              "      <td>2021-01-31 20:00:00</td>\n",
              "      <td>2021</td>\n",
              "      <td>1</td>\n",
              "      <td>31</td>\n",
              "      <td>6</td>\n",
              "      <td>20</td>\n",
              "      <td>5.666667</td>\n",
              "      <td>76.666667</td>\n",
              "      <td>3.266667</td>\n",
              "      <td>170.666667</td>\n",
              "      <td>4.000000</td>\n",
              "      <td>0.0</td>\n",
              "    </tr>\n",
              "    <tr>\n",
              "      <th>25628</th>\n",
              "      <td>2021-01-31 21:00:00</td>\n",
              "      <td>2021</td>\n",
              "      <td>1</td>\n",
              "      <td>31</td>\n",
              "      <td>6</td>\n",
              "      <td>21</td>\n",
              "      <td>5.333333</td>\n",
              "      <td>78.333333</td>\n",
              "      <td>3.433333</td>\n",
              "      <td>167.333333</td>\n",
              "      <td>4.000000</td>\n",
              "      <td>0.0</td>\n",
              "    </tr>\n",
              "    <tr>\n",
              "      <th>25629</th>\n",
              "      <td>2021-01-31 22:00:00</td>\n",
              "      <td>2021</td>\n",
              "      <td>1</td>\n",
              "      <td>31</td>\n",
              "      <td>6</td>\n",
              "      <td>22</td>\n",
              "      <td>5.000000</td>\n",
              "      <td>80.000000</td>\n",
              "      <td>3.600000</td>\n",
              "      <td>164.000000</td>\n",
              "      <td>4.000000</td>\n",
              "      <td>0.0</td>\n",
              "    </tr>\n",
              "    <tr>\n",
              "      <th>25630</th>\n",
              "      <td>2021-01-31 23:00:00</td>\n",
              "      <td>2021</td>\n",
              "      <td>1</td>\n",
              "      <td>31</td>\n",
              "      <td>6</td>\n",
              "      <td>23</td>\n",
              "      <td>5.333333</td>\n",
              "      <td>80.000000</td>\n",
              "      <td>4.266667</td>\n",
              "      <td>168.333333</td>\n",
              "      <td>4.000000</td>\n",
              "      <td>0.0</td>\n",
              "    </tr>\n",
              "    <tr>\n",
              "      <th>25631</th>\n",
              "      <td>2021-02-01 00:00:00</td>\n",
              "      <td>2021</td>\n",
              "      <td>2</td>\n",
              "      <td>1</td>\n",
              "      <td>0</td>\n",
              "      <td>0</td>\n",
              "      <td>5.666667</td>\n",
              "      <td>80.000000</td>\n",
              "      <td>4.933333</td>\n",
              "      <td>172.666667</td>\n",
              "      <td>4.000000</td>\n",
              "      <td>0.0</td>\n",
              "    </tr>\n",
              "  </tbody>\n",
              "</table>\n",
              "<p>25632 rows × 12 columns</p>\n",
              "</div>"
            ],
            "text/plain": [
              "                     time  year  ...     Cloud  dangjin_floating\n",
              "0     2018-03-01 01:00:00  2018  ...  3.000000               0.0\n",
              "1     2018-03-01 02:00:00  2018  ...  2.666667               0.0\n",
              "2     2018-03-01 03:00:00  2018  ...  2.333333               0.0\n",
              "3     2018-03-01 04:00:00  2018  ...  2.000000               0.0\n",
              "4     2018-03-01 05:00:00  2018  ...  2.000000               0.0\n",
              "...                   ...   ...  ...       ...               ...\n",
              "25627 2021-01-31 20:00:00  2021  ...  4.000000               0.0\n",
              "25628 2021-01-31 21:00:00  2021  ...  4.000000               0.0\n",
              "25629 2021-01-31 22:00:00  2021  ...  4.000000               0.0\n",
              "25630 2021-01-31 23:00:00  2021  ...  4.000000               0.0\n",
              "25631 2021-02-01 00:00:00  2021  ...  4.000000               0.0\n",
              "\n",
              "[25632 rows x 12 columns]"
            ]
          },
          "metadata": {
            "tags": []
          },
          "execution_count": 107
        }
      ]
    },
    {
      "cell_type": "code",
      "metadata": {
        "id": "Sbb04dVwomYJ"
      },
      "source": [
        "# # 시간데이터 전처리\n",
        "# import time\n",
        "# import numpy as np\n",
        "\n",
        "# def set_normalize_time(df, key):\n",
        "#     day = 24 * 60 * 60\n",
        "#     year = (365.2425) * day\n",
        "\n",
        "#     timestamp_s = df['start_time'].map(lambda x: time.mktime(pd.Timestamp(x).timetuple()))\n",
        "\n",
        "#     df['Day_sin'] = np.sin(timestamp_s * (2 * np.pi / day))\n",
        "#     df['Day_cos'] = np.cos(timestamp_s * (2 * np.pi / day))\n",
        "#     df['Year_sin'] = np.sin(timestamp_s * (2 * np.pi / year))\n",
        "#     df['Year_cos'] = np.cos(timestamp_s * (2 * np.pi / year))\n",
        "\n",
        "#     return df[['Day_sin', 'Day_cos', 'Year_sin', 'Year_cos', 'Temperature', 'Humidity', 'WindSpeed', 'WindDirection', 'Cloud', key]]"
      ],
      "execution_count": null,
      "outputs": []
    },
    {
      "cell_type": "code",
      "metadata": {
        "id": "GtbhrWbZcMUf"
      },
      "source": [
        "dangjin_floating_df = set_normalize_time(dangjin_floating_df, 'dangjin_floating')\n",
        "# dangjin_warehouse_df = set_normalize_time(dangjin_warehouse_df, 'dangjin_warehouse')\n",
        "# dangjin_df = set_normalize_time(dangjin_df, 'dangjin')\n",
        "# ulsan_df = set_normalize_time(ulsan_df, 'ulsan')"
      ],
      "execution_count": null,
      "outputs": []
    },
    {
      "cell_type": "code",
      "metadata": {
        "id": "gj6BvsXRt9zW"
      },
      "source": [
        "# 데이터 분할 및 정규화\n",
        "def split_df(df):\n",
        "    n = len(df)\n",
        "    train_df = df[0:int(n*0.7)]\n",
        "    val_df = df[int(n*0.7):int(n*0.9)]\n",
        "    test_df = df[int(n*0.9):]\n",
        "\n",
        "    display()\n",
        "    \n",
        "\n",
        "    # train_x = train_df.loc[:, 'Day_sin': 'Cloud']\n",
        "    train_x = train_df.loc[:, 'year': 'Cloud']\n",
        "    train_y = train_df.iloc[:,-1:]\n",
        "    \n",
        "    # val_x = val_df.loc[:, 'Day_sin': 'Cloud']\n",
        "    val_x = val_df.loc[:, 'year': 'Cloud']\n",
        "    val_y = val_df.iloc[:, -1:]\n",
        "\n",
        "    # test_x = test_df.loc[:, 'Day_sin': 'Cloud']\n",
        "    test_x = test_df.loc[:, 'year': 'Cloud']\n",
        "    test_y = test_df.iloc[:, -1:]\n",
        "\n",
        "    train_mean = train_x.mean()\n",
        "    train_std = train_x.std()\n",
        "\n",
        "    train_x = (train_x - train_mean) / train_std\n",
        "    val_x = (val_x - train_mean) / train_std\n",
        "    test_x = (test_x - train_mean) / train_std\n",
        "\n",
        "    return train_x, train_y, val_x, val_y, test_x, test_y"
      ],
      "execution_count": 108,
      "outputs": []
    },
    {
      "cell_type": "code",
      "metadata": {
        "id": "CVf_y0BPtWHF"
      },
      "source": [
        "train_x, train_y, val_x, val_y, test_x, test_y = split_df(dangjin_floating_df)"
      ],
      "execution_count": 109,
      "outputs": []
    },
    {
      "cell_type": "code",
      "metadata": {
        "colab": {
          "base_uri": "https://localhost:8080/"
        },
        "id": "WEr_f_jfP9nL",
        "outputId": "800705a3-48bb-4007-f874-dfefc1a4dd19"
      },
      "source": [
        "train_x.shape"
      ],
      "execution_count": 110,
      "outputs": [
        {
          "output_type": "execute_result",
          "data": {
            "text/plain": [
              "(17942, 10)"
            ]
          },
          "metadata": {
            "tags": []
          },
          "execution_count": 110
        }
      ]
    },
    {
      "cell_type": "code",
      "metadata": {
        "colab": {
          "base_uri": "https://localhost:8080/"
        },
        "id": "tp92B6CuP_Kr",
        "outputId": "c1ec880c-d7bd-41d1-f430-9d1e3a068d2a"
      },
      "source": [
        "train_y.shape"
      ],
      "execution_count": 111,
      "outputs": [
        {
          "output_type": "execute_result",
          "data": {
            "text/plain": [
              "(17942, 1)"
            ]
          },
          "metadata": {
            "tags": []
          },
          "execution_count": 111
        }
      ]
    },
    {
      "cell_type": "code",
      "metadata": {
        "id": "SXlVztF3wW8g"
      },
      "source": [
        "# 데이터셋 생성\n",
        "import tensorflow as tf\n",
        "\n",
        "WINDOW_SIZE = 24 * 30\n",
        "BATCH_SIZE = 32\n",
        "LEARNING_RATE = 0.0005\n",
        "\n",
        "def windowed_dataset(x, y, window_size, batch_size, shuffle, target):\n",
        "    # X 데이터\n",
        "    ds_x = tf.data.Dataset.from_tensor_slices(x)\n",
        "    ds_x = ds_x.window(window_size, shift = 1, stride = 1, drop_remainder = True)\n",
        "    ds_x = ds_x.flat_map(lambda x: x.batch(window_size))\n",
        "\n",
        "    # Y 데이터\n",
        "    ds_y = tf.data.Dataset.from_tensor_slices(y[target][window_size:])\n",
        "\n",
        "    # zip\n",
        "    ds = tf.data.Dataset.zip((ds_x, ds_y))\n",
        "\n",
        "    if shuffle:\n",
        "        ds = ds.shuffle(1000)\n",
        "    \n",
        "    return ds.batch(batch_size).prefetch(1)"
      ],
      "execution_count": 112,
      "outputs": []
    },
    {
      "cell_type": "code",
      "metadata": {
        "id": "i5u1c1zOHzo_"
      },
      "source": [
        "train_data = windowed_dataset(train_x, train_y, WINDOW_SIZE, BATCH_SIZE, True, 'dangjin_floating')\n",
        "val_data = windowed_dataset(val_x, val_y, WINDOW_SIZE, BATCH_SIZE, False, 'dangjin_floating')"
      ],
      "execution_count": 113,
      "outputs": []
    },
    {
      "cell_type": "code",
      "metadata": {
        "colab": {
          "base_uri": "https://localhost:8080/"
        },
        "id": "oe_Bb1SeRFdO",
        "outputId": "8b443e3f-86bd-4c15-d5c5-80f443474be0"
      },
      "source": [
        "for x, y in train_data.take(1):\n",
        "    print(x.shape)"
      ],
      "execution_count": 114,
      "outputs": [
        {
          "output_type": "stream",
          "text": [
            "(32, 720, 10)\n"
          ],
          "name": "stdout"
        }
      ]
    },
    {
      "cell_type": "code",
      "metadata": {
        "id": "JgzQIdLtNj3N"
      },
      "source": [
        "from tensorflow.keras.models import Sequential\n",
        "from tensorflow.keras.layers import Dense, LSTM, Conv1D, Lambda, GRU, Bidirectional, Dropout\n",
        "from tensorflow.keras.losses import Huber\n",
        "from tensorflow.keras.optimizers import Adam\n",
        "from tensorflow.keras.callbacks import EarlyStopping, ModelCheckpoint\n",
        "\n",
        "model = Sequential([\n",
        "    Bidirectional(LSTM(32, return_sequences=True, dropout=0.5, input_shape = (None, 10, ))),\n",
        "    Bidirectional(LSTM(16, return_sequences=True, dropout=0.5, input_shape = (None, 10, ))),\n",
        "    Dense(16, activation='relu'),\n",
        "    Dropout(0.5),\n",
        "    Dense(8, activation='relu'),\n",
        "    Dropout(0.5),\n",
        "    Dense(1)\n",
        "])"
      ],
      "execution_count": 115,
      "outputs": []
    },
    {
      "cell_type": "code",
      "metadata": {
        "id": "VCHeUk5TXrMb"
      },
      "source": [
        "loss = Huber()\n",
        "optimizer = Adam(LEARNING_RATE)\n",
        "model.compile(loss=Huber(), optimizer=optimizer, metrics=['mae'])"
      ],
      "execution_count": 116,
      "outputs": []
    },
    {
      "cell_type": "code",
      "metadata": {
        "id": "JeBKybuVptS9"
      },
      "source": [
        "# earlystopping은 10번 epoch통안 val_loss 개선이 없다면 학습을 멈춥니다.\n",
        "early_stopping = EarlyStopping(monitor='val_loss', patience=100)\n",
        "\n",
        "# val_loss 기준 체크포인터도 생성합니다.\n",
        "filename = os.path.join('tmp', 'ckeckpointer.ckpt')\n",
        "checkpoint = ModelCheckpoint(\n",
        "    filename, \n",
        "    save_weights_only=True, \n",
        "    save_best_only=True, \n",
        "    monitor='val_loss', \n",
        "    verbose=1\n",
        ")"
      ],
      "execution_count": 117,
      "outputs": []
    },
    {
      "cell_type": "code",
      "metadata": {
        "colab": {
          "base_uri": "https://localhost:8080/"
        },
        "id": "glPMBaMeXv3h",
        "outputId": "dab0a09b-a95f-4318-9605-8f1cd46f8ec1"
      },
      "source": [
        "EPOCHS = 50\n",
        "\n",
        "history = model.fit(\n",
        "    train_data, \n",
        "    validation_data = (val_data), \n",
        "    epochs = EPOCHS,\n",
        "    batch_size = BATCH_SIZE,\n",
        "    callbacks=[early_stopping, checkpoint]\n",
        ")"
      ],
      "execution_count": null,
      "outputs": [
        {
          "output_type": "stream",
          "text": [
            "Epoch 1/50\n",
            "539/539 [==============================] - 86s 91ms/step - loss: 139.7528 - mae: 140.1300 - val_loss: 121.1091 - val_mae: 121.5737\n",
            "\n",
            "Epoch 00001: val_loss improved from inf to 121.10912, saving model to tmp/ckeckpointer.ckpt\n",
            "Epoch 2/50\n",
            "539/539 [==============================] - 48s 89ms/step - loss: 139.9818 - mae: 140.4415 - val_loss: 115.1448 - val_mae: 115.5948\n",
            "\n",
            "Epoch 00002: val_loss improved from 121.10912 to 115.14478, saving model to tmp/ckeckpointer.ckpt\n",
            "Epoch 3/50\n",
            "  5/539 [..............................] - ETA: 42s - loss: 133.2997 - mae: 133.7520"
          ],
          "name": "stdout"
        }
      ]
    },
    {
      "cell_type": "code",
      "metadata": {
        "id": "svYmBhUHSLFA"
      },
      "source": [
        ""
      ],
      "execution_count": null,
      "outputs": []
    }
  ]
}