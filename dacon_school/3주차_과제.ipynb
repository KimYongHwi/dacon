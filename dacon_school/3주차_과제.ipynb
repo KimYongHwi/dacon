{
  "nbformat": 4,
  "nbformat_minor": 0,
  "metadata": {
    "colab": {
      "name": "3주차 과제.ipynb",
      "provenance": [],
      "collapsed_sections": [],
      "include_colab_link": true
    },
    "kernelspec": {
      "name": "python3",
      "display_name": "Python 3"
    },
    "language_info": {
      "name": "python"
    },
    "accelerator": "GPU"
  },
  "cells": [
    {
      "cell_type": "markdown",
      "metadata": {
        "id": "view-in-github",
        "colab_type": "text"
      },
      "source": [
        "<a href=\"https://colab.research.google.com/github/KimYongHwi/dacon/blob/main/dacon_school/3%E1%84%8C%E1%85%AE%E1%84%8E%E1%85%A1_%E1%84%80%E1%85%AA%E1%84%8C%E1%85%A6.ipynb\" target=\"_parent\"><img src=\"https://colab.research.google.com/assets/colab-badge.svg\" alt=\"Open In Colab\"/></a>"
      ]
    },
    {
      "cell_type": "markdown",
      "metadata": {
        "id": "JTfQtcZfO12f"
      },
      "source": [
        "# BASELINE CODE 실습"
      ]
    },
    {
      "cell_type": "code",
      "metadata": {
        "id": "JDYyvH5TfjHy"
      },
      "source": [
        "import matplotlib\n",
        "import matplotlib.pyplot as plt\n",
        "import matplotlib.font_manager as fm \n",
        "%matplotlib inline\n",
        "\n",
        "matplotlib.rcParams['axes.unicode_minus'] = False\n",
        "\n",
        "plt.rc('font', family='NanumGothic') "
      ],
      "execution_count": 3,
      "outputs": []
    },
    {
      "cell_type": "code",
      "metadata": {
        "colab": {
          "base_uri": "https://localhost:8080/"
        },
        "id": "43j8aic0fpGG",
        "outputId": "0c2a14bc-abd7-4afa-8c37-a1d623979675"
      },
      "source": [
        "# 폰트 다운 받기\n",
        "!apt-get update -qq\n",
        "!apt -qq -y install fonts-nanum\n",
        " \n",
        "# 폰트 설정하기 \n",
        "path = '/usr/share/fonts/truetype/nanum/NanumBarunGothic.ttf'\n",
        "font = fm.FontProperties(fname=path, size=10)\n",
        "plt.rc('font', family='NanumBarunGothic') \n",
        "matplotlib.font_manager._rebuild()"
      ],
      "execution_count": null,
      "outputs": [
        {
          "output_type": "stream",
          "text": [
            "The following package was automatically installed and is no longer required:\n",
            "  libnvidia-common-460\n",
            "Use 'apt autoremove' to remove it.\n",
            "The following NEW packages will be installed:\n",
            "  fonts-nanum\n",
            "0 upgraded, 1 newly installed, 0 to remove and 72 not upgraded.\n",
            "Need to get 9,604 kB of archives.\n",
            "After this operation, 29.5 MB of additional disk space will be used.\n",
            "Selecting previously unselected package fonts-nanum.\n",
            "(Reading database ... 160706 files and directories currently installed.)\n",
            "Preparing to unpack .../fonts-nanum_20170925-1_all.deb ...\n",
            "Unpacking fonts-nanum (20170925-1) ...\n",
            "Setting up fonts-nanum (20170925-1) ...\n",
            "Processing triggers for fontconfig (2.12.6-0ubuntu2) ...\n"
          ],
          "name": "stdout"
        }
      ]
    },
    {
      "cell_type": "markdown",
      "metadata": {
        "id": "oCNJPUXcORJo"
      },
      "source": [
        "## Library"
      ]
    },
    {
      "cell_type": "code",
      "metadata": {
        "colab": {
          "base_uri": "https://localhost:8080/"
        },
        "id": "ssZcso2_Nu8u",
        "outputId": "84796216-09ec-4148-8758-bcdadc2ab0f8"
      },
      "source": [
        "import numpy as np\n",
        "import pandas as pd\n",
        "import seaborn as sns\n",
        "\n",
        "from sklearn.preprocessing import LabelEncoder\n",
        "from lightgbm import LGBMClassifier\n",
        "from sklearn.metrics import roc_auc_score\n",
        "\n",
        "from google.colab import drive\n",
        "drive.mount('content/', force_remount=True)"
      ],
      "execution_count": 4,
      "outputs": [
        {
          "output_type": "stream",
          "text": [
            "Mounted at content/\n"
          ],
          "name": "stdout"
        }
      ]
    },
    {
      "cell_type": "markdown",
      "metadata": {
        "id": "EdpI1O0POoJW"
      },
      "source": [
        "## Loading data"
      ]
    },
    {
      "cell_type": "code",
      "metadata": {
        "id": "Y4gN793FWSjq"
      },
      "source": [
        "pd.set_option('display.max_columns', 100)\n",
        "pd.set_option('display.max_rows', 100)\n",
        "\n",
        "def load_data():\n",
        "    %cd '/content/content/MyDrive/Dacon school'\n",
        "\n",
        "    data_path = './data/'\n",
        "\n",
        "    train = pd.read_csv(data_path + 'train.csv')\n",
        "    test = pd.read_csv(data_path + 'test_x.csv')\n",
        "    submission = pd.read_csv(data_path+'sample_submission.csv', index_col = 0)\n",
        "\n",
        "    return train, test, submission"
      ],
      "execution_count": 5,
      "outputs": []
    },
    {
      "cell_type": "code",
      "metadata": {
        "colab": {
          "base_uri": "https://localhost:8080/"
        },
        "id": "oCZH04_RWkbK",
        "outputId": "2bf0bb01-4276-43f7-cd46-c6f0baa9693b"
      },
      "source": [
        "train, test, submission = load_data()\n",
        "train_y = train['voted']"
      ],
      "execution_count": 7,
      "outputs": [
        {
          "output_type": "stream",
          "text": [
            "/content/content/MyDrive/Dacon school\n"
          ],
          "name": "stdout"
        }
      ]
    },
    {
      "cell_type": "code",
      "metadata": {
        "colab": {
          "base_uri": "https://localhost:8080/",
          "height": 439
        },
        "id": "shCqE0cmbtdr",
        "outputId": "3ef94276-b1d4-4a69-f934-6d1efbe27933"
      },
      "source": [
        "train"
      ],
      "execution_count": null,
      "outputs": [
        {
          "output_type": "execute_result",
          "data": {
            "text/html": [
              "<div>\n",
              "<style scoped>\n",
              "    .dataframe tbody tr th:only-of-type {\n",
              "        vertical-align: middle;\n",
              "    }\n",
              "\n",
              "    .dataframe tbody tr th {\n",
              "        vertical-align: top;\n",
              "    }\n",
              "\n",
              "    .dataframe thead th {\n",
              "        text-align: right;\n",
              "    }\n",
              "</style>\n",
              "<table border=\"1\" class=\"dataframe\">\n",
              "  <thead>\n",
              "    <tr style=\"text-align: right;\">\n",
              "      <th></th>\n",
              "      <th>index</th>\n",
              "      <th>QaA</th>\n",
              "      <th>QaE</th>\n",
              "      <th>QbA</th>\n",
              "      <th>QbE</th>\n",
              "      <th>QcA</th>\n",
              "      <th>QcE</th>\n",
              "      <th>QdA</th>\n",
              "      <th>QdE</th>\n",
              "      <th>QeA</th>\n",
              "      <th>QeE</th>\n",
              "      <th>QfA</th>\n",
              "      <th>QfE</th>\n",
              "      <th>QgA</th>\n",
              "      <th>QgE</th>\n",
              "      <th>QhA</th>\n",
              "      <th>QhE</th>\n",
              "      <th>QiA</th>\n",
              "      <th>QiE</th>\n",
              "      <th>QjA</th>\n",
              "      <th>QjE</th>\n",
              "      <th>QkA</th>\n",
              "      <th>QkE</th>\n",
              "      <th>QlA</th>\n",
              "      <th>QlE</th>\n",
              "      <th>QmA</th>\n",
              "      <th>QmE</th>\n",
              "      <th>QnA</th>\n",
              "      <th>QnE</th>\n",
              "      <th>QoA</th>\n",
              "      <th>QoE</th>\n",
              "      <th>QpA</th>\n",
              "      <th>QpE</th>\n",
              "      <th>QqA</th>\n",
              "      <th>QqE</th>\n",
              "      <th>QrA</th>\n",
              "      <th>QrE</th>\n",
              "      <th>QsA</th>\n",
              "      <th>QsE</th>\n",
              "      <th>QtA</th>\n",
              "      <th>QtE</th>\n",
              "      <th>age_group</th>\n",
              "      <th>education</th>\n",
              "      <th>engnat</th>\n",
              "      <th>familysize</th>\n",
              "      <th>gender</th>\n",
              "      <th>hand</th>\n",
              "      <th>married</th>\n",
              "      <th>race</th>\n",
              "      <th>religion</th>\n",
              "      <th>tp01</th>\n",
              "      <th>tp02</th>\n",
              "      <th>tp03</th>\n",
              "      <th>tp04</th>\n",
              "      <th>tp05</th>\n",
              "      <th>tp06</th>\n",
              "      <th>tp07</th>\n",
              "      <th>tp08</th>\n",
              "      <th>tp09</th>\n",
              "      <th>tp10</th>\n",
              "      <th>urban</th>\n",
              "      <th>voted</th>\n",
              "      <th>wf_01</th>\n",
              "      <th>wf_02</th>\n",
              "      <th>wf_03</th>\n",
              "      <th>wr_01</th>\n",
              "      <th>wr_02</th>\n",
              "      <th>wr_03</th>\n",
              "      <th>wr_04</th>\n",
              "      <th>wr_05</th>\n",
              "      <th>wr_06</th>\n",
              "      <th>wr_07</th>\n",
              "      <th>wr_08</th>\n",
              "      <th>wr_09</th>\n",
              "      <th>wr_10</th>\n",
              "      <th>wr_11</th>\n",
              "      <th>wr_12</th>\n",
              "      <th>wr_13</th>\n",
              "    </tr>\n",
              "  </thead>\n",
              "  <tbody>\n",
              "    <tr>\n",
              "      <th>0</th>\n",
              "      <td>0</td>\n",
              "      <td>3.0</td>\n",
              "      <td>363</td>\n",
              "      <td>4.0</td>\n",
              "      <td>1370</td>\n",
              "      <td>5.0</td>\n",
              "      <td>997</td>\n",
              "      <td>1.0</td>\n",
              "      <td>1024</td>\n",
              "      <td>2.0</td>\n",
              "      <td>1577</td>\n",
              "      <td>5.0</td>\n",
              "      <td>539</td>\n",
              "      <td>2.0</td>\n",
              "      <td>586</td>\n",
              "      <td>4.0</td>\n",
              "      <td>1095</td>\n",
              "      <td>5.0</td>\n",
              "      <td>1142</td>\n",
              "      <td>4.0</td>\n",
              "      <td>1287</td>\n",
              "      <td>4.0</td>\n",
              "      <td>883</td>\n",
              "      <td>4.0</td>\n",
              "      <td>851</td>\n",
              "      <td>2.0</td>\n",
              "      <td>851</td>\n",
              "      <td>5.0</td>\n",
              "      <td>816</td>\n",
              "      <td>2.0</td>\n",
              "      <td>579</td>\n",
              "      <td>2.0</td>\n",
              "      <td>924</td>\n",
              "      <td>2.0</td>\n",
              "      <td>366</td>\n",
              "      <td>2.0</td>\n",
              "      <td>876</td>\n",
              "      <td>2.0</td>\n",
              "      <td>633</td>\n",
              "      <td>1.0</td>\n",
              "      <td>1115</td>\n",
              "      <td>30s</td>\n",
              "      <td>2</td>\n",
              "      <td>1</td>\n",
              "      <td>4</td>\n",
              "      <td>Female</td>\n",
              "      <td>1</td>\n",
              "      <td>3</td>\n",
              "      <td>White</td>\n",
              "      <td>Other</td>\n",
              "      <td>2</td>\n",
              "      <td>2</td>\n",
              "      <td>2</td>\n",
              "      <td>1</td>\n",
              "      <td>2</td>\n",
              "      <td>1</td>\n",
              "      <td>7</td>\n",
              "      <td>4</td>\n",
              "      <td>4</td>\n",
              "      <td>3</td>\n",
              "      <td>1</td>\n",
              "      <td>2</td>\n",
              "      <td>0</td>\n",
              "      <td>0</td>\n",
              "      <td>0</td>\n",
              "      <td>0</td>\n",
              "      <td>1</td>\n",
              "      <td>0</td>\n",
              "      <td>0</td>\n",
              "      <td>1</td>\n",
              "      <td>0</td>\n",
              "      <td>1</td>\n",
              "      <td>1</td>\n",
              "      <td>0</td>\n",
              "      <td>1</td>\n",
              "      <td>0</td>\n",
              "      <td>1</td>\n",
              "      <td>1</td>\n",
              "    </tr>\n",
              "    <tr>\n",
              "      <th>1</th>\n",
              "      <td>1</td>\n",
              "      <td>5.0</td>\n",
              "      <td>647</td>\n",
              "      <td>5.0</td>\n",
              "      <td>1313</td>\n",
              "      <td>3.0</td>\n",
              "      <td>3387</td>\n",
              "      <td>5.0</td>\n",
              "      <td>2969</td>\n",
              "      <td>1.0</td>\n",
              "      <td>4320</td>\n",
              "      <td>3.0</td>\n",
              "      <td>2190</td>\n",
              "      <td>1.0</td>\n",
              "      <td>826</td>\n",
              "      <td>1.0</td>\n",
              "      <td>4082</td>\n",
              "      <td>5.0</td>\n",
              "      <td>1867</td>\n",
              "      <td>3.0</td>\n",
              "      <td>1264</td>\n",
              "      <td>5.0</td>\n",
              "      <td>2943</td>\n",
              "      <td>4.0</td>\n",
              "      <td>3927</td>\n",
              "      <td>1.0</td>\n",
              "      <td>4329</td>\n",
              "      <td>5.0</td>\n",
              "      <td>1828</td>\n",
              "      <td>1.0</td>\n",
              "      <td>1214</td>\n",
              "      <td>5.0</td>\n",
              "      <td>2414</td>\n",
              "      <td>5.0</td>\n",
              "      <td>1356</td>\n",
              "      <td>1.0</td>\n",
              "      <td>3039</td>\n",
              "      <td>4.0</td>\n",
              "      <td>4304</td>\n",
              "      <td>1.0</td>\n",
              "      <td>1346</td>\n",
              "      <td>20s</td>\n",
              "      <td>4</td>\n",
              "      <td>2</td>\n",
              "      <td>3</td>\n",
              "      <td>Female</td>\n",
              "      <td>1</td>\n",
              "      <td>1</td>\n",
              "      <td>Asian</td>\n",
              "      <td>Hindu</td>\n",
              "      <td>1</td>\n",
              "      <td>1</td>\n",
              "      <td>0</td>\n",
              "      <td>0</td>\n",
              "      <td>1</td>\n",
              "      <td>2</td>\n",
              "      <td>3</td>\n",
              "      <td>4</td>\n",
              "      <td>0</td>\n",
              "      <td>4</td>\n",
              "      <td>3</td>\n",
              "      <td>2</td>\n",
              "      <td>0</td>\n",
              "      <td>0</td>\n",
              "      <td>0</td>\n",
              "      <td>0</td>\n",
              "      <td>1</td>\n",
              "      <td>0</td>\n",
              "      <td>1</td>\n",
              "      <td>1</td>\n",
              "      <td>0</td>\n",
              "      <td>1</td>\n",
              "      <td>1</td>\n",
              "      <td>0</td>\n",
              "      <td>1</td>\n",
              "      <td>0</td>\n",
              "      <td>1</td>\n",
              "      <td>1</td>\n",
              "    </tr>\n",
              "    <tr>\n",
              "      <th>2</th>\n",
              "      <td>2</td>\n",
              "      <td>4.0</td>\n",
              "      <td>1623</td>\n",
              "      <td>1.0</td>\n",
              "      <td>1480</td>\n",
              "      <td>1.0</td>\n",
              "      <td>1021</td>\n",
              "      <td>4.0</td>\n",
              "      <td>3374</td>\n",
              "      <td>5.0</td>\n",
              "      <td>1333</td>\n",
              "      <td>1.0</td>\n",
              "      <td>531</td>\n",
              "      <td>4.0</td>\n",
              "      <td>1167</td>\n",
              "      <td>1.0</td>\n",
              "      <td>1016</td>\n",
              "      <td>3.0</td>\n",
              "      <td>2653</td>\n",
              "      <td>2.0</td>\n",
              "      <td>1569</td>\n",
              "      <td>5.0</td>\n",
              "      <td>998</td>\n",
              "      <td>5.0</td>\n",
              "      <td>2547</td>\n",
              "      <td>2.0</td>\n",
              "      <td>918</td>\n",
              "      <td>4.0</td>\n",
              "      <td>2153</td>\n",
              "      <td>2.0</td>\n",
              "      <td>1304</td>\n",
              "      <td>1.0</td>\n",
              "      <td>1131</td>\n",
              "      <td>5.0</td>\n",
              "      <td>937</td>\n",
              "      <td>4.0</td>\n",
              "      <td>1327</td>\n",
              "      <td>1.0</td>\n",
              "      <td>1170</td>\n",
              "      <td>1.0</td>\n",
              "      <td>1409</td>\n",
              "      <td>30s</td>\n",
              "      <td>3</td>\n",
              "      <td>1</td>\n",
              "      <td>3</td>\n",
              "      <td>Male</td>\n",
              "      <td>1</td>\n",
              "      <td>2</td>\n",
              "      <td>White</td>\n",
              "      <td>Other</td>\n",
              "      <td>2</td>\n",
              "      <td>3</td>\n",
              "      <td>1</td>\n",
              "      <td>5</td>\n",
              "      <td>3</td>\n",
              "      <td>4</td>\n",
              "      <td>2</td>\n",
              "      <td>6</td>\n",
              "      <td>1</td>\n",
              "      <td>3</td>\n",
              "      <td>2</td>\n",
              "      <td>1</td>\n",
              "      <td>0</td>\n",
              "      <td>0</td>\n",
              "      <td>1</td>\n",
              "      <td>1</td>\n",
              "      <td>1</td>\n",
              "      <td>0</td>\n",
              "      <td>1</td>\n",
              "      <td>1</td>\n",
              "      <td>0</td>\n",
              "      <td>1</td>\n",
              "      <td>1</td>\n",
              "      <td>1</td>\n",
              "      <td>1</td>\n",
              "      <td>0</td>\n",
              "      <td>1</td>\n",
              "      <td>1</td>\n",
              "    </tr>\n",
              "    <tr>\n",
              "      <th>3</th>\n",
              "      <td>3</td>\n",
              "      <td>3.0</td>\n",
              "      <td>504</td>\n",
              "      <td>3.0</td>\n",
              "      <td>2311</td>\n",
              "      <td>4.0</td>\n",
              "      <td>992</td>\n",
              "      <td>3.0</td>\n",
              "      <td>3245</td>\n",
              "      <td>1.0</td>\n",
              "      <td>357</td>\n",
              "      <td>2.0</td>\n",
              "      <td>1519</td>\n",
              "      <td>4.0</td>\n",
              "      <td>159</td>\n",
              "      <td>3.0</td>\n",
              "      <td>2275</td>\n",
              "      <td>5.0</td>\n",
              "      <td>2809</td>\n",
              "      <td>4.0</td>\n",
              "      <td>5614</td>\n",
              "      <td>3.0</td>\n",
              "      <td>3219</td>\n",
              "      <td>4.0</td>\n",
              "      <td>1296</td>\n",
              "      <td>4.0</td>\n",
              "      <td>9046</td>\n",
              "      <td>4.0</td>\n",
              "      <td>1216</td>\n",
              "      <td>4.0</td>\n",
              "      <td>1169</td>\n",
              "      <td>4.0</td>\n",
              "      <td>23868</td>\n",
              "      <td>3.0</td>\n",
              "      <td>581</td>\n",
              "      <td>4.0</td>\n",
              "      <td>8830</td>\n",
              "      <td>4.0</td>\n",
              "      <td>2392</td>\n",
              "      <td>5.0</td>\n",
              "      <td>1312</td>\n",
              "      <td>20s</td>\n",
              "      <td>4</td>\n",
              "      <td>2</td>\n",
              "      <td>0</td>\n",
              "      <td>Female</td>\n",
              "      <td>1</td>\n",
              "      <td>1</td>\n",
              "      <td>Asian</td>\n",
              "      <td>Hindu</td>\n",
              "      <td>2</td>\n",
              "      <td>4</td>\n",
              "      <td>1</td>\n",
              "      <td>1</td>\n",
              "      <td>1</td>\n",
              "      <td>3</td>\n",
              "      <td>1</td>\n",
              "      <td>3</td>\n",
              "      <td>1</td>\n",
              "      <td>3</td>\n",
              "      <td>3</td>\n",
              "      <td>1</td>\n",
              "      <td>0</td>\n",
              "      <td>0</td>\n",
              "      <td>0</td>\n",
              "      <td>0</td>\n",
              "      <td>1</td>\n",
              "      <td>0</td>\n",
              "      <td>0</td>\n",
              "      <td>0</td>\n",
              "      <td>0</td>\n",
              "      <td>0</td>\n",
              "      <td>1</td>\n",
              "      <td>0</td>\n",
              "      <td>1</td>\n",
              "      <td>0</td>\n",
              "      <td>1</td>\n",
              "      <td>1</td>\n",
              "    </tr>\n",
              "    <tr>\n",
              "      <th>4</th>\n",
              "      <td>4</td>\n",
              "      <td>1.0</td>\n",
              "      <td>927</td>\n",
              "      <td>1.0</td>\n",
              "      <td>707</td>\n",
              "      <td>5.0</td>\n",
              "      <td>556</td>\n",
              "      <td>2.0</td>\n",
              "      <td>1062</td>\n",
              "      <td>1.0</td>\n",
              "      <td>1014</td>\n",
              "      <td>2.0</td>\n",
              "      <td>628</td>\n",
              "      <td>1.0</td>\n",
              "      <td>991</td>\n",
              "      <td>1.0</td>\n",
              "      <td>1259</td>\n",
              "      <td>5.0</td>\n",
              "      <td>1153</td>\n",
              "      <td>5.0</td>\n",
              "      <td>1388</td>\n",
              "      <td>5.0</td>\n",
              "      <td>740</td>\n",
              "      <td>5.0</td>\n",
              "      <td>1181</td>\n",
              "      <td>4.0</td>\n",
              "      <td>547</td>\n",
              "      <td>2.0</td>\n",
              "      <td>575</td>\n",
              "      <td>1.0</td>\n",
              "      <td>754</td>\n",
              "      <td>4.0</td>\n",
              "      <td>1140</td>\n",
              "      <td>5.0</td>\n",
              "      <td>323</td>\n",
              "      <td>5.0</td>\n",
              "      <td>1070</td>\n",
              "      <td>1.0</td>\n",
              "      <td>583</td>\n",
              "      <td>2.0</td>\n",
              "      <td>1889</td>\n",
              "      <td>20s</td>\n",
              "      <td>3</td>\n",
              "      <td>1</td>\n",
              "      <td>2</td>\n",
              "      <td>Male</td>\n",
              "      <td>1</td>\n",
              "      <td>2</td>\n",
              "      <td>White</td>\n",
              "      <td>Agnostic</td>\n",
              "      <td>1</td>\n",
              "      <td>1</td>\n",
              "      <td>1</td>\n",
              "      <td>6</td>\n",
              "      <td>0</td>\n",
              "      <td>2</td>\n",
              "      <td>0</td>\n",
              "      <td>6</td>\n",
              "      <td>2</td>\n",
              "      <td>6</td>\n",
              "      <td>1</td>\n",
              "      <td>1</td>\n",
              "      <td>0</td>\n",
              "      <td>1</td>\n",
              "      <td>0</td>\n",
              "      <td>1</td>\n",
              "      <td>1</td>\n",
              "      <td>0</td>\n",
              "      <td>1</td>\n",
              "      <td>1</td>\n",
              "      <td>1</td>\n",
              "      <td>1</td>\n",
              "      <td>1</td>\n",
              "      <td>0</td>\n",
              "      <td>1</td>\n",
              "      <td>1</td>\n",
              "      <td>1</td>\n",
              "      <td>1</td>\n",
              "    </tr>\n",
              "    <tr>\n",
              "      <th>...</th>\n",
              "      <td>...</td>\n",
              "      <td>...</td>\n",
              "      <td>...</td>\n",
              "      <td>...</td>\n",
              "      <td>...</td>\n",
              "      <td>...</td>\n",
              "      <td>...</td>\n",
              "      <td>...</td>\n",
              "      <td>...</td>\n",
              "      <td>...</td>\n",
              "      <td>...</td>\n",
              "      <td>...</td>\n",
              "      <td>...</td>\n",
              "      <td>...</td>\n",
              "      <td>...</td>\n",
              "      <td>...</td>\n",
              "      <td>...</td>\n",
              "      <td>...</td>\n",
              "      <td>...</td>\n",
              "      <td>...</td>\n",
              "      <td>...</td>\n",
              "      <td>...</td>\n",
              "      <td>...</td>\n",
              "      <td>...</td>\n",
              "      <td>...</td>\n",
              "      <td>...</td>\n",
              "      <td>...</td>\n",
              "      <td>...</td>\n",
              "      <td>...</td>\n",
              "      <td>...</td>\n",
              "      <td>...</td>\n",
              "      <td>...</td>\n",
              "      <td>...</td>\n",
              "      <td>...</td>\n",
              "      <td>...</td>\n",
              "      <td>...</td>\n",
              "      <td>...</td>\n",
              "      <td>...</td>\n",
              "      <td>...</td>\n",
              "      <td>...</td>\n",
              "      <td>...</td>\n",
              "      <td>...</td>\n",
              "      <td>...</td>\n",
              "      <td>...</td>\n",
              "      <td>...</td>\n",
              "      <td>...</td>\n",
              "      <td>...</td>\n",
              "      <td>...</td>\n",
              "      <td>...</td>\n",
              "      <td>...</td>\n",
              "      <td>...</td>\n",
              "      <td>...</td>\n",
              "      <td>...</td>\n",
              "      <td>...</td>\n",
              "      <td>...</td>\n",
              "      <td>...</td>\n",
              "      <td>...</td>\n",
              "      <td>...</td>\n",
              "      <td>...</td>\n",
              "      <td>...</td>\n",
              "      <td>...</td>\n",
              "      <td>...</td>\n",
              "      <td>...</td>\n",
              "      <td>...</td>\n",
              "      <td>...</td>\n",
              "      <td>...</td>\n",
              "      <td>...</td>\n",
              "      <td>...</td>\n",
              "      <td>...</td>\n",
              "      <td>...</td>\n",
              "      <td>...</td>\n",
              "      <td>...</td>\n",
              "      <td>...</td>\n",
              "      <td>...</td>\n",
              "      <td>...</td>\n",
              "      <td>...</td>\n",
              "      <td>...</td>\n",
              "      <td>...</td>\n",
              "    </tr>\n",
              "    <tr>\n",
              "      <th>45527</th>\n",
              "      <td>45527</td>\n",
              "      <td>2.0</td>\n",
              "      <td>1050</td>\n",
              "      <td>5.0</td>\n",
              "      <td>619</td>\n",
              "      <td>4.0</td>\n",
              "      <td>328</td>\n",
              "      <td>1.0</td>\n",
              "      <td>285</td>\n",
              "      <td>1.0</td>\n",
              "      <td>602</td>\n",
              "      <td>1.0</td>\n",
              "      <td>267</td>\n",
              "      <td>1.0</td>\n",
              "      <td>315</td>\n",
              "      <td>1.0</td>\n",
              "      <td>483</td>\n",
              "      <td>1.0</td>\n",
              "      <td>1016</td>\n",
              "      <td>4.0</td>\n",
              "      <td>278</td>\n",
              "      <td>4.0</td>\n",
              "      <td>611</td>\n",
              "      <td>5.0</td>\n",
              "      <td>215</td>\n",
              "      <td>4.0</td>\n",
              "      <td>388</td>\n",
              "      <td>1.0</td>\n",
              "      <td>299</td>\n",
              "      <td>2.0</td>\n",
              "      <td>1915</td>\n",
              "      <td>4.0</td>\n",
              "      <td>439</td>\n",
              "      <td>2.0</td>\n",
              "      <td>823</td>\n",
              "      <td>1.0</td>\n",
              "      <td>309</td>\n",
              "      <td>5.0</td>\n",
              "      <td>586</td>\n",
              "      <td>4.0</td>\n",
              "      <td>2252</td>\n",
              "      <td>10s</td>\n",
              "      <td>2</td>\n",
              "      <td>1</td>\n",
              "      <td>1</td>\n",
              "      <td>Female</td>\n",
              "      <td>3</td>\n",
              "      <td>1</td>\n",
              "      <td>White</td>\n",
              "      <td>Jewish</td>\n",
              "      <td>1</td>\n",
              "      <td>2</td>\n",
              "      <td>6</td>\n",
              "      <td>1</td>\n",
              "      <td>2</td>\n",
              "      <td>6</td>\n",
              "      <td>3</td>\n",
              "      <td>0</td>\n",
              "      <td>6</td>\n",
              "      <td>4</td>\n",
              "      <td>3</td>\n",
              "      <td>2</td>\n",
              "      <td>0</td>\n",
              "      <td>0</td>\n",
              "      <td>1</td>\n",
              "      <td>1</td>\n",
              "      <td>1</td>\n",
              "      <td>0</td>\n",
              "      <td>1</td>\n",
              "      <td>1</td>\n",
              "      <td>0</td>\n",
              "      <td>1</td>\n",
              "      <td>1</td>\n",
              "      <td>1</td>\n",
              "      <td>1</td>\n",
              "      <td>0</td>\n",
              "      <td>1</td>\n",
              "      <td>1</td>\n",
              "    </tr>\n",
              "    <tr>\n",
              "      <th>45528</th>\n",
              "      <td>45528</td>\n",
              "      <td>2.0</td>\n",
              "      <td>581</td>\n",
              "      <td>3.0</td>\n",
              "      <td>1353</td>\n",
              "      <td>4.0</td>\n",
              "      <td>1164</td>\n",
              "      <td>1.0</td>\n",
              "      <td>798</td>\n",
              "      <td>3.0</td>\n",
              "      <td>1680</td>\n",
              "      <td>2.0</td>\n",
              "      <td>560</td>\n",
              "      <td>2.0</td>\n",
              "      <td>640</td>\n",
              "      <td>1.0</td>\n",
              "      <td>1415</td>\n",
              "      <td>2.0</td>\n",
              "      <td>4494</td>\n",
              "      <td>5.0</td>\n",
              "      <td>1392</td>\n",
              "      <td>2.0</td>\n",
              "      <td>2478</td>\n",
              "      <td>5.0</td>\n",
              "      <td>1268</td>\n",
              "      <td>3.0</td>\n",
              "      <td>843</td>\n",
              "      <td>2.0</td>\n",
              "      <td>1401</td>\n",
              "      <td>4.0</td>\n",
              "      <td>1524</td>\n",
              "      <td>4.0</td>\n",
              "      <td>719</td>\n",
              "      <td>2.0</td>\n",
              "      <td>754</td>\n",
              "      <td>3.0</td>\n",
              "      <td>1118</td>\n",
              "      <td>4.0</td>\n",
              "      <td>654</td>\n",
              "      <td>4.0</td>\n",
              "      <td>1197</td>\n",
              "      <td>30s</td>\n",
              "      <td>2</td>\n",
              "      <td>1</td>\n",
              "      <td>2</td>\n",
              "      <td>Male</td>\n",
              "      <td>1</td>\n",
              "      <td>1</td>\n",
              "      <td>White</td>\n",
              "      <td>Atheist</td>\n",
              "      <td>2</td>\n",
              "      <td>2</td>\n",
              "      <td>2</td>\n",
              "      <td>3</td>\n",
              "      <td>1</td>\n",
              "      <td>3</td>\n",
              "      <td>3</td>\n",
              "      <td>4</td>\n",
              "      <td>1</td>\n",
              "      <td>5</td>\n",
              "      <td>1</td>\n",
              "      <td>2</td>\n",
              "      <td>0</td>\n",
              "      <td>0</td>\n",
              "      <td>1</td>\n",
              "      <td>1</td>\n",
              "      <td>1</td>\n",
              "      <td>1</td>\n",
              "      <td>1</td>\n",
              "      <td>1</td>\n",
              "      <td>0</td>\n",
              "      <td>1</td>\n",
              "      <td>1</td>\n",
              "      <td>1</td>\n",
              "      <td>1</td>\n",
              "      <td>0</td>\n",
              "      <td>1</td>\n",
              "      <td>1</td>\n",
              "    </tr>\n",
              "    <tr>\n",
              "      <th>45529</th>\n",
              "      <td>45529</td>\n",
              "      <td>4.0</td>\n",
              "      <td>593</td>\n",
              "      <td>1.0</td>\n",
              "      <td>857</td>\n",
              "      <td>1.0</td>\n",
              "      <td>1047</td>\n",
              "      <td>4.0</td>\n",
              "      <td>1515</td>\n",
              "      <td>5.0</td>\n",
              "      <td>1690</td>\n",
              "      <td>4.0</td>\n",
              "      <td>1253</td>\n",
              "      <td>5.0</td>\n",
              "      <td>1094</td>\n",
              "      <td>1.0</td>\n",
              "      <td>1283</td>\n",
              "      <td>5.0</td>\n",
              "      <td>2209</td>\n",
              "      <td>1.0</td>\n",
              "      <td>1764</td>\n",
              "      <td>5.0</td>\n",
              "      <td>1062</td>\n",
              "      <td>5.0</td>\n",
              "      <td>1489</td>\n",
              "      <td>1.0</td>\n",
              "      <td>1908</td>\n",
              "      <td>4.0</td>\n",
              "      <td>891</td>\n",
              "      <td>1.0</td>\n",
              "      <td>1298</td>\n",
              "      <td>1.0</td>\n",
              "      <td>1200</td>\n",
              "      <td>5.0</td>\n",
              "      <td>473</td>\n",
              "      <td>5.0</td>\n",
              "      <td>1779</td>\n",
              "      <td>3.0</td>\n",
              "      <td>1355</td>\n",
              "      <td>1.0</td>\n",
              "      <td>667</td>\n",
              "      <td>10s</td>\n",
              "      <td>2</td>\n",
              "      <td>1</td>\n",
              "      <td>1</td>\n",
              "      <td>Female</td>\n",
              "      <td>1</td>\n",
              "      <td>1</td>\n",
              "      <td>White</td>\n",
              "      <td>Christian_Other</td>\n",
              "      <td>4</td>\n",
              "      <td>4</td>\n",
              "      <td>2</td>\n",
              "      <td>4</td>\n",
              "      <td>0</td>\n",
              "      <td>1</td>\n",
              "      <td>0</td>\n",
              "      <td>2</td>\n",
              "      <td>1</td>\n",
              "      <td>6</td>\n",
              "      <td>2</td>\n",
              "      <td>1</td>\n",
              "      <td>0</td>\n",
              "      <td>0</td>\n",
              "      <td>0</td>\n",
              "      <td>1</td>\n",
              "      <td>1</td>\n",
              "      <td>0</td>\n",
              "      <td>1</td>\n",
              "      <td>1</td>\n",
              "      <td>0</td>\n",
              "      <td>1</td>\n",
              "      <td>1</td>\n",
              "      <td>0</td>\n",
              "      <td>1</td>\n",
              "      <td>0</td>\n",
              "      <td>1</td>\n",
              "      <td>1</td>\n",
              "    </tr>\n",
              "    <tr>\n",
              "      <th>45530</th>\n",
              "      <td>45530</td>\n",
              "      <td>1.0</td>\n",
              "      <td>747</td>\n",
              "      <td>3.0</td>\n",
              "      <td>1331</td>\n",
              "      <td>4.0</td>\n",
              "      <td>892</td>\n",
              "      <td>2.0</td>\n",
              "      <td>1281</td>\n",
              "      <td>1.0</td>\n",
              "      <td>1328</td>\n",
              "      <td>1.0</td>\n",
              "      <td>599</td>\n",
              "      <td>1.0</td>\n",
              "      <td>650</td>\n",
              "      <td>1.0</td>\n",
              "      <td>1429</td>\n",
              "      <td>5.0</td>\n",
              "      <td>1748</td>\n",
              "      <td>1.0</td>\n",
              "      <td>770</td>\n",
              "      <td>5.0</td>\n",
              "      <td>1025</td>\n",
              "      <td>5.0</td>\n",
              "      <td>742</td>\n",
              "      <td>4.0</td>\n",
              "      <td>4180</td>\n",
              "      <td>3.0</td>\n",
              "      <td>707</td>\n",
              "      <td>1.0</td>\n",
              "      <td>489</td>\n",
              "      <td>1.0</td>\n",
              "      <td>913</td>\n",
              "      <td>4.0</td>\n",
              "      <td>1301</td>\n",
              "      <td>4.0</td>\n",
              "      <td>1680</td>\n",
              "      <td>4.0</td>\n",
              "      <td>737</td>\n",
              "      <td>1.0</td>\n",
              "      <td>1124</td>\n",
              "      <td>40s</td>\n",
              "      <td>4</td>\n",
              "      <td>1</td>\n",
              "      <td>2</td>\n",
              "      <td>Male</td>\n",
              "      <td>3</td>\n",
              "      <td>1</td>\n",
              "      <td>White</td>\n",
              "      <td>Atheist</td>\n",
              "      <td>1</td>\n",
              "      <td>2</td>\n",
              "      <td>0</td>\n",
              "      <td>4</td>\n",
              "      <td>0</td>\n",
              "      <td>1</td>\n",
              "      <td>3</td>\n",
              "      <td>2</td>\n",
              "      <td>2</td>\n",
              "      <td>4</td>\n",
              "      <td>0</td>\n",
              "      <td>1</td>\n",
              "      <td>0</td>\n",
              "      <td>0</td>\n",
              "      <td>0</td>\n",
              "      <td>1</td>\n",
              "      <td>1</td>\n",
              "      <td>0</td>\n",
              "      <td>1</td>\n",
              "      <td>1</td>\n",
              "      <td>0</td>\n",
              "      <td>1</td>\n",
              "      <td>1</td>\n",
              "      <td>1</td>\n",
              "      <td>1</td>\n",
              "      <td>0</td>\n",
              "      <td>1</td>\n",
              "      <td>1</td>\n",
              "    </tr>\n",
              "    <tr>\n",
              "      <th>45531</th>\n",
              "      <td>45531</td>\n",
              "      <td>3.0</td>\n",
              "      <td>496</td>\n",
              "      <td>5.0</td>\n",
              "      <td>1827</td>\n",
              "      <td>5.0</td>\n",
              "      <td>754</td>\n",
              "      <td>3.0</td>\n",
              "      <td>1117</td>\n",
              "      <td>1.0</td>\n",
              "      <td>432</td>\n",
              "      <td>4.0</td>\n",
              "      <td>1422</td>\n",
              "      <td>3.0</td>\n",
              "      <td>545</td>\n",
              "      <td>3.0</td>\n",
              "      <td>1696</td>\n",
              "      <td>4.0</td>\n",
              "      <td>2172</td>\n",
              "      <td>4.0</td>\n",
              "      <td>7076</td>\n",
              "      <td>5.0</td>\n",
              "      <td>1087</td>\n",
              "      <td>5.0</td>\n",
              "      <td>1090</td>\n",
              "      <td>4.0</td>\n",
              "      <td>2195</td>\n",
              "      <td>4.0</td>\n",
              "      <td>431</td>\n",
              "      <td>4.0</td>\n",
              "      <td>914</td>\n",
              "      <td>4.0</td>\n",
              "      <td>620</td>\n",
              "      <td>4.0</td>\n",
              "      <td>410</td>\n",
              "      <td>4.0</td>\n",
              "      <td>736</td>\n",
              "      <td>4.0</td>\n",
              "      <td>667</td>\n",
              "      <td>5.0</td>\n",
              "      <td>1665</td>\n",
              "      <td>20s</td>\n",
              "      <td>2</td>\n",
              "      <td>1</td>\n",
              "      <td>3</td>\n",
              "      <td>Male</td>\n",
              "      <td>1</td>\n",
              "      <td>1</td>\n",
              "      <td>White</td>\n",
              "      <td>Agnostic</td>\n",
              "      <td>3</td>\n",
              "      <td>2</td>\n",
              "      <td>1</td>\n",
              "      <td>2</td>\n",
              "      <td>3</td>\n",
              "      <td>0</td>\n",
              "      <td>2</td>\n",
              "      <td>3</td>\n",
              "      <td>1</td>\n",
              "      <td>2</td>\n",
              "      <td>2</td>\n",
              "      <td>1</td>\n",
              "      <td>1</td>\n",
              "      <td>1</td>\n",
              "      <td>1</td>\n",
              "      <td>1</td>\n",
              "      <td>1</td>\n",
              "      <td>0</td>\n",
              "      <td>1</td>\n",
              "      <td>1</td>\n",
              "      <td>0</td>\n",
              "      <td>1</td>\n",
              "      <td>1</td>\n",
              "      <td>0</td>\n",
              "      <td>1</td>\n",
              "      <td>0</td>\n",
              "      <td>1</td>\n",
              "      <td>1</td>\n",
              "    </tr>\n",
              "  </tbody>\n",
              "</table>\n",
              "<p>45532 rows × 78 columns</p>\n",
              "</div>"
            ],
            "text/plain": [
              "       index  QaA   QaE  QbA   QbE  QcA   QcE  QdA   QdE  QeA   QeE  QfA  \\\n",
              "0          0  3.0   363  4.0  1370  5.0   997  1.0  1024  2.0  1577  5.0   \n",
              "1          1  5.0   647  5.0  1313  3.0  3387  5.0  2969  1.0  4320  3.0   \n",
              "2          2  4.0  1623  1.0  1480  1.0  1021  4.0  3374  5.0  1333  1.0   \n",
              "3          3  3.0   504  3.0  2311  4.0   992  3.0  3245  1.0   357  2.0   \n",
              "4          4  1.0   927  1.0   707  5.0   556  2.0  1062  1.0  1014  2.0   \n",
              "...      ...  ...   ...  ...   ...  ...   ...  ...   ...  ...   ...  ...   \n",
              "45527  45527  2.0  1050  5.0   619  4.0   328  1.0   285  1.0   602  1.0   \n",
              "45528  45528  2.0   581  3.0  1353  4.0  1164  1.0   798  3.0  1680  2.0   \n",
              "45529  45529  4.0   593  1.0   857  1.0  1047  4.0  1515  5.0  1690  4.0   \n",
              "45530  45530  1.0   747  3.0  1331  4.0   892  2.0  1281  1.0  1328  1.0   \n",
              "45531  45531  3.0   496  5.0  1827  5.0   754  3.0  1117  1.0   432  4.0   \n",
              "\n",
              "        QfE  QgA   QgE  QhA   QhE  QiA   QiE  QjA   QjE  QkA   QkE  QlA   QlE  \\\n",
              "0       539  2.0   586  4.0  1095  5.0  1142  4.0  1287  4.0   883  4.0   851   \n",
              "1      2190  1.0   826  1.0  4082  5.0  1867  3.0  1264  5.0  2943  4.0  3927   \n",
              "2       531  4.0  1167  1.0  1016  3.0  2653  2.0  1569  5.0   998  5.0  2547   \n",
              "3      1519  4.0   159  3.0  2275  5.0  2809  4.0  5614  3.0  3219  4.0  1296   \n",
              "4       628  1.0   991  1.0  1259  5.0  1153  5.0  1388  5.0   740  5.0  1181   \n",
              "...     ...  ...   ...  ...   ...  ...   ...  ...   ...  ...   ...  ...   ...   \n",
              "45527   267  1.0   315  1.0   483  1.0  1016  4.0   278  4.0   611  5.0   215   \n",
              "45528   560  2.0   640  1.0  1415  2.0  4494  5.0  1392  2.0  2478  5.0  1268   \n",
              "45529  1253  5.0  1094  1.0  1283  5.0  2209  1.0  1764  5.0  1062  5.0  1489   \n",
              "45530   599  1.0   650  1.0  1429  5.0  1748  1.0   770  5.0  1025  5.0   742   \n",
              "45531  1422  3.0   545  3.0  1696  4.0  2172  4.0  7076  5.0  1087  5.0  1090   \n",
              "\n",
              "       QmA   QmE  QnA   QnE  QoA   QoE  QpA    QpE  QqA   QqE  QrA   QrE  QsA  \\\n",
              "0      2.0   851  5.0   816  2.0   579  2.0    924  2.0   366  2.0   876  2.0   \n",
              "1      1.0  4329  5.0  1828  1.0  1214  5.0   2414  5.0  1356  1.0  3039  4.0   \n",
              "2      2.0   918  4.0  2153  2.0  1304  1.0   1131  5.0   937  4.0  1327  1.0   \n",
              "3      4.0  9046  4.0  1216  4.0  1169  4.0  23868  3.0   581  4.0  8830  4.0   \n",
              "4      4.0   547  2.0   575  1.0   754  4.0   1140  5.0   323  5.0  1070  1.0   \n",
              "...    ...   ...  ...   ...  ...   ...  ...    ...  ...   ...  ...   ...  ...   \n",
              "45527  4.0   388  1.0   299  2.0  1915  4.0    439  2.0   823  1.0   309  5.0   \n",
              "45528  3.0   843  2.0  1401  4.0  1524  4.0    719  2.0   754  3.0  1118  4.0   \n",
              "45529  1.0  1908  4.0   891  1.0  1298  1.0   1200  5.0   473  5.0  1779  3.0   \n",
              "45530  4.0  4180  3.0   707  1.0   489  1.0    913  4.0  1301  4.0  1680  4.0   \n",
              "45531  4.0  2195  4.0   431  4.0   914  4.0    620  4.0   410  4.0   736  4.0   \n",
              "\n",
              "        QsE  QtA   QtE age_group  education  engnat  familysize  gender  hand  \\\n",
              "0       633  1.0  1115       30s          2       1           4  Female     1   \n",
              "1      4304  1.0  1346       20s          4       2           3  Female     1   \n",
              "2      1170  1.0  1409       30s          3       1           3    Male     1   \n",
              "3      2392  5.0  1312       20s          4       2           0  Female     1   \n",
              "4       583  2.0  1889       20s          3       1           2    Male     1   \n",
              "...     ...  ...   ...       ...        ...     ...         ...     ...   ...   \n",
              "45527   586  4.0  2252       10s          2       1           1  Female     3   \n",
              "45528   654  4.0  1197       30s          2       1           2    Male     1   \n",
              "45529  1355  1.0   667       10s          2       1           1  Female     1   \n",
              "45530   737  1.0  1124       40s          4       1           2    Male     3   \n",
              "45531   667  5.0  1665       20s          2       1           3    Male     1   \n",
              "\n",
              "       married   race         religion  tp01  tp02  tp03  tp04  tp05  tp06  \\\n",
              "0            3  White            Other     2     2     2     1     2     1   \n",
              "1            1  Asian            Hindu     1     1     0     0     1     2   \n",
              "2            2  White            Other     2     3     1     5     3     4   \n",
              "3            1  Asian            Hindu     2     4     1     1     1     3   \n",
              "4            2  White         Agnostic     1     1     1     6     0     2   \n",
              "...        ...    ...              ...   ...   ...   ...   ...   ...   ...   \n",
              "45527        1  White           Jewish     1     2     6     1     2     6   \n",
              "45528        1  White          Atheist     2     2     2     3     1     3   \n",
              "45529        1  White  Christian_Other     4     4     2     4     0     1   \n",
              "45530        1  White          Atheist     1     2     0     4     0     1   \n",
              "45531        1  White         Agnostic     3     2     1     2     3     0   \n",
              "\n",
              "       tp07  tp08  tp09  tp10  urban  voted  wf_01  wf_02  wf_03  wr_01  \\\n",
              "0         7     4     4     3      1      2      0      0      0      0   \n",
              "1         3     4     0     4      3      2      0      0      0      0   \n",
              "2         2     6     1     3      2      1      0      0      1      1   \n",
              "3         1     3     1     3      3      1      0      0      0      0   \n",
              "4         0     6     2     6      1      1      0      1      0      1   \n",
              "...     ...   ...   ...   ...    ...    ...    ...    ...    ...    ...   \n",
              "45527     3     0     6     4      3      2      0      0      1      1   \n",
              "45528     3     4     1     5      1      2      0      0      1      1   \n",
              "45529     0     2     1     6      2      1      0      0      0      1   \n",
              "45530     3     2     2     4      0      1      0      0      0      1   \n",
              "45531     2     3     1     2      2      1      1      1      1      1   \n",
              "\n",
              "       wr_02  wr_03  wr_04  wr_05  wr_06  wr_07  wr_08  wr_09  wr_10  wr_11  \\\n",
              "0          1      0      0      1      0      1      1      0      1      0   \n",
              "1          1      0      1      1      0      1      1      0      1      0   \n",
              "2          1      0      1      1      0      1      1      1      1      0   \n",
              "3          1      0      0      0      0      0      1      0      1      0   \n",
              "4          1      0      1      1      1      1      1      0      1      1   \n",
              "...      ...    ...    ...    ...    ...    ...    ...    ...    ...    ...   \n",
              "45527      1      0      1      1      0      1      1      1      1      0   \n",
              "45528      1      1      1      1      0      1      1      1      1      0   \n",
              "45529      1      0      1      1      0      1      1      0      1      0   \n",
              "45530      1      0      1      1      0      1      1      1      1      0   \n",
              "45531      1      0      1      1      0      1      1      0      1      0   \n",
              "\n",
              "       wr_12  wr_13  \n",
              "0          1      1  \n",
              "1          1      1  \n",
              "2          1      1  \n",
              "3          1      1  \n",
              "4          1      1  \n",
              "...      ...    ...  \n",
              "45527      1      1  \n",
              "45528      1      1  \n",
              "45529      1      1  \n",
              "45530      1      1  \n",
              "45531      1      1  \n",
              "\n",
              "[45532 rows x 78 columns]"
            ]
          },
          "metadata": {
            "tags": []
          },
          "execution_count": 6
        }
      ]
    },
    {
      "cell_type": "markdown",
      "metadata": {
        "id": "c0VJiJ7sO46P"
      },
      "source": [
        "## 변수 제거"
      ]
    },
    {
      "cell_type": "code",
      "metadata": {
        "colab": {
          "base_uri": "https://localhost:8080/",
          "height": 411
        },
        "id": "yDAl9webOxg_",
        "outputId": "ccdf3961-fa9e-4ee7-a8d7-2929ddeff17a"
      },
      "source": [
        "drop_val = ['QaA', 'QbA', 'QbE', 'QcA', 'QcE', 'QdE', 'QeA','QeE',\n",
        "       'QfA', 'QfE', 'QgA', 'QgE', 'QhA', 'QhE', 'QiA', 'QiE', 'QjA', 'QjE',\n",
        "       'QkA', 'QkE', 'QlA', 'QlE', 'QmA', 'QmE', 'QnA', 'QnE', 'QoA', 'QoE',\n",
        "       'QpA', 'QpE', 'QqA', 'QqE', 'QrA', 'QrE', 'QsA', 'QsE', 'QtA', 'QtE',\n",
        "       'wf_01', 'wf_02', 'wf_03']\n",
        "\n",
        "train = train.drop(drop_val, axis = 1)\n",
        "test = test.drop(drop_val, axis = 1)\n",
        "eda_df = train.copy()\n",
        "\n",
        "display(train.head())\n",
        "display(test.head())"
      ],
      "execution_count": null,
      "outputs": [
        {
          "output_type": "display_data",
          "data": {
            "text/html": [
              "<div>\n",
              "<style scoped>\n",
              "    .dataframe tbody tr th:only-of-type {\n",
              "        vertical-align: middle;\n",
              "    }\n",
              "\n",
              "    .dataframe tbody tr th {\n",
              "        vertical-align: top;\n",
              "    }\n",
              "\n",
              "    .dataframe thead th {\n",
              "        text-align: right;\n",
              "    }\n",
              "</style>\n",
              "<table border=\"1\" class=\"dataframe\">\n",
              "  <thead>\n",
              "    <tr style=\"text-align: right;\">\n",
              "      <th></th>\n",
              "      <th>index</th>\n",
              "      <th>QaE</th>\n",
              "      <th>QdA</th>\n",
              "      <th>age_group</th>\n",
              "      <th>education</th>\n",
              "      <th>engnat</th>\n",
              "      <th>familysize</th>\n",
              "      <th>gender</th>\n",
              "      <th>hand</th>\n",
              "      <th>married</th>\n",
              "      <th>race</th>\n",
              "      <th>religion</th>\n",
              "      <th>tp01</th>\n",
              "      <th>tp02</th>\n",
              "      <th>tp03</th>\n",
              "      <th>tp04</th>\n",
              "      <th>tp05</th>\n",
              "      <th>tp06</th>\n",
              "      <th>tp07</th>\n",
              "      <th>tp08</th>\n",
              "      <th>tp09</th>\n",
              "      <th>tp10</th>\n",
              "      <th>urban</th>\n",
              "      <th>voted</th>\n",
              "      <th>wr_01</th>\n",
              "      <th>wr_02</th>\n",
              "      <th>wr_03</th>\n",
              "      <th>wr_04</th>\n",
              "      <th>wr_05</th>\n",
              "      <th>wr_06</th>\n",
              "      <th>wr_07</th>\n",
              "      <th>wr_08</th>\n",
              "      <th>wr_09</th>\n",
              "      <th>wr_10</th>\n",
              "      <th>wr_11</th>\n",
              "      <th>wr_12</th>\n",
              "      <th>wr_13</th>\n",
              "    </tr>\n",
              "  </thead>\n",
              "  <tbody>\n",
              "    <tr>\n",
              "      <th>0</th>\n",
              "      <td>0</td>\n",
              "      <td>363</td>\n",
              "      <td>1.0</td>\n",
              "      <td>30s</td>\n",
              "      <td>2</td>\n",
              "      <td>1</td>\n",
              "      <td>4</td>\n",
              "      <td>Female</td>\n",
              "      <td>1</td>\n",
              "      <td>3</td>\n",
              "      <td>White</td>\n",
              "      <td>Other</td>\n",
              "      <td>2</td>\n",
              "      <td>2</td>\n",
              "      <td>2</td>\n",
              "      <td>1</td>\n",
              "      <td>2</td>\n",
              "      <td>1</td>\n",
              "      <td>7</td>\n",
              "      <td>4</td>\n",
              "      <td>4</td>\n",
              "      <td>3</td>\n",
              "      <td>1</td>\n",
              "      <td>2</td>\n",
              "      <td>0</td>\n",
              "      <td>1</td>\n",
              "      <td>0</td>\n",
              "      <td>0</td>\n",
              "      <td>1</td>\n",
              "      <td>0</td>\n",
              "      <td>1</td>\n",
              "      <td>1</td>\n",
              "      <td>0</td>\n",
              "      <td>1</td>\n",
              "      <td>0</td>\n",
              "      <td>1</td>\n",
              "      <td>1</td>\n",
              "    </tr>\n",
              "    <tr>\n",
              "      <th>1</th>\n",
              "      <td>1</td>\n",
              "      <td>647</td>\n",
              "      <td>5.0</td>\n",
              "      <td>20s</td>\n",
              "      <td>4</td>\n",
              "      <td>2</td>\n",
              "      <td>3</td>\n",
              "      <td>Female</td>\n",
              "      <td>1</td>\n",
              "      <td>1</td>\n",
              "      <td>Asian</td>\n",
              "      <td>Hindu</td>\n",
              "      <td>1</td>\n",
              "      <td>1</td>\n",
              "      <td>0</td>\n",
              "      <td>0</td>\n",
              "      <td>1</td>\n",
              "      <td>2</td>\n",
              "      <td>3</td>\n",
              "      <td>4</td>\n",
              "      <td>0</td>\n",
              "      <td>4</td>\n",
              "      <td>3</td>\n",
              "      <td>2</td>\n",
              "      <td>0</td>\n",
              "      <td>1</td>\n",
              "      <td>0</td>\n",
              "      <td>1</td>\n",
              "      <td>1</td>\n",
              "      <td>0</td>\n",
              "      <td>1</td>\n",
              "      <td>1</td>\n",
              "      <td>0</td>\n",
              "      <td>1</td>\n",
              "      <td>0</td>\n",
              "      <td>1</td>\n",
              "      <td>1</td>\n",
              "    </tr>\n",
              "    <tr>\n",
              "      <th>2</th>\n",
              "      <td>2</td>\n",
              "      <td>1623</td>\n",
              "      <td>4.0</td>\n",
              "      <td>30s</td>\n",
              "      <td>3</td>\n",
              "      <td>1</td>\n",
              "      <td>3</td>\n",
              "      <td>Male</td>\n",
              "      <td>1</td>\n",
              "      <td>2</td>\n",
              "      <td>White</td>\n",
              "      <td>Other</td>\n",
              "      <td>2</td>\n",
              "      <td>3</td>\n",
              "      <td>1</td>\n",
              "      <td>5</td>\n",
              "      <td>3</td>\n",
              "      <td>4</td>\n",
              "      <td>2</td>\n",
              "      <td>6</td>\n",
              "      <td>1</td>\n",
              "      <td>3</td>\n",
              "      <td>2</td>\n",
              "      <td>1</td>\n",
              "      <td>1</td>\n",
              "      <td>1</td>\n",
              "      <td>0</td>\n",
              "      <td>1</td>\n",
              "      <td>1</td>\n",
              "      <td>0</td>\n",
              "      <td>1</td>\n",
              "      <td>1</td>\n",
              "      <td>1</td>\n",
              "      <td>1</td>\n",
              "      <td>0</td>\n",
              "      <td>1</td>\n",
              "      <td>1</td>\n",
              "    </tr>\n",
              "    <tr>\n",
              "      <th>3</th>\n",
              "      <td>3</td>\n",
              "      <td>504</td>\n",
              "      <td>3.0</td>\n",
              "      <td>20s</td>\n",
              "      <td>4</td>\n",
              "      <td>2</td>\n",
              "      <td>0</td>\n",
              "      <td>Female</td>\n",
              "      <td>1</td>\n",
              "      <td>1</td>\n",
              "      <td>Asian</td>\n",
              "      <td>Hindu</td>\n",
              "      <td>2</td>\n",
              "      <td>4</td>\n",
              "      <td>1</td>\n",
              "      <td>1</td>\n",
              "      <td>1</td>\n",
              "      <td>3</td>\n",
              "      <td>1</td>\n",
              "      <td>3</td>\n",
              "      <td>1</td>\n",
              "      <td>3</td>\n",
              "      <td>3</td>\n",
              "      <td>1</td>\n",
              "      <td>0</td>\n",
              "      <td>1</td>\n",
              "      <td>0</td>\n",
              "      <td>0</td>\n",
              "      <td>0</td>\n",
              "      <td>0</td>\n",
              "      <td>0</td>\n",
              "      <td>1</td>\n",
              "      <td>0</td>\n",
              "      <td>1</td>\n",
              "      <td>0</td>\n",
              "      <td>1</td>\n",
              "      <td>1</td>\n",
              "    </tr>\n",
              "    <tr>\n",
              "      <th>4</th>\n",
              "      <td>4</td>\n",
              "      <td>927</td>\n",
              "      <td>2.0</td>\n",
              "      <td>20s</td>\n",
              "      <td>3</td>\n",
              "      <td>1</td>\n",
              "      <td>2</td>\n",
              "      <td>Male</td>\n",
              "      <td>1</td>\n",
              "      <td>2</td>\n",
              "      <td>White</td>\n",
              "      <td>Agnostic</td>\n",
              "      <td>1</td>\n",
              "      <td>1</td>\n",
              "      <td>1</td>\n",
              "      <td>6</td>\n",
              "      <td>0</td>\n",
              "      <td>2</td>\n",
              "      <td>0</td>\n",
              "      <td>6</td>\n",
              "      <td>2</td>\n",
              "      <td>6</td>\n",
              "      <td>1</td>\n",
              "      <td>1</td>\n",
              "      <td>1</td>\n",
              "      <td>1</td>\n",
              "      <td>0</td>\n",
              "      <td>1</td>\n",
              "      <td>1</td>\n",
              "      <td>1</td>\n",
              "      <td>1</td>\n",
              "      <td>1</td>\n",
              "      <td>0</td>\n",
              "      <td>1</td>\n",
              "      <td>1</td>\n",
              "      <td>1</td>\n",
              "      <td>1</td>\n",
              "    </tr>\n",
              "  </tbody>\n",
              "</table>\n",
              "</div>"
            ],
            "text/plain": [
              "   index   QaE  QdA age_group  education  engnat  familysize  gender  hand  \\\n",
              "0      0   363  1.0       30s          2       1           4  Female     1   \n",
              "1      1   647  5.0       20s          4       2           3  Female     1   \n",
              "2      2  1623  4.0       30s          3       1           3    Male     1   \n",
              "3      3   504  3.0       20s          4       2           0  Female     1   \n",
              "4      4   927  2.0       20s          3       1           2    Male     1   \n",
              "\n",
              "   married   race  religion  tp01  tp02  tp03  tp04  tp05  tp06  tp07  tp08  \\\n",
              "0        3  White     Other     2     2     2     1     2     1     7     4   \n",
              "1        1  Asian     Hindu     1     1     0     0     1     2     3     4   \n",
              "2        2  White     Other     2     3     1     5     3     4     2     6   \n",
              "3        1  Asian     Hindu     2     4     1     1     1     3     1     3   \n",
              "4        2  White  Agnostic     1     1     1     6     0     2     0     6   \n",
              "\n",
              "   tp09  tp10  urban  voted  wr_01  wr_02  wr_03  wr_04  wr_05  wr_06  wr_07  \\\n",
              "0     4     3      1      2      0      1      0      0      1      0      1   \n",
              "1     0     4      3      2      0      1      0      1      1      0      1   \n",
              "2     1     3      2      1      1      1      0      1      1      0      1   \n",
              "3     1     3      3      1      0      1      0      0      0      0      0   \n",
              "4     2     6      1      1      1      1      0      1      1      1      1   \n",
              "\n",
              "   wr_08  wr_09  wr_10  wr_11  wr_12  wr_13  \n",
              "0      1      0      1      0      1      1  \n",
              "1      1      0      1      0      1      1  \n",
              "2      1      1      1      0      1      1  \n",
              "3      1      0      1      0      1      1  \n",
              "4      1      0      1      1      1      1  "
            ]
          },
          "metadata": {
            "tags": []
          }
        },
        {
          "output_type": "display_data",
          "data": {
            "text/html": [
              "<div>\n",
              "<style scoped>\n",
              "    .dataframe tbody tr th:only-of-type {\n",
              "        vertical-align: middle;\n",
              "    }\n",
              "\n",
              "    .dataframe tbody tr th {\n",
              "        vertical-align: top;\n",
              "    }\n",
              "\n",
              "    .dataframe thead th {\n",
              "        text-align: right;\n",
              "    }\n",
              "</style>\n",
              "<table border=\"1\" class=\"dataframe\">\n",
              "  <thead>\n",
              "    <tr style=\"text-align: right;\">\n",
              "      <th></th>\n",
              "      <th>index</th>\n",
              "      <th>QaE</th>\n",
              "      <th>QdA</th>\n",
              "      <th>age_group</th>\n",
              "      <th>education</th>\n",
              "      <th>engnat</th>\n",
              "      <th>familysize</th>\n",
              "      <th>gender</th>\n",
              "      <th>hand</th>\n",
              "      <th>married</th>\n",
              "      <th>race</th>\n",
              "      <th>religion</th>\n",
              "      <th>tp01</th>\n",
              "      <th>tp02</th>\n",
              "      <th>tp03</th>\n",
              "      <th>tp04</th>\n",
              "      <th>tp05</th>\n",
              "      <th>tp06</th>\n",
              "      <th>tp07</th>\n",
              "      <th>tp08</th>\n",
              "      <th>tp09</th>\n",
              "      <th>tp10</th>\n",
              "      <th>urban</th>\n",
              "      <th>wr_01</th>\n",
              "      <th>wr_02</th>\n",
              "      <th>wr_03</th>\n",
              "      <th>wr_04</th>\n",
              "      <th>wr_05</th>\n",
              "      <th>wr_06</th>\n",
              "      <th>wr_07</th>\n",
              "      <th>wr_08</th>\n",
              "      <th>wr_09</th>\n",
              "      <th>wr_10</th>\n",
              "      <th>wr_11</th>\n",
              "      <th>wr_12</th>\n",
              "      <th>wr_13</th>\n",
              "    </tr>\n",
              "  </thead>\n",
              "  <tbody>\n",
              "    <tr>\n",
              "      <th>0</th>\n",
              "      <td>0</td>\n",
              "      <td>736</td>\n",
              "      <td>1.0</td>\n",
              "      <td>10s</td>\n",
              "      <td>2</td>\n",
              "      <td>2</td>\n",
              "      <td>3</td>\n",
              "      <td>Male</td>\n",
              "      <td>1</td>\n",
              "      <td>1</td>\n",
              "      <td>White</td>\n",
              "      <td>Christian_Protestant</td>\n",
              "      <td>2</td>\n",
              "      <td>1</td>\n",
              "      <td>1</td>\n",
              "      <td>4</td>\n",
              "      <td>1</td>\n",
              "      <td>2</td>\n",
              "      <td>2</td>\n",
              "      <td>3</td>\n",
              "      <td>4</td>\n",
              "      <td>4</td>\n",
              "      <td>2</td>\n",
              "      <td>0</td>\n",
              "      <td>1</td>\n",
              "      <td>0</td>\n",
              "      <td>0</td>\n",
              "      <td>1</td>\n",
              "      <td>0</td>\n",
              "      <td>0</td>\n",
              "      <td>1</td>\n",
              "      <td>0</td>\n",
              "      <td>1</td>\n",
              "      <td>0</td>\n",
              "      <td>1</td>\n",
              "      <td>1</td>\n",
              "    </tr>\n",
              "    <tr>\n",
              "      <th>1</th>\n",
              "      <td>1</td>\n",
              "      <td>514</td>\n",
              "      <td>3.0</td>\n",
              "      <td>10s</td>\n",
              "      <td>2</td>\n",
              "      <td>2</td>\n",
              "      <td>2</td>\n",
              "      <td>Male</td>\n",
              "      <td>2</td>\n",
              "      <td>1</td>\n",
              "      <td>Other</td>\n",
              "      <td>Christian_Catholic</td>\n",
              "      <td>7</td>\n",
              "      <td>7</td>\n",
              "      <td>7</td>\n",
              "      <td>7</td>\n",
              "      <td>7</td>\n",
              "      <td>7</td>\n",
              "      <td>7</td>\n",
              "      <td>7</td>\n",
              "      <td>7</td>\n",
              "      <td>7</td>\n",
              "      <td>3</td>\n",
              "      <td>0</td>\n",
              "      <td>0</td>\n",
              "      <td>0</td>\n",
              "      <td>0</td>\n",
              "      <td>0</td>\n",
              "      <td>0</td>\n",
              "      <td>0</td>\n",
              "      <td>0</td>\n",
              "      <td>0</td>\n",
              "      <td>0</td>\n",
              "      <td>0</td>\n",
              "      <td>0</td>\n",
              "      <td>0</td>\n",
              "    </tr>\n",
              "    <tr>\n",
              "      <th>2</th>\n",
              "      <td>2</td>\n",
              "      <td>500</td>\n",
              "      <td>2.0</td>\n",
              "      <td>30s</td>\n",
              "      <td>3</td>\n",
              "      <td>2</td>\n",
              "      <td>7</td>\n",
              "      <td>Male</td>\n",
              "      <td>1</td>\n",
              "      <td>2</td>\n",
              "      <td>Other</td>\n",
              "      <td>Christian_Other</td>\n",
              "      <td>6</td>\n",
              "      <td>2</td>\n",
              "      <td>3</td>\n",
              "      <td>0</td>\n",
              "      <td>6</td>\n",
              "      <td>1</td>\n",
              "      <td>2</td>\n",
              "      <td>2</td>\n",
              "      <td>4</td>\n",
              "      <td>1</td>\n",
              "      <td>1</td>\n",
              "      <td>0</td>\n",
              "      <td>1</td>\n",
              "      <td>0</td>\n",
              "      <td>0</td>\n",
              "      <td>1</td>\n",
              "      <td>0</td>\n",
              "      <td>1</td>\n",
              "      <td>1</td>\n",
              "      <td>0</td>\n",
              "      <td>1</td>\n",
              "      <td>0</td>\n",
              "      <td>1</td>\n",
              "      <td>1</td>\n",
              "    </tr>\n",
              "    <tr>\n",
              "      <th>3</th>\n",
              "      <td>3</td>\n",
              "      <td>669</td>\n",
              "      <td>2.0</td>\n",
              "      <td>60s</td>\n",
              "      <td>4</td>\n",
              "      <td>1</td>\n",
              "      <td>4</td>\n",
              "      <td>Male</td>\n",
              "      <td>1</td>\n",
              "      <td>2</td>\n",
              "      <td>White</td>\n",
              "      <td>Christian_Catholic</td>\n",
              "      <td>0</td>\n",
              "      <td>5</td>\n",
              "      <td>1</td>\n",
              "      <td>6</td>\n",
              "      <td>0</td>\n",
              "      <td>6</td>\n",
              "      <td>0</td>\n",
              "      <td>5</td>\n",
              "      <td>1</td>\n",
              "      <td>6</td>\n",
              "      <td>2</td>\n",
              "      <td>1</td>\n",
              "      <td>1</td>\n",
              "      <td>1</td>\n",
              "      <td>1</td>\n",
              "      <td>1</td>\n",
              "      <td>1</td>\n",
              "      <td>1</td>\n",
              "      <td>1</td>\n",
              "      <td>1</td>\n",
              "      <td>1</td>\n",
              "      <td>1</td>\n",
              "      <td>1</td>\n",
              "      <td>1</td>\n",
              "    </tr>\n",
              "    <tr>\n",
              "      <th>4</th>\n",
              "      <td>4</td>\n",
              "      <td>499</td>\n",
              "      <td>2.0</td>\n",
              "      <td>10s</td>\n",
              "      <td>2</td>\n",
              "      <td>1</td>\n",
              "      <td>3</td>\n",
              "      <td>Male</td>\n",
              "      <td>1</td>\n",
              "      <td>1</td>\n",
              "      <td>White</td>\n",
              "      <td>Agnostic</td>\n",
              "      <td>6</td>\n",
              "      <td>1</td>\n",
              "      <td>2</td>\n",
              "      <td>2</td>\n",
              "      <td>3</td>\n",
              "      <td>0</td>\n",
              "      <td>5</td>\n",
              "      <td>2</td>\n",
              "      <td>4</td>\n",
              "      <td>3</td>\n",
              "      <td>2</td>\n",
              "      <td>1</td>\n",
              "      <td>1</td>\n",
              "      <td>0</td>\n",
              "      <td>1</td>\n",
              "      <td>1</td>\n",
              "      <td>0</td>\n",
              "      <td>1</td>\n",
              "      <td>1</td>\n",
              "      <td>0</td>\n",
              "      <td>1</td>\n",
              "      <td>1</td>\n",
              "      <td>1</td>\n",
              "      <td>1</td>\n",
              "    </tr>\n",
              "  </tbody>\n",
              "</table>\n",
              "</div>"
            ],
            "text/plain": [
              "   index  QaE  QdA age_group  education  engnat  familysize gender  hand  \\\n",
              "0      0  736  1.0       10s          2       2           3   Male     1   \n",
              "1      1  514  3.0       10s          2       2           2   Male     2   \n",
              "2      2  500  2.0       30s          3       2           7   Male     1   \n",
              "3      3  669  2.0       60s          4       1           4   Male     1   \n",
              "4      4  499  2.0       10s          2       1           3   Male     1   \n",
              "\n",
              "   married   race              religion  tp01  tp02  tp03  tp04  tp05  tp06  \\\n",
              "0        1  White  Christian_Protestant     2     1     1     4     1     2   \n",
              "1        1  Other    Christian_Catholic     7     7     7     7     7     7   \n",
              "2        2  Other       Christian_Other     6     2     3     0     6     1   \n",
              "3        2  White    Christian_Catholic     0     5     1     6     0     6   \n",
              "4        1  White              Agnostic     6     1     2     2     3     0   \n",
              "\n",
              "   tp07  tp08  tp09  tp10  urban  wr_01  wr_02  wr_03  wr_04  wr_05  wr_06  \\\n",
              "0     2     3     4     4      2      0      1      0      0      1      0   \n",
              "1     7     7     7     7      3      0      0      0      0      0      0   \n",
              "2     2     2     4     1      1      0      1      0      0      1      0   \n",
              "3     0     5     1     6      2      1      1      1      1      1      1   \n",
              "4     5     2     4     3      2      1      1      0      1      1      0   \n",
              "\n",
              "   wr_07  wr_08  wr_09  wr_10  wr_11  wr_12  wr_13  \n",
              "0      0      1      0      1      0      1      1  \n",
              "1      0      0      0      0      0      0      0  \n",
              "2      1      1      0      1      0      1      1  \n",
              "3      1      1      1      1      1      1      1  \n",
              "4      1      1      0      1      1      1      1  "
            ]
          },
          "metadata": {
            "tags": []
          }
        }
      ]
    },
    {
      "cell_type": "markdown",
      "metadata": {
        "id": "GtPxv2ZmO_zf"
      },
      "source": [
        "## Q1 ) 데이터 사전 처리\n",
        "- Missing Data가 있는지 확인하시고, Missing Data가 있다면 처리하세요"
      ]
    },
    {
      "cell_type": "code",
      "metadata": {
        "colab": {
          "base_uri": "https://localhost:8080/"
        },
        "id": "3tBb-o_Hacgj",
        "outputId": "1a7c93e8-dab9-42f0-a488-6976f8e22c94"
      },
      "source": [
        "train.info()"
      ],
      "execution_count": null,
      "outputs": [
        {
          "output_type": "stream",
          "text": [
            "<class 'pandas.core.frame.DataFrame'>\n",
            "RangeIndex: 45532 entries, 0 to 45531\n",
            "Data columns (total 37 columns):\n",
            " #   Column      Non-Null Count  Dtype  \n",
            "---  ------      --------------  -----  \n",
            " 0   index       45532 non-null  int64  \n",
            " 1   QaE         45532 non-null  int64  \n",
            " 2   QdA         45532 non-null  float64\n",
            " 3   age_group   45532 non-null  object \n",
            " 4   education   45532 non-null  int64  \n",
            " 5   engnat      45532 non-null  int64  \n",
            " 6   familysize  45532 non-null  int64  \n",
            " 7   gender      45532 non-null  object \n",
            " 8   hand        45532 non-null  int64  \n",
            " 9   married     45532 non-null  int64  \n",
            " 10  race        45532 non-null  object \n",
            " 11  religion    45532 non-null  object \n",
            " 12  tp01        45532 non-null  int64  \n",
            " 13  tp02        45532 non-null  int64  \n",
            " 14  tp03        45532 non-null  int64  \n",
            " 15  tp04        45532 non-null  int64  \n",
            " 16  tp05        45532 non-null  int64  \n",
            " 17  tp06        45532 non-null  int64  \n",
            " 18  tp07        45532 non-null  int64  \n",
            " 19  tp08        45532 non-null  int64  \n",
            " 20  tp09        45532 non-null  int64  \n",
            " 21  tp10        45532 non-null  int64  \n",
            " 22  urban       45532 non-null  int64  \n",
            " 23  voted       45532 non-null  int64  \n",
            " 24  wr_01       45532 non-null  int64  \n",
            " 25  wr_02       45532 non-null  int64  \n",
            " 26  wr_03       45532 non-null  int64  \n",
            " 27  wr_04       45532 non-null  int64  \n",
            " 28  wr_05       45532 non-null  int64  \n",
            " 29  wr_06       45532 non-null  int64  \n",
            " 30  wr_07       45532 non-null  int64  \n",
            " 31  wr_08       45532 non-null  int64  \n",
            " 32  wr_09       45532 non-null  int64  \n",
            " 33  wr_10       45532 non-null  int64  \n",
            " 34  wr_11       45532 non-null  int64  \n",
            " 35  wr_12       45532 non-null  int64  \n",
            " 36  wr_13       45532 non-null  int64  \n",
            "dtypes: float64(1), int64(32), object(4)\n",
            "memory usage: 12.9+ MB\n"
          ],
          "name": "stdout"
        }
      ]
    },
    {
      "cell_type": "markdown",
      "metadata": {
        "id": "8j_7JzuhPCf3"
      },
      "source": [
        "## Q2) 인코딩\n",
        "- String 형태의 Data를 가진 Feature에 대해 Label Encoding을 진행하고, 원본 Feature는 제거하세요"
      ]
    },
    {
      "cell_type": "code",
      "metadata": {
        "colab": {
          "base_uri": "https://localhost:8080/"
        },
        "id": "aaY1w0q3azdY",
        "outputId": "7ab8418b-b013-4aaa-8b1b-1eeebd7a666a"
      },
      "source": [
        "string_columns = list(train.columns[train.dtypes == 'object'])\n",
        "string_columns"
      ],
      "execution_count": 9,
      "outputs": [
        {
          "output_type": "execute_result",
          "data": {
            "text/plain": [
              "['age_group', 'gender', 'race', 'religion']"
            ]
          },
          "metadata": {
            "tags": []
          },
          "execution_count": 9
        }
      ]
    },
    {
      "cell_type": "code",
      "metadata": {
        "id": "HSatUwieeU04"
      },
      "source": [
        "from sklearn.preprocessing import LabelEncoder\n",
        "\n",
        "encoder = LabelEncoder()\n",
        "\n",
        "def label_encoding(train, test, string_columns):\n",
        "    for column in string_columns:\n",
        "        new_feature = 'label_' + column\n",
        "        train[new_feature] = encoder.fit_transform(train[column])\n",
        "        test[new_feature] = encoder.transform(test[column])\n",
        "    \n",
        "    train = train.drop(string_columns, axis = 1)\n",
        "    test = test.drop(string_columns, axis = 1)\n",
        "\n",
        "    return train, test\n",
        "\n",
        "train, test = label_encoding(train, test, string_columns)"
      ],
      "execution_count": 10,
      "outputs": []
    },
    {
      "cell_type": "code",
      "metadata": {
        "colab": {
          "base_uri": "https://localhost:8080/",
          "height": 439
        },
        "id": "4GG3njtQe76r",
        "outputId": "2b52ee47-e066-4f33-aace-56b22008813d"
      },
      "source": [
        "train"
      ],
      "execution_count": null,
      "outputs": [
        {
          "output_type": "execute_result",
          "data": {
            "text/html": [
              "<div>\n",
              "<style scoped>\n",
              "    .dataframe tbody tr th:only-of-type {\n",
              "        vertical-align: middle;\n",
              "    }\n",
              "\n",
              "    .dataframe tbody tr th {\n",
              "        vertical-align: top;\n",
              "    }\n",
              "\n",
              "    .dataframe thead th {\n",
              "        text-align: right;\n",
              "    }\n",
              "</style>\n",
              "<table border=\"1\" class=\"dataframe\">\n",
              "  <thead>\n",
              "    <tr style=\"text-align: right;\">\n",
              "      <th></th>\n",
              "      <th>index</th>\n",
              "      <th>QaE</th>\n",
              "      <th>QdA</th>\n",
              "      <th>education</th>\n",
              "      <th>engnat</th>\n",
              "      <th>familysize</th>\n",
              "      <th>hand</th>\n",
              "      <th>married</th>\n",
              "      <th>tp01</th>\n",
              "      <th>tp02</th>\n",
              "      <th>tp03</th>\n",
              "      <th>tp04</th>\n",
              "      <th>tp05</th>\n",
              "      <th>tp06</th>\n",
              "      <th>tp07</th>\n",
              "      <th>tp08</th>\n",
              "      <th>tp09</th>\n",
              "      <th>tp10</th>\n",
              "      <th>urban</th>\n",
              "      <th>voted</th>\n",
              "      <th>wr_01</th>\n",
              "      <th>wr_02</th>\n",
              "      <th>wr_03</th>\n",
              "      <th>wr_04</th>\n",
              "      <th>wr_05</th>\n",
              "      <th>wr_06</th>\n",
              "      <th>wr_07</th>\n",
              "      <th>wr_08</th>\n",
              "      <th>wr_09</th>\n",
              "      <th>wr_10</th>\n",
              "      <th>wr_11</th>\n",
              "      <th>wr_12</th>\n",
              "      <th>wr_13</th>\n",
              "      <th>label_age_group</th>\n",
              "      <th>label_gender</th>\n",
              "      <th>label_race</th>\n",
              "      <th>label_religion</th>\n",
              "    </tr>\n",
              "  </thead>\n",
              "  <tbody>\n",
              "    <tr>\n",
              "      <th>0</th>\n",
              "      <td>0</td>\n",
              "      <td>363</td>\n",
              "      <td>1.0</td>\n",
              "      <td>2</td>\n",
              "      <td>1</td>\n",
              "      <td>4</td>\n",
              "      <td>1</td>\n",
              "      <td>3</td>\n",
              "      <td>2</td>\n",
              "      <td>2</td>\n",
              "      <td>2</td>\n",
              "      <td>1</td>\n",
              "      <td>2</td>\n",
              "      <td>1</td>\n",
              "      <td>7</td>\n",
              "      <td>4</td>\n",
              "      <td>4</td>\n",
              "      <td>3</td>\n",
              "      <td>1</td>\n",
              "      <td>2</td>\n",
              "      <td>0</td>\n",
              "      <td>1</td>\n",
              "      <td>0</td>\n",
              "      <td>0</td>\n",
              "      <td>1</td>\n",
              "      <td>0</td>\n",
              "      <td>1</td>\n",
              "      <td>1</td>\n",
              "      <td>0</td>\n",
              "      <td>1</td>\n",
              "      <td>0</td>\n",
              "      <td>1</td>\n",
              "      <td>1</td>\n",
              "      <td>3</td>\n",
              "      <td>0</td>\n",
              "      <td>6</td>\n",
              "      <td>10</td>\n",
              "    </tr>\n",
              "    <tr>\n",
              "      <th>1</th>\n",
              "      <td>1</td>\n",
              "      <td>647</td>\n",
              "      <td>5.0</td>\n",
              "      <td>4</td>\n",
              "      <td>2</td>\n",
              "      <td>3</td>\n",
              "      <td>1</td>\n",
              "      <td>1</td>\n",
              "      <td>1</td>\n",
              "      <td>1</td>\n",
              "      <td>0</td>\n",
              "      <td>0</td>\n",
              "      <td>1</td>\n",
              "      <td>2</td>\n",
              "      <td>3</td>\n",
              "      <td>4</td>\n",
              "      <td>0</td>\n",
              "      <td>4</td>\n",
              "      <td>3</td>\n",
              "      <td>2</td>\n",
              "      <td>0</td>\n",
              "      <td>1</td>\n",
              "      <td>0</td>\n",
              "      <td>1</td>\n",
              "      <td>1</td>\n",
              "      <td>0</td>\n",
              "      <td>1</td>\n",
              "      <td>1</td>\n",
              "      <td>0</td>\n",
              "      <td>1</td>\n",
              "      <td>0</td>\n",
              "      <td>1</td>\n",
              "      <td>1</td>\n",
              "      <td>2</td>\n",
              "      <td>0</td>\n",
              "      <td>1</td>\n",
              "      <td>7</td>\n",
              "    </tr>\n",
              "    <tr>\n",
              "      <th>2</th>\n",
              "      <td>2</td>\n",
              "      <td>1623</td>\n",
              "      <td>4.0</td>\n",
              "      <td>3</td>\n",
              "      <td>1</td>\n",
              "      <td>3</td>\n",
              "      <td>1</td>\n",
              "      <td>2</td>\n",
              "      <td>2</td>\n",
              "      <td>3</td>\n",
              "      <td>1</td>\n",
              "      <td>5</td>\n",
              "      <td>3</td>\n",
              "      <td>4</td>\n",
              "      <td>2</td>\n",
              "      <td>6</td>\n",
              "      <td>1</td>\n",
              "      <td>3</td>\n",
              "      <td>2</td>\n",
              "      <td>1</td>\n",
              "      <td>1</td>\n",
              "      <td>1</td>\n",
              "      <td>0</td>\n",
              "      <td>1</td>\n",
              "      <td>1</td>\n",
              "      <td>0</td>\n",
              "      <td>1</td>\n",
              "      <td>1</td>\n",
              "      <td>1</td>\n",
              "      <td>1</td>\n",
              "      <td>0</td>\n",
              "      <td>1</td>\n",
              "      <td>1</td>\n",
              "      <td>3</td>\n",
              "      <td>1</td>\n",
              "      <td>6</td>\n",
              "      <td>10</td>\n",
              "    </tr>\n",
              "    <tr>\n",
              "      <th>3</th>\n",
              "      <td>3</td>\n",
              "      <td>504</td>\n",
              "      <td>3.0</td>\n",
              "      <td>4</td>\n",
              "      <td>2</td>\n",
              "      <td>0</td>\n",
              "      <td>1</td>\n",
              "      <td>1</td>\n",
              "      <td>2</td>\n",
              "      <td>4</td>\n",
              "      <td>1</td>\n",
              "      <td>1</td>\n",
              "      <td>1</td>\n",
              "      <td>3</td>\n",
              "      <td>1</td>\n",
              "      <td>3</td>\n",
              "      <td>1</td>\n",
              "      <td>3</td>\n",
              "      <td>3</td>\n",
              "      <td>1</td>\n",
              "      <td>0</td>\n",
              "      <td>1</td>\n",
              "      <td>0</td>\n",
              "      <td>0</td>\n",
              "      <td>0</td>\n",
              "      <td>0</td>\n",
              "      <td>0</td>\n",
              "      <td>1</td>\n",
              "      <td>0</td>\n",
              "      <td>1</td>\n",
              "      <td>0</td>\n",
              "      <td>1</td>\n",
              "      <td>1</td>\n",
              "      <td>2</td>\n",
              "      <td>0</td>\n",
              "      <td>1</td>\n",
              "      <td>7</td>\n",
              "    </tr>\n",
              "    <tr>\n",
              "      <th>4</th>\n",
              "      <td>4</td>\n",
              "      <td>927</td>\n",
              "      <td>2.0</td>\n",
              "      <td>3</td>\n",
              "      <td>1</td>\n",
              "      <td>2</td>\n",
              "      <td>1</td>\n",
              "      <td>2</td>\n",
              "      <td>1</td>\n",
              "      <td>1</td>\n",
              "      <td>1</td>\n",
              "      <td>6</td>\n",
              "      <td>0</td>\n",
              "      <td>2</td>\n",
              "      <td>0</td>\n",
              "      <td>6</td>\n",
              "      <td>2</td>\n",
              "      <td>6</td>\n",
              "      <td>1</td>\n",
              "      <td>1</td>\n",
              "      <td>1</td>\n",
              "      <td>1</td>\n",
              "      <td>0</td>\n",
              "      <td>1</td>\n",
              "      <td>1</td>\n",
              "      <td>1</td>\n",
              "      <td>1</td>\n",
              "      <td>1</td>\n",
              "      <td>0</td>\n",
              "      <td>1</td>\n",
              "      <td>1</td>\n",
              "      <td>1</td>\n",
              "      <td>1</td>\n",
              "      <td>2</td>\n",
              "      <td>1</td>\n",
              "      <td>6</td>\n",
              "      <td>0</td>\n",
              "    </tr>\n",
              "    <tr>\n",
              "      <th>...</th>\n",
              "      <td>...</td>\n",
              "      <td>...</td>\n",
              "      <td>...</td>\n",
              "      <td>...</td>\n",
              "      <td>...</td>\n",
              "      <td>...</td>\n",
              "      <td>...</td>\n",
              "      <td>...</td>\n",
              "      <td>...</td>\n",
              "      <td>...</td>\n",
              "      <td>...</td>\n",
              "      <td>...</td>\n",
              "      <td>...</td>\n",
              "      <td>...</td>\n",
              "      <td>...</td>\n",
              "      <td>...</td>\n",
              "      <td>...</td>\n",
              "      <td>...</td>\n",
              "      <td>...</td>\n",
              "      <td>...</td>\n",
              "      <td>...</td>\n",
              "      <td>...</td>\n",
              "      <td>...</td>\n",
              "      <td>...</td>\n",
              "      <td>...</td>\n",
              "      <td>...</td>\n",
              "      <td>...</td>\n",
              "      <td>...</td>\n",
              "      <td>...</td>\n",
              "      <td>...</td>\n",
              "      <td>...</td>\n",
              "      <td>...</td>\n",
              "      <td>...</td>\n",
              "      <td>...</td>\n",
              "      <td>...</td>\n",
              "      <td>...</td>\n",
              "      <td>...</td>\n",
              "    </tr>\n",
              "    <tr>\n",
              "      <th>45527</th>\n",
              "      <td>45527</td>\n",
              "      <td>1050</td>\n",
              "      <td>1.0</td>\n",
              "      <td>2</td>\n",
              "      <td>1</td>\n",
              "      <td>1</td>\n",
              "      <td>3</td>\n",
              "      <td>1</td>\n",
              "      <td>1</td>\n",
              "      <td>2</td>\n",
              "      <td>6</td>\n",
              "      <td>1</td>\n",
              "      <td>2</td>\n",
              "      <td>6</td>\n",
              "      <td>3</td>\n",
              "      <td>0</td>\n",
              "      <td>6</td>\n",
              "      <td>4</td>\n",
              "      <td>3</td>\n",
              "      <td>2</td>\n",
              "      <td>1</td>\n",
              "      <td>1</td>\n",
              "      <td>0</td>\n",
              "      <td>1</td>\n",
              "      <td>1</td>\n",
              "      <td>0</td>\n",
              "      <td>1</td>\n",
              "      <td>1</td>\n",
              "      <td>1</td>\n",
              "      <td>1</td>\n",
              "      <td>0</td>\n",
              "      <td>1</td>\n",
              "      <td>1</td>\n",
              "      <td>1</td>\n",
              "      <td>0</td>\n",
              "      <td>6</td>\n",
              "      <td>8</td>\n",
              "    </tr>\n",
              "    <tr>\n",
              "      <th>45528</th>\n",
              "      <td>45528</td>\n",
              "      <td>581</td>\n",
              "      <td>1.0</td>\n",
              "      <td>2</td>\n",
              "      <td>1</td>\n",
              "      <td>2</td>\n",
              "      <td>1</td>\n",
              "      <td>1</td>\n",
              "      <td>2</td>\n",
              "      <td>2</td>\n",
              "      <td>2</td>\n",
              "      <td>3</td>\n",
              "      <td>1</td>\n",
              "      <td>3</td>\n",
              "      <td>3</td>\n",
              "      <td>4</td>\n",
              "      <td>1</td>\n",
              "      <td>5</td>\n",
              "      <td>1</td>\n",
              "      <td>2</td>\n",
              "      <td>1</td>\n",
              "      <td>1</td>\n",
              "      <td>1</td>\n",
              "      <td>1</td>\n",
              "      <td>1</td>\n",
              "      <td>0</td>\n",
              "      <td>1</td>\n",
              "      <td>1</td>\n",
              "      <td>1</td>\n",
              "      <td>1</td>\n",
              "      <td>0</td>\n",
              "      <td>1</td>\n",
              "      <td>1</td>\n",
              "      <td>3</td>\n",
              "      <td>1</td>\n",
              "      <td>6</td>\n",
              "      <td>1</td>\n",
              "    </tr>\n",
              "    <tr>\n",
              "      <th>45529</th>\n",
              "      <td>45529</td>\n",
              "      <td>593</td>\n",
              "      <td>4.0</td>\n",
              "      <td>2</td>\n",
              "      <td>1</td>\n",
              "      <td>1</td>\n",
              "      <td>1</td>\n",
              "      <td>1</td>\n",
              "      <td>4</td>\n",
              "      <td>4</td>\n",
              "      <td>2</td>\n",
              "      <td>4</td>\n",
              "      <td>0</td>\n",
              "      <td>1</td>\n",
              "      <td>0</td>\n",
              "      <td>2</td>\n",
              "      <td>1</td>\n",
              "      <td>6</td>\n",
              "      <td>2</td>\n",
              "      <td>1</td>\n",
              "      <td>1</td>\n",
              "      <td>1</td>\n",
              "      <td>0</td>\n",
              "      <td>1</td>\n",
              "      <td>1</td>\n",
              "      <td>0</td>\n",
              "      <td>1</td>\n",
              "      <td>1</td>\n",
              "      <td>0</td>\n",
              "      <td>1</td>\n",
              "      <td>0</td>\n",
              "      <td>1</td>\n",
              "      <td>1</td>\n",
              "      <td>1</td>\n",
              "      <td>0</td>\n",
              "      <td>6</td>\n",
              "      <td>5</td>\n",
              "    </tr>\n",
              "    <tr>\n",
              "      <th>45530</th>\n",
              "      <td>45530</td>\n",
              "      <td>747</td>\n",
              "      <td>2.0</td>\n",
              "      <td>4</td>\n",
              "      <td>1</td>\n",
              "      <td>2</td>\n",
              "      <td>3</td>\n",
              "      <td>1</td>\n",
              "      <td>1</td>\n",
              "      <td>2</td>\n",
              "      <td>0</td>\n",
              "      <td>4</td>\n",
              "      <td>0</td>\n",
              "      <td>1</td>\n",
              "      <td>3</td>\n",
              "      <td>2</td>\n",
              "      <td>2</td>\n",
              "      <td>4</td>\n",
              "      <td>0</td>\n",
              "      <td>1</td>\n",
              "      <td>1</td>\n",
              "      <td>1</td>\n",
              "      <td>0</td>\n",
              "      <td>1</td>\n",
              "      <td>1</td>\n",
              "      <td>0</td>\n",
              "      <td>1</td>\n",
              "      <td>1</td>\n",
              "      <td>1</td>\n",
              "      <td>1</td>\n",
              "      <td>0</td>\n",
              "      <td>1</td>\n",
              "      <td>1</td>\n",
              "      <td>4</td>\n",
              "      <td>1</td>\n",
              "      <td>6</td>\n",
              "      <td>1</td>\n",
              "    </tr>\n",
              "    <tr>\n",
              "      <th>45531</th>\n",
              "      <td>45531</td>\n",
              "      <td>496</td>\n",
              "      <td>3.0</td>\n",
              "      <td>2</td>\n",
              "      <td>1</td>\n",
              "      <td>3</td>\n",
              "      <td>1</td>\n",
              "      <td>1</td>\n",
              "      <td>3</td>\n",
              "      <td>2</td>\n",
              "      <td>1</td>\n",
              "      <td>2</td>\n",
              "      <td>3</td>\n",
              "      <td>0</td>\n",
              "      <td>2</td>\n",
              "      <td>3</td>\n",
              "      <td>1</td>\n",
              "      <td>2</td>\n",
              "      <td>2</td>\n",
              "      <td>1</td>\n",
              "      <td>1</td>\n",
              "      <td>1</td>\n",
              "      <td>0</td>\n",
              "      <td>1</td>\n",
              "      <td>1</td>\n",
              "      <td>0</td>\n",
              "      <td>1</td>\n",
              "      <td>1</td>\n",
              "      <td>0</td>\n",
              "      <td>1</td>\n",
              "      <td>0</td>\n",
              "      <td>1</td>\n",
              "      <td>1</td>\n",
              "      <td>2</td>\n",
              "      <td>1</td>\n",
              "      <td>6</td>\n",
              "      <td>0</td>\n",
              "    </tr>\n",
              "  </tbody>\n",
              "</table>\n",
              "<p>45532 rows × 37 columns</p>\n",
              "</div>"
            ],
            "text/plain": [
              "       index   QaE  QdA  education  engnat  familysize  hand  married  tp01  \\\n",
              "0          0   363  1.0          2       1           4     1        3     2   \n",
              "1          1   647  5.0          4       2           3     1        1     1   \n",
              "2          2  1623  4.0          3       1           3     1        2     2   \n",
              "3          3   504  3.0          4       2           0     1        1     2   \n",
              "4          4   927  2.0          3       1           2     1        2     1   \n",
              "...      ...   ...  ...        ...     ...         ...   ...      ...   ...   \n",
              "45527  45527  1050  1.0          2       1           1     3        1     1   \n",
              "45528  45528   581  1.0          2       1           2     1        1     2   \n",
              "45529  45529   593  4.0          2       1           1     1        1     4   \n",
              "45530  45530   747  2.0          4       1           2     3        1     1   \n",
              "45531  45531   496  3.0          2       1           3     1        1     3   \n",
              "\n",
              "       tp02  tp03  tp04  tp05  tp06  tp07  tp08  tp09  tp10  urban  voted  \\\n",
              "0         2     2     1     2     1     7     4     4     3      1      2   \n",
              "1         1     0     0     1     2     3     4     0     4      3      2   \n",
              "2         3     1     5     3     4     2     6     1     3      2      1   \n",
              "3         4     1     1     1     3     1     3     1     3      3      1   \n",
              "4         1     1     6     0     2     0     6     2     6      1      1   \n",
              "...     ...   ...   ...   ...   ...   ...   ...   ...   ...    ...    ...   \n",
              "45527     2     6     1     2     6     3     0     6     4      3      2   \n",
              "45528     2     2     3     1     3     3     4     1     5      1      2   \n",
              "45529     4     2     4     0     1     0     2     1     6      2      1   \n",
              "45530     2     0     4     0     1     3     2     2     4      0      1   \n",
              "45531     2     1     2     3     0     2     3     1     2      2      1   \n",
              "\n",
              "       wr_01  wr_02  wr_03  wr_04  wr_05  wr_06  wr_07  wr_08  wr_09  wr_10  \\\n",
              "0          0      1      0      0      1      0      1      1      0      1   \n",
              "1          0      1      0      1      1      0      1      1      0      1   \n",
              "2          1      1      0      1      1      0      1      1      1      1   \n",
              "3          0      1      0      0      0      0      0      1      0      1   \n",
              "4          1      1      0      1      1      1      1      1      0      1   \n",
              "...      ...    ...    ...    ...    ...    ...    ...    ...    ...    ...   \n",
              "45527      1      1      0      1      1      0      1      1      1      1   \n",
              "45528      1      1      1      1      1      0      1      1      1      1   \n",
              "45529      1      1      0      1      1      0      1      1      0      1   \n",
              "45530      1      1      0      1      1      0      1      1      1      1   \n",
              "45531      1      1      0      1      1      0      1      1      0      1   \n",
              "\n",
              "       wr_11  wr_12  wr_13  label_age_group  label_gender  label_race  \\\n",
              "0          0      1      1                3             0           6   \n",
              "1          0      1      1                2             0           1   \n",
              "2          0      1      1                3             1           6   \n",
              "3          0      1      1                2             0           1   \n",
              "4          1      1      1                2             1           6   \n",
              "...      ...    ...    ...              ...           ...         ...   \n",
              "45527      0      1      1                1             0           6   \n",
              "45528      0      1      1                3             1           6   \n",
              "45529      0      1      1                1             0           6   \n",
              "45530      0      1      1                4             1           6   \n",
              "45531      0      1      1                2             1           6   \n",
              "\n",
              "       label_religion  \n",
              "0                  10  \n",
              "1                   7  \n",
              "2                  10  \n",
              "3                   7  \n",
              "4                   0  \n",
              "...               ...  \n",
              "45527               8  \n",
              "45528               1  \n",
              "45529               5  \n",
              "45530               1  \n",
              "45531               0  \n",
              "\n",
              "[45532 rows x 37 columns]"
            ]
          },
          "metadata": {
            "tags": []
          },
          "execution_count": 11
        }
      ]
    },
    {
      "cell_type": "code",
      "metadata": {
        "colab": {
          "base_uri": "https://localhost:8080/",
          "height": 439
        },
        "id": "UJ8rfCmke866",
        "outputId": "922471d5-3d37-4a8f-913f-db2c3cb762f4"
      },
      "source": [
        "test"
      ],
      "execution_count": null,
      "outputs": [
        {
          "output_type": "execute_result",
          "data": {
            "text/html": [
              "<div>\n",
              "<style scoped>\n",
              "    .dataframe tbody tr th:only-of-type {\n",
              "        vertical-align: middle;\n",
              "    }\n",
              "\n",
              "    .dataframe tbody tr th {\n",
              "        vertical-align: top;\n",
              "    }\n",
              "\n",
              "    .dataframe thead th {\n",
              "        text-align: right;\n",
              "    }\n",
              "</style>\n",
              "<table border=\"1\" class=\"dataframe\">\n",
              "  <thead>\n",
              "    <tr style=\"text-align: right;\">\n",
              "      <th></th>\n",
              "      <th>index</th>\n",
              "      <th>QaE</th>\n",
              "      <th>QdA</th>\n",
              "      <th>education</th>\n",
              "      <th>engnat</th>\n",
              "      <th>familysize</th>\n",
              "      <th>hand</th>\n",
              "      <th>married</th>\n",
              "      <th>tp01</th>\n",
              "      <th>tp02</th>\n",
              "      <th>tp03</th>\n",
              "      <th>tp04</th>\n",
              "      <th>tp05</th>\n",
              "      <th>tp06</th>\n",
              "      <th>tp07</th>\n",
              "      <th>tp08</th>\n",
              "      <th>tp09</th>\n",
              "      <th>tp10</th>\n",
              "      <th>urban</th>\n",
              "      <th>wr_01</th>\n",
              "      <th>wr_02</th>\n",
              "      <th>wr_03</th>\n",
              "      <th>wr_04</th>\n",
              "      <th>wr_05</th>\n",
              "      <th>wr_06</th>\n",
              "      <th>wr_07</th>\n",
              "      <th>wr_08</th>\n",
              "      <th>wr_09</th>\n",
              "      <th>wr_10</th>\n",
              "      <th>wr_11</th>\n",
              "      <th>wr_12</th>\n",
              "      <th>wr_13</th>\n",
              "      <th>label_age_group</th>\n",
              "      <th>label_gender</th>\n",
              "      <th>label_race</th>\n",
              "      <th>label_religion</th>\n",
              "    </tr>\n",
              "  </thead>\n",
              "  <tbody>\n",
              "    <tr>\n",
              "      <th>0</th>\n",
              "      <td>0</td>\n",
              "      <td>736</td>\n",
              "      <td>1.0</td>\n",
              "      <td>2</td>\n",
              "      <td>2</td>\n",
              "      <td>3</td>\n",
              "      <td>1</td>\n",
              "      <td>1</td>\n",
              "      <td>2</td>\n",
              "      <td>1</td>\n",
              "      <td>1</td>\n",
              "      <td>4</td>\n",
              "      <td>1</td>\n",
              "      <td>2</td>\n",
              "      <td>2</td>\n",
              "      <td>3</td>\n",
              "      <td>4</td>\n",
              "      <td>4</td>\n",
              "      <td>2</td>\n",
              "      <td>0</td>\n",
              "      <td>1</td>\n",
              "      <td>0</td>\n",
              "      <td>0</td>\n",
              "      <td>1</td>\n",
              "      <td>0</td>\n",
              "      <td>0</td>\n",
              "      <td>1</td>\n",
              "      <td>0</td>\n",
              "      <td>1</td>\n",
              "      <td>0</td>\n",
              "      <td>1</td>\n",
              "      <td>1</td>\n",
              "      <td>1</td>\n",
              "      <td>1</td>\n",
              "      <td>6</td>\n",
              "      <td>6</td>\n",
              "    </tr>\n",
              "    <tr>\n",
              "      <th>1</th>\n",
              "      <td>1</td>\n",
              "      <td>514</td>\n",
              "      <td>3.0</td>\n",
              "      <td>2</td>\n",
              "      <td>2</td>\n",
              "      <td>2</td>\n",
              "      <td>2</td>\n",
              "      <td>1</td>\n",
              "      <td>7</td>\n",
              "      <td>7</td>\n",
              "      <td>7</td>\n",
              "      <td>7</td>\n",
              "      <td>7</td>\n",
              "      <td>7</td>\n",
              "      <td>7</td>\n",
              "      <td>7</td>\n",
              "      <td>7</td>\n",
              "      <td>7</td>\n",
              "      <td>3</td>\n",
              "      <td>0</td>\n",
              "      <td>0</td>\n",
              "      <td>0</td>\n",
              "      <td>0</td>\n",
              "      <td>0</td>\n",
              "      <td>0</td>\n",
              "      <td>0</td>\n",
              "      <td>0</td>\n",
              "      <td>0</td>\n",
              "      <td>0</td>\n",
              "      <td>0</td>\n",
              "      <td>0</td>\n",
              "      <td>0</td>\n",
              "      <td>1</td>\n",
              "      <td>1</td>\n",
              "      <td>5</td>\n",
              "      <td>3</td>\n",
              "    </tr>\n",
              "    <tr>\n",
              "      <th>2</th>\n",
              "      <td>2</td>\n",
              "      <td>500</td>\n",
              "      <td>2.0</td>\n",
              "      <td>3</td>\n",
              "      <td>2</td>\n",
              "      <td>7</td>\n",
              "      <td>1</td>\n",
              "      <td>2</td>\n",
              "      <td>6</td>\n",
              "      <td>2</td>\n",
              "      <td>3</td>\n",
              "      <td>0</td>\n",
              "      <td>6</td>\n",
              "      <td>1</td>\n",
              "      <td>2</td>\n",
              "      <td>2</td>\n",
              "      <td>4</td>\n",
              "      <td>1</td>\n",
              "      <td>1</td>\n",
              "      <td>0</td>\n",
              "      <td>1</td>\n",
              "      <td>0</td>\n",
              "      <td>0</td>\n",
              "      <td>1</td>\n",
              "      <td>0</td>\n",
              "      <td>1</td>\n",
              "      <td>1</td>\n",
              "      <td>0</td>\n",
              "      <td>1</td>\n",
              "      <td>0</td>\n",
              "      <td>1</td>\n",
              "      <td>1</td>\n",
              "      <td>3</td>\n",
              "      <td>1</td>\n",
              "      <td>5</td>\n",
              "      <td>5</td>\n",
              "    </tr>\n",
              "    <tr>\n",
              "      <th>3</th>\n",
              "      <td>3</td>\n",
              "      <td>669</td>\n",
              "      <td>2.0</td>\n",
              "      <td>4</td>\n",
              "      <td>1</td>\n",
              "      <td>4</td>\n",
              "      <td>1</td>\n",
              "      <td>2</td>\n",
              "      <td>0</td>\n",
              "      <td>5</td>\n",
              "      <td>1</td>\n",
              "      <td>6</td>\n",
              "      <td>0</td>\n",
              "      <td>6</td>\n",
              "      <td>0</td>\n",
              "      <td>5</td>\n",
              "      <td>1</td>\n",
              "      <td>6</td>\n",
              "      <td>2</td>\n",
              "      <td>1</td>\n",
              "      <td>1</td>\n",
              "      <td>1</td>\n",
              "      <td>1</td>\n",
              "      <td>1</td>\n",
              "      <td>1</td>\n",
              "      <td>1</td>\n",
              "      <td>1</td>\n",
              "      <td>1</td>\n",
              "      <td>1</td>\n",
              "      <td>1</td>\n",
              "      <td>1</td>\n",
              "      <td>1</td>\n",
              "      <td>6</td>\n",
              "      <td>1</td>\n",
              "      <td>6</td>\n",
              "      <td>3</td>\n",
              "    </tr>\n",
              "    <tr>\n",
              "      <th>4</th>\n",
              "      <td>4</td>\n",
              "      <td>499</td>\n",
              "      <td>2.0</td>\n",
              "      <td>2</td>\n",
              "      <td>1</td>\n",
              "      <td>3</td>\n",
              "      <td>1</td>\n",
              "      <td>1</td>\n",
              "      <td>6</td>\n",
              "      <td>1</td>\n",
              "      <td>2</td>\n",
              "      <td>2</td>\n",
              "      <td>3</td>\n",
              "      <td>0</td>\n",
              "      <td>5</td>\n",
              "      <td>2</td>\n",
              "      <td>4</td>\n",
              "      <td>3</td>\n",
              "      <td>2</td>\n",
              "      <td>1</td>\n",
              "      <td>1</td>\n",
              "      <td>0</td>\n",
              "      <td>1</td>\n",
              "      <td>1</td>\n",
              "      <td>0</td>\n",
              "      <td>1</td>\n",
              "      <td>1</td>\n",
              "      <td>0</td>\n",
              "      <td>1</td>\n",
              "      <td>1</td>\n",
              "      <td>1</td>\n",
              "      <td>1</td>\n",
              "      <td>1</td>\n",
              "      <td>1</td>\n",
              "      <td>6</td>\n",
              "      <td>0</td>\n",
              "    </tr>\n",
              "    <tr>\n",
              "      <th>...</th>\n",
              "      <td>...</td>\n",
              "      <td>...</td>\n",
              "      <td>...</td>\n",
              "      <td>...</td>\n",
              "      <td>...</td>\n",
              "      <td>...</td>\n",
              "      <td>...</td>\n",
              "      <td>...</td>\n",
              "      <td>...</td>\n",
              "      <td>...</td>\n",
              "      <td>...</td>\n",
              "      <td>...</td>\n",
              "      <td>...</td>\n",
              "      <td>...</td>\n",
              "      <td>...</td>\n",
              "      <td>...</td>\n",
              "      <td>...</td>\n",
              "      <td>...</td>\n",
              "      <td>...</td>\n",
              "      <td>...</td>\n",
              "      <td>...</td>\n",
              "      <td>...</td>\n",
              "      <td>...</td>\n",
              "      <td>...</td>\n",
              "      <td>...</td>\n",
              "      <td>...</td>\n",
              "      <td>...</td>\n",
              "      <td>...</td>\n",
              "      <td>...</td>\n",
              "      <td>...</td>\n",
              "      <td>...</td>\n",
              "      <td>...</td>\n",
              "      <td>...</td>\n",
              "      <td>...</td>\n",
              "      <td>...</td>\n",
              "      <td>...</td>\n",
              "    </tr>\n",
              "    <tr>\n",
              "      <th>11378</th>\n",
              "      <td>11378</td>\n",
              "      <td>427</td>\n",
              "      <td>1.0</td>\n",
              "      <td>3</td>\n",
              "      <td>2</td>\n",
              "      <td>3</td>\n",
              "      <td>1</td>\n",
              "      <td>1</td>\n",
              "      <td>1</td>\n",
              "      <td>0</td>\n",
              "      <td>0</td>\n",
              "      <td>3</td>\n",
              "      <td>0</td>\n",
              "      <td>4</td>\n",
              "      <td>1</td>\n",
              "      <td>0</td>\n",
              "      <td>4</td>\n",
              "      <td>5</td>\n",
              "      <td>0</td>\n",
              "      <td>1</td>\n",
              "      <td>1</td>\n",
              "      <td>0</td>\n",
              "      <td>1</td>\n",
              "      <td>1</td>\n",
              "      <td>0</td>\n",
              "      <td>1</td>\n",
              "      <td>1</td>\n",
              "      <td>0</td>\n",
              "      <td>1</td>\n",
              "      <td>0</td>\n",
              "      <td>1</td>\n",
              "      <td>1</td>\n",
              "      <td>2</td>\n",
              "      <td>0</td>\n",
              "      <td>5</td>\n",
              "      <td>3</td>\n",
              "    </tr>\n",
              "    <tr>\n",
              "      <th>11379</th>\n",
              "      <td>11379</td>\n",
              "      <td>314</td>\n",
              "      <td>1.0</td>\n",
              "      <td>2</td>\n",
              "      <td>2</td>\n",
              "      <td>1</td>\n",
              "      <td>1</td>\n",
              "      <td>1</td>\n",
              "      <td>2</td>\n",
              "      <td>0</td>\n",
              "      <td>2</td>\n",
              "      <td>0</td>\n",
              "      <td>0</td>\n",
              "      <td>6</td>\n",
              "      <td>0</td>\n",
              "      <td>0</td>\n",
              "      <td>6</td>\n",
              "      <td>4</td>\n",
              "      <td>2</td>\n",
              "      <td>1</td>\n",
              "      <td>1</td>\n",
              "      <td>1</td>\n",
              "      <td>1</td>\n",
              "      <td>1</td>\n",
              "      <td>1</td>\n",
              "      <td>1</td>\n",
              "      <td>1</td>\n",
              "      <td>1</td>\n",
              "      <td>1</td>\n",
              "      <td>1</td>\n",
              "      <td>1</td>\n",
              "      <td>1</td>\n",
              "      <td>1</td>\n",
              "      <td>0</td>\n",
              "      <td>1</td>\n",
              "      <td>0</td>\n",
              "    </tr>\n",
              "    <tr>\n",
              "      <th>11380</th>\n",
              "      <td>11380</td>\n",
              "      <td>627</td>\n",
              "      <td>2.0</td>\n",
              "      <td>4</td>\n",
              "      <td>1</td>\n",
              "      <td>4</td>\n",
              "      <td>1</td>\n",
              "      <td>2</td>\n",
              "      <td>4</td>\n",
              "      <td>2</td>\n",
              "      <td>1</td>\n",
              "      <td>6</td>\n",
              "      <td>1</td>\n",
              "      <td>2</td>\n",
              "      <td>1</td>\n",
              "      <td>6</td>\n",
              "      <td>0</td>\n",
              "      <td>5</td>\n",
              "      <td>1</td>\n",
              "      <td>1</td>\n",
              "      <td>1</td>\n",
              "      <td>1</td>\n",
              "      <td>1</td>\n",
              "      <td>1</td>\n",
              "      <td>0</td>\n",
              "      <td>1</td>\n",
              "      <td>1</td>\n",
              "      <td>0</td>\n",
              "      <td>1</td>\n",
              "      <td>0</td>\n",
              "      <td>1</td>\n",
              "      <td>1</td>\n",
              "      <td>3</td>\n",
              "      <td>1</td>\n",
              "      <td>6</td>\n",
              "      <td>1</td>\n",
              "    </tr>\n",
              "    <tr>\n",
              "      <th>11381</th>\n",
              "      <td>11381</td>\n",
              "      <td>539</td>\n",
              "      <td>1.0</td>\n",
              "      <td>2</td>\n",
              "      <td>1</td>\n",
              "      <td>3</td>\n",
              "      <td>1</td>\n",
              "      <td>2</td>\n",
              "      <td>4</td>\n",
              "      <td>6</td>\n",
              "      <td>1</td>\n",
              "      <td>6</td>\n",
              "      <td>0</td>\n",
              "      <td>2</td>\n",
              "      <td>1</td>\n",
              "      <td>6</td>\n",
              "      <td>1</td>\n",
              "      <td>5</td>\n",
              "      <td>2</td>\n",
              "      <td>1</td>\n",
              "      <td>1</td>\n",
              "      <td>0</td>\n",
              "      <td>1</td>\n",
              "      <td>0</td>\n",
              "      <td>0</td>\n",
              "      <td>1</td>\n",
              "      <td>1</td>\n",
              "      <td>0</td>\n",
              "      <td>1</td>\n",
              "      <td>1</td>\n",
              "      <td>1</td>\n",
              "      <td>0</td>\n",
              "      <td>4</td>\n",
              "      <td>0</td>\n",
              "      <td>6</td>\n",
              "      <td>1</td>\n",
              "    </tr>\n",
              "    <tr>\n",
              "      <th>11382</th>\n",
              "      <td>11382</td>\n",
              "      <td>541</td>\n",
              "      <td>2.0</td>\n",
              "      <td>4</td>\n",
              "      <td>2</td>\n",
              "      <td>2</td>\n",
              "      <td>1</td>\n",
              "      <td>1</td>\n",
              "      <td>2</td>\n",
              "      <td>2</td>\n",
              "      <td>2</td>\n",
              "      <td>0</td>\n",
              "      <td>0</td>\n",
              "      <td>1</td>\n",
              "      <td>0</td>\n",
              "      <td>5</td>\n",
              "      <td>5</td>\n",
              "      <td>6</td>\n",
              "      <td>3</td>\n",
              "      <td>0</td>\n",
              "      <td>0</td>\n",
              "      <td>0</td>\n",
              "      <td>0</td>\n",
              "      <td>0</td>\n",
              "      <td>1</td>\n",
              "      <td>0</td>\n",
              "      <td>1</td>\n",
              "      <td>0</td>\n",
              "      <td>0</td>\n",
              "      <td>1</td>\n",
              "      <td>0</td>\n",
              "      <td>0</td>\n",
              "      <td>2</td>\n",
              "      <td>0</td>\n",
              "      <td>1</td>\n",
              "      <td>5</td>\n",
              "    </tr>\n",
              "  </tbody>\n",
              "</table>\n",
              "<p>11383 rows × 36 columns</p>\n",
              "</div>"
            ],
            "text/plain": [
              "       index  QaE  QdA  education  engnat  familysize  hand  married  tp01  \\\n",
              "0          0  736  1.0          2       2           3     1        1     2   \n",
              "1          1  514  3.0          2       2           2     2        1     7   \n",
              "2          2  500  2.0          3       2           7     1        2     6   \n",
              "3          3  669  2.0          4       1           4     1        2     0   \n",
              "4          4  499  2.0          2       1           3     1        1     6   \n",
              "...      ...  ...  ...        ...     ...         ...   ...      ...   ...   \n",
              "11378  11378  427  1.0          3       2           3     1        1     1   \n",
              "11379  11379  314  1.0          2       2           1     1        1     2   \n",
              "11380  11380  627  2.0          4       1           4     1        2     4   \n",
              "11381  11381  539  1.0          2       1           3     1        2     4   \n",
              "11382  11382  541  2.0          4       2           2     1        1     2   \n",
              "\n",
              "       tp02  tp03  tp04  tp05  tp06  tp07  tp08  tp09  tp10  urban  wr_01  \\\n",
              "0         1     1     4     1     2     2     3     4     4      2      0   \n",
              "1         7     7     7     7     7     7     7     7     7      3      0   \n",
              "2         2     3     0     6     1     2     2     4     1      1      0   \n",
              "3         5     1     6     0     6     0     5     1     6      2      1   \n",
              "4         1     2     2     3     0     5     2     4     3      2      1   \n",
              "...     ...   ...   ...   ...   ...   ...   ...   ...   ...    ...    ...   \n",
              "11378     0     0     3     0     4     1     0     4     5      0      1   \n",
              "11379     0     2     0     0     6     0     0     6     4      2      1   \n",
              "11380     2     1     6     1     2     1     6     0     5      1      1   \n",
              "11381     6     1     6     0     2     1     6     1     5      2      1   \n",
              "11382     2     2     0     0     1     0     5     5     6      3      0   \n",
              "\n",
              "       wr_02  wr_03  wr_04  wr_05  wr_06  wr_07  wr_08  wr_09  wr_10  wr_11  \\\n",
              "0          1      0      0      1      0      0      1      0      1      0   \n",
              "1          0      0      0      0      0      0      0      0      0      0   \n",
              "2          1      0      0      1      0      1      1      0      1      0   \n",
              "3          1      1      1      1      1      1      1      1      1      1   \n",
              "4          1      0      1      1      0      1      1      0      1      1   \n",
              "...      ...    ...    ...    ...    ...    ...    ...    ...    ...    ...   \n",
              "11378      1      0      1      1      0      1      1      0      1      0   \n",
              "11379      1      1      1      1      1      1      1      1      1      1   \n",
              "11380      1      1      1      1      0      1      1      0      1      0   \n",
              "11381      1      0      1      0      0      1      1      0      1      1   \n",
              "11382      0      0      0      0      1      0      1      0      0      1   \n",
              "\n",
              "       wr_12  wr_13  label_age_group  label_gender  label_race  label_religion  \n",
              "0          1      1                1             1           6               6  \n",
              "1          0      0                1             1           5               3  \n",
              "2          1      1                3             1           5               5  \n",
              "3          1      1                6             1           6               3  \n",
              "4          1      1                1             1           6               0  \n",
              "...      ...    ...              ...           ...         ...             ...  \n",
              "11378      1      1                2             0           5               3  \n",
              "11379      1      1                1             0           1               0  \n",
              "11380      1      1                3             1           6               1  \n",
              "11381      1      0                4             0           6               1  \n",
              "11382      0      0                2             0           1               5  \n",
              "\n",
              "[11383 rows x 36 columns]"
            ]
          },
          "metadata": {
            "tags": []
          },
          "execution_count": 12
        }
      ]
    },
    {
      "cell_type": "markdown",
      "metadata": {
        "id": "ufwE8njKPUVu"
      },
      "source": [
        "## Q3 ) 시각화 (Matplotlib, Seaborn을 이용)\n",
        "- 데이터의 분포를 시각화해보세요\n",
        "- 자신만의 가설 3가지를 세우고 검증하세요"
      ]
    },
    {
      "cell_type": "markdown",
      "metadata": {
        "id": "RLmgF_WjfFvX"
      },
      "source": [
        "## 가설 1. 학력이 높을 수록 투표율이 높을 것이다."
      ]
    },
    {
      "cell_type": "code",
      "metadata": {
        "colab": {
          "base_uri": "https://localhost:8080/",
          "height": 595
        },
        "id": "N19zLIimfKN3",
        "outputId": "4bcedd87-ba5d-45c1-e30c-f1fc053ff84b"
      },
      "source": [
        "x_labels = ['무응답', 'Less than high school', 'High school', 'University degree', 'Graduate degree']\n",
        "ax = eda_df['education'].value_counts().sort_index().plot(kind='bar', rot=0, figsize=(8, 6))\n",
        "ax.set_xticklabels(x_labels)\n",
        "plt.show()"
      ],
      "execution_count": null,
      "outputs": [
        {
          "output_type": "stream",
          "text": [
            "findfont: Font family ['NanumBarunGothic'] not found. Falling back to DejaVu Sans.\n",
            "/usr/local/lib/python3.7/dist-packages/matplotlib/backends/backend_agg.py:214: RuntimeWarning: Glyph 47924 missing from current font.\n",
            "  font.set_text(s, 0.0, flags=flags)\n",
            "/usr/local/lib/python3.7/dist-packages/matplotlib/backends/backend_agg.py:214: RuntimeWarning: Glyph 51025 missing from current font.\n",
            "  font.set_text(s, 0.0, flags=flags)\n",
            "/usr/local/lib/python3.7/dist-packages/matplotlib/backends/backend_agg.py:214: RuntimeWarning: Glyph 45813 missing from current font.\n",
            "  font.set_text(s, 0.0, flags=flags)\n",
            "/usr/local/lib/python3.7/dist-packages/matplotlib/backends/backend_agg.py:183: RuntimeWarning: Glyph 47924 missing from current font.\n",
            "  font.set_text(s, 0, flags=flags)\n",
            "/usr/local/lib/python3.7/dist-packages/matplotlib/backends/backend_agg.py:183: RuntimeWarning: Glyph 51025 missing from current font.\n",
            "  font.set_text(s, 0, flags=flags)\n",
            "/usr/local/lib/python3.7/dist-packages/matplotlib/backends/backend_agg.py:183: RuntimeWarning: Glyph 45813 missing from current font.\n",
            "  font.set_text(s, 0, flags=flags)\n"
          ],
          "name": "stderr"
        },
        {
          "output_type": "display_data",
          "data": {
            "image/png": "[encoded data removed]",
            "text/plain": [
              "<Figure size 576x432 with 1 Axes>"
            ]
          },
          "metadata": {
            "tags": [],
            "needs_background": "light"
          }
        }
      ]
    },
    {
      "cell_type": "code",
      "metadata": {
        "colab": {
          "base_uri": "https://localhost:8080/",
          "height": 1000
        },
        "id": "DwFGJTzxgIwa",
        "outputId": "1191d299-c057-4203-bc22-f50afaec94f4"
      },
      "source": [
        "ax = eda_df.groupby('education')['voted'].value_counts(normalize=True).mul(100).unstack().plot.bar(stacked=True, rot=0, figsize=(8, 6))\n",
        "ax.set_xticklabels(x_labels)\n",
        "ax.set_title('학력별 투표율')\n",
        "plt.show()"
      ],
      "execution_count": null,
      "outputs": [
        {
          "output_type": "stream",
          "text": [
            "findfont: Font family ['NanumBarunGothic'] not found. Falling back to DejaVu Sans.\n",
            "/usr/local/lib/python3.7/dist-packages/matplotlib/backends/backend_agg.py:214: RuntimeWarning: Glyph 54617 missing from current font.\n",
            "  font.set_text(s, 0.0, flags=flags)\n",
            "/usr/local/lib/python3.7/dist-packages/matplotlib/backends/backend_agg.py:214: RuntimeWarning: Glyph 47141 missing from current font.\n",
            "  font.set_text(s, 0.0, flags=flags)\n",
            "/usr/local/lib/python3.7/dist-packages/matplotlib/backends/backend_agg.py:214: RuntimeWarning: Glyph 48324 missing from current font.\n",
            "  font.set_text(s, 0.0, flags=flags)\n",
            "/usr/local/lib/python3.7/dist-packages/matplotlib/backends/backend_agg.py:214: RuntimeWarning: Glyph 53804 missing from current font.\n",
            "  font.set_text(s, 0.0, flags=flags)\n",
            "/usr/local/lib/python3.7/dist-packages/matplotlib/backends/backend_agg.py:214: RuntimeWarning: Glyph 54364 missing from current font.\n",
            "  font.set_text(s, 0.0, flags=flags)\n",
            "/usr/local/lib/python3.7/dist-packages/matplotlib/backends/backend_agg.py:214: RuntimeWarning: Glyph 50984 missing from current font.\n",
            "  font.set_text(s, 0.0, flags=flags)\n",
            "/usr/local/lib/python3.7/dist-packages/matplotlib/backends/backend_agg.py:214: RuntimeWarning: Glyph 47924 missing from current font.\n",
            "  font.set_text(s, 0.0, flags=flags)\n",
            "/usr/local/lib/python3.7/dist-packages/matplotlib/backends/backend_agg.py:214: RuntimeWarning: Glyph 51025 missing from current font.\n",
            "  font.set_text(s, 0.0, flags=flags)\n",
            "/usr/local/lib/python3.7/dist-packages/matplotlib/backends/backend_agg.py:214: RuntimeWarning: Glyph 45813 missing from current font.\n",
            "  font.set_text(s, 0.0, flags=flags)\n",
            "/usr/local/lib/python3.7/dist-packages/matplotlib/backends/backend_agg.py:183: RuntimeWarning: Glyph 47924 missing from current font.\n",
            "  font.set_text(s, 0, flags=flags)\n",
            "/usr/local/lib/python3.7/dist-packages/matplotlib/backends/backend_agg.py:183: RuntimeWarning: Glyph 51025 missing from current font.\n",
            "  font.set_text(s, 0, flags=flags)\n",
            "/usr/local/lib/python3.7/dist-packages/matplotlib/backends/backend_agg.py:183: RuntimeWarning: Glyph 45813 missing from current font.\n",
            "  font.set_text(s, 0, flags=flags)\n",
            "/usr/local/lib/python3.7/dist-packages/matplotlib/backends/backend_agg.py:183: RuntimeWarning: Glyph 54617 missing from current font.\n",
            "  font.set_text(s, 0, flags=flags)\n",
            "/usr/local/lib/python3.7/dist-packages/matplotlib/backends/backend_agg.py:183: RuntimeWarning: Glyph 47141 missing from current font.\n",
            "  font.set_text(s, 0, flags=flags)\n",
            "/usr/local/lib/python3.7/dist-packages/matplotlib/backends/backend_agg.py:183: RuntimeWarning: Glyph 48324 missing from current font.\n",
            "  font.set_text(s, 0, flags=flags)\n",
            "/usr/local/lib/python3.7/dist-packages/matplotlib/backends/backend_agg.py:183: RuntimeWarning: Glyph 53804 missing from current font.\n",
            "  font.set_text(s, 0, flags=flags)\n",
            "/usr/local/lib/python3.7/dist-packages/matplotlib/backends/backend_agg.py:183: RuntimeWarning: Glyph 54364 missing from current font.\n",
            "  font.set_text(s, 0, flags=flags)\n",
            "/usr/local/lib/python3.7/dist-packages/matplotlib/backends/backend_agg.py:183: RuntimeWarning: Glyph 50984 missing from current font.\n",
            "  font.set_text(s, 0, flags=flags)\n"
          ],
          "name": "stderr"
        },
        {
          "output_type": "display_data",
          "data": {
            "image/png": "[encoded data removed]",
            "text/plain": [
              "<Figure size 576x432 with 1 Axes>"
            ]
          },
          "metadata": {
            "tags": [],
            "needs_background": "light"
          }
        }
      ]
    },
    {
      "cell_type": "markdown",
      "metadata": {
        "id": "AHS_XNoGgQJs"
      },
      "source": [
        "## 가설 2. 실존하는 해당 단어의 정의을 많이 알수록 투표율이 높을 것이다 "
      ]
    },
    {
      "cell_type": "code",
      "metadata": {
        "id": "B7Cp2AkCWLPe"
      },
      "source": [
        "# wr_(01~13) : 실존하는 해당 단어의 정의을 앎\n",
        "\n",
        "def set_know_count(df):\n",
        "    df['know_count'] = df.filter(regex = 'wr*').sum(axis = 1)\n",
        "    return df"
      ],
      "execution_count": 16,
      "outputs": []
    },
    {
      "cell_type": "code",
      "metadata": {
        "id": "mA1zzsKggPq8"
      },
      "source": [
        "eda_df = set_know_count(eda_df)\n",
        "test = set_know_count(test)"
      ],
      "execution_count": null,
      "outputs": []
    },
    {
      "cell_type": "code",
      "metadata": {
        "colab": {
          "base_uri": "https://localhost:8080/",
          "height": 282
        },
        "id": "Gm2OuecdgtZJ",
        "outputId": "45d40d92-bb3d-42bc-b7c0-daf2f5d1cf15"
      },
      "source": [
        "eda_df['know_count'].value_counts().sort_index().plot(kind = 'bar', rot = 0)"
      ],
      "execution_count": null,
      "outputs": [
        {
          "output_type": "execute_result",
          "data": {
            "text/plain": [
              "<matplotlib.axes._subplots.AxesSubplot at 0x7f0fe39d45d0>"
            ]
          },
          "metadata": {
            "tags": []
          },
          "execution_count": 17
        },
        {
          "output_type": "display_data",
          "data": {
            "image/png": "[encoded data removed]",
            "text/plain": [
              "<Figure size 432x288 with 1 Axes>"
            ]
          },
          "metadata": {
            "tags": [],
            "needs_background": "light"
          }
        }
      ]
    },
    {
      "cell_type": "code",
      "metadata": {
        "colab": {
          "base_uri": "https://localhost:8080/",
          "height": 389
        },
        "id": "twCvO268ghFT",
        "outputId": "6a012129-64a5-4a64-fe96-e7ea94d2f09b"
      },
      "source": [
        "ax = eda_df.groupby('know_count')['voted'].value_counts(normalize=True).mul(100).unstack().plot.bar(stacked=True, rot=0, figsize=(8, 6))\n",
        "plt.show()"
      ],
      "execution_count": null,
      "outputs": [
        {
          "output_type": "display_data",
          "data": {
            "image/png": "[encoded data removed]",
            "text/plain": [
              "<Figure size 576x432 with 1 Axes>"
            ]
          },
          "metadata": {
            "tags": [],
            "needs_background": "light"
          }
        }
      ]
    },
    {
      "cell_type": "markdown",
      "metadata": {
        "id": "aH7I7UZ_kozS"
      },
      "source": [
        "## 가설 3. 기혼이 투표율이 높을것이다."
      ]
    },
    {
      "cell_type": "code",
      "metadata": {
        "colab": {
          "base_uri": "https://localhost:8080/",
          "height": 388
        },
        "id": "oVk3SzP9hKuK",
        "outputId": "06765edc-829f-483f-d157-ee10aac6e13d"
      },
      "source": [
        "x_labels = ['Other', 'Naver married', 'Currently married', 'Previously married']\n",
        "ax = eda_df.groupby('married')['voted'].value_counts(normalize=True).mul(100).unstack().plot.bar(stacked=True, rot=0, figsize=(8, 6))\n",
        "ax.set_xticklabels(x_labels)\n",
        "plt.show()"
      ],
      "execution_count": null,
      "outputs": [
        {
          "output_type": "display_data",
          "data": {
            "image/png": "[encoded data removed]",
            "text/plain": [
              "<Figure size 576x432 with 1 Axes>"
            ]
          },
          "metadata": {
            "tags": [],
            "needs_background": "light"
          }
        }
      ]
    },
    {
      "cell_type": "markdown",
      "metadata": {
        "id": "Wi9eYqgyPj0v"
      },
      "source": [
        "## Q4) 학습시킬 데이터를 만들어 LGBMClassifier 모델을 만들고, 학습시켜 결과를 예측해보세요"
      ]
    },
    {
      "cell_type": "code",
      "metadata": {
        "id": "zynA36K5OfEq"
      },
      "source": [
        "train = train.assign(know_count = eda_df['know_count'])"
      ],
      "execution_count": null,
      "outputs": []
    },
    {
      "cell_type": "code",
      "metadata": {
        "id": "hX-eRqT4OfEr"
      },
      "source": [
        "wr_columns = [column for column in train.columns if column.startswith(\"wr\")]\n",
        "train = train.drop(columns = wr_columns, axis = 1)\n",
        "test = test.drop(columns = wr_columns, axis = 1)"
      ],
      "execution_count": null,
      "outputs": []
    },
    {
      "cell_type": "code",
      "metadata": {
        "id": "5_-DZQQsOfEr"
      },
      "source": [
        "train = train.drop(columns=['voted'], axis = 1)"
      ],
      "execution_count": null,
      "outputs": []
    },
    {
      "cell_type": "code",
      "metadata": {
        "id": "iz-Fr9MmN5UV"
      },
      "source": [
        "model = LGBMClassifier()\n",
        "model.fit(train, train_y)\n",
        "prediction = model.predict(test)"
      ],
      "execution_count": null,
      "outputs": []
    },
    {
      "cell_type": "markdown",
      "metadata": {
        "id": "miJtn67hPr_X"
      },
      "source": [
        "## Q5) 결과를 파일로 만들어 저장하고, DACON 사이트에 제출하세요"
      ]
    },
    {
      "cell_type": "code",
      "metadata": {
        "id": "s8H8DCOwPFll"
      },
      "source": [
        "submission['voted'] = prediction\n",
        "submission.to_csv('./심리성향 3주차 수업/submission.csv')"
      ],
      "execution_count": null,
      "outputs": []
    },
    {
      "cell_type": "markdown",
      "metadata": {
        "id": "El6NjJdGPz9v"
      },
      "source": [
        "## Q6 - 선택적 과제 ) 데이터를 다시 로드하고, 3주차 수업 내용을 적용해 성능을 높여보세요\n",
        "### 그리고 그 내용을 바탕으로 5월 24일에 진행할 15 ~ 20분 사이의 발표를 준비해보세요\n",
        "- 3주차 수업 내용\n",
        "  - 다양한 Encoder 적용 : Label Encoding, OneHot Encoding, Mean Encoding\n",
        "  - Cross Validation 적용 : Train_test_split, KFCV, Stratified KFCV\n",
        "  - Hyperparameter Optimization 적용 : Grid Search, Random Search, Bayesian Optimization\n",
        "\n",
        "- 알아볼만한 내용\n",
        "  - 피쳐를 최대한 활용해보세요. (BaseLine에서는 QdE, QdA만 활용했었음)\n",
        "  - 새로운 피쳐들을 만들어 보세요.\n",
        "  - 이상치가 있는 데이터를 어떻게 활용하면 좋을지 생각해보세요\n",
        "  - Scaler를 이용해서 변환해보세요\n",
        "  - 데이터의 분포를 보고 Log 변환을 적용해보세요\n",
        "  - 단일 모델 이외의 다른 모델도 학습시켜 앙상블해보세요\n",
        "\n"
      ]
    },
    {
      "cell_type": "code",
      "metadata": {
        "colab": {
          "base_uri": "https://localhost:8080/"
        },
        "id": "upuSaJr08WfJ",
        "outputId": "e7cd649e-70b2-4703-926c-482b5872f180"
      },
      "source": [
        "train, test, submission = load_data()"
      ],
      "execution_count": null,
      "outputs": [
        {
          "output_type": "stream",
          "text": [
            "/content/content/MyDrive/Dacon school\n"
          ],
          "name": "stdout"
        }
      ]
    },
    {
      "cell_type": "code",
      "metadata": {
        "id": "XYkwBFVZ8NiC"
      },
      "source": [
        "def init_data(train, test):\n",
        "    drop_val = ['QaA', 'QbA', 'QbE', 'QcA', 'QcE', 'QdE', 'QeA','QeE',\n",
        "       'QfA', 'QfE', 'QgA', 'QgE', 'QhA', 'QhE', 'QiA', 'QiE', 'QjA', 'QjE',\n",
        "       'QkA', 'QkE', 'QlA', 'QlE', 'QmA', 'QmE', 'QnA', 'QnE', 'QoA', 'QoE',\n",
        "       'QpA', 'QpE', 'QqA', 'QqE', 'QrA', 'QrE', 'QsA', 'QsE', 'QtA', 'QtE',\n",
        "       'wf_01', 'wf_02', 'wf_03']\n",
        "\n",
        "    train_ = train.drop(drop_val, axis = 1)\n",
        "    test_ = test.drop(drop_val, axis = 1)\n",
        "\n",
        "    train_ = set_know_count(train_)\n",
        "    test_ = set_know_count(test_)\n",
        "\n",
        "    train_y = train_['voted']\n",
        "    train_ = train_.drop(['voted'], axis = 1)\n",
        "\n",
        "    train_ = train_.drop(train_.filter(regex = 'wr_*').columns.tolist(), axis = 1)\n",
        "    test_ = test_.drop(test_.filter(regex = 'wr_*').columns.tolist(), axis = 1)\n",
        "\n",
        "    return train_, train_y, test_"
      ],
      "execution_count": 11,
      "outputs": []
    },
    {
      "cell_type": "markdown",
      "metadata": {
        "id": "UJUjQpYxZdoR"
      },
      "source": [
        "## Hyperparameter Optimization"
      ]
    },
    {
      "cell_type": "markdown",
      "metadata": {
        "id": "lPgp310kZvX5"
      },
      "source": [
        "### 기본 점수"
      ]
    },
    {
      "cell_type": "code",
      "metadata": {
        "id": "qlwHhM1zZ_wL"
      },
      "source": [
        "from sklearn.model_selection import cross_val_score"
      ],
      "execution_count": 27,
      "outputs": []
    },
    {
      "cell_type": "code",
      "metadata": {
        "id": "wd_km8mj_QOD"
      },
      "source": [
        "scores = {}"
      ],
      "execution_count": null,
      "outputs": []
    },
    {
      "cell_type": "code",
      "metadata": {
        "colab": {
          "base_uri": "https://localhost:8080/"
        },
        "id": "02oeDkQBneId",
        "outputId": "0b37d32a-7c75-4df6-c792-7299b95ba821"
      },
      "source": [
        "train, test, submission = load_data()\n",
        "train, test = label_encoding(train, test, string_columns)"
      ],
      "execution_count": null,
      "outputs": [
        {
          "output_type": "stream",
          "text": [
            "/content/content/MyDrive/Dacon school\n"
          ],
          "name": "stdout"
        }
      ]
    },
    {
      "cell_type": "code",
      "metadata": {
        "id": "5UA0eDts890O"
      },
      "source": [
        "train, train_y, test = init_data(train, test)"
      ],
      "execution_count": null,
      "outputs": []
    },
    {
      "cell_type": "code",
      "metadata": {
        "colab": {
          "base_uri": "https://localhost:8080/"
        },
        "id": "dKUDo1zxZ0Hh",
        "outputId": "e2dcc0ab-9646-4677-c5e9-288666898705"
      },
      "source": [
        "model = LGBMClassifier()\n",
        "model.fit(train, train_y)\n",
        "normal_score = cross_val_score(model, train, train_y, cv = 3, scoring= 'roc_auc')\n",
        "print('기본 점수 : ', np.mean(normal_score))"
      ],
      "execution_count": null,
      "outputs": [
        {
          "output_type": "stream",
          "text": [
            "기본 점수 :  0.7619959487431558\n"
          ],
          "name": "stdout"
        }
      ]
    },
    {
      "cell_type": "code",
      "metadata": {
        "id": "jS2WFVVU_Vhk"
      },
      "source": [
        "scores['noraml_score'] = np.mean(normal_score)"
      ],
      "execution_count": null,
      "outputs": []
    },
    {
      "cell_type": "markdown",
      "metadata": {
        "id": "uq4RSdncZhfa"
      },
      "source": [
        "### 1. Grid search"
      ]
    },
    {
      "cell_type": "code",
      "metadata": {
        "id": "RsgRh4UgckxK"
      },
      "source": [
        "from sklearn.model_selection import GridSearchCV"
      ],
      "execution_count": null,
      "outputs": []
    },
    {
      "cell_type": "code",
      "metadata": {
        "id": "RUnEB0R7aLl4"
      },
      "source": [
        "param_grid = {\n",
        "    'n_estimators': [300, 500, 700],\n",
        "    'learning_rate': [0.1, 0.01, 0.001],\n",
        "    'max_depth': [3, 5, 7]\n",
        "}"
      ],
      "execution_count": null,
      "outputs": []
    },
    {
      "cell_type": "code",
      "metadata": {
        "id": "1QYPu62o7fjr"
      },
      "source": [
        "def get_grid_model(cv, X, y):\n",
        "    model = LGBMClassifier()\n",
        "\n",
        "    grid_search = GridSearchCV(model, param_grid = param_grid, scoring = 'roc_auc', n_jobs = -1, cv = cv)\n",
        "    grid_search.fit(X, y)\n",
        "\n",
        "    grid_hyperparams = grid_search.best_params_\n",
        "    print(grid_hyperparams)\n",
        "\n",
        "    return LGBMClassifier(**grid_hyperparams)"
      ],
      "execution_count": 12,
      "outputs": []
    },
    {
      "cell_type": "code",
      "metadata": {
        "colab": {
          "base_uri": "https://localhost:8080/"
        },
        "id": "rd8dEGV2a8bA",
        "outputId": "00abfbe2-1f34-4af3-e113-303b5d3e71fa"
      },
      "source": [
        "grid_model = get_grid_model(3, train, train_y)"
      ],
      "execution_count": null,
      "outputs": [
        {
          "output_type": "stream",
          "text": [
            "{'learning_rate': 0.01, 'max_depth': 5, 'n_estimators': 500}\n"
          ],
          "name": "stdout"
        }
      ]
    },
    {
      "cell_type": "code",
      "metadata": {
        "colab": {
          "base_uri": "https://localhost:8080/"
        },
        "id": "y2Mv_AfM-FLM",
        "outputId": "a1a66439-ccd6-48dd-b44a-1e433ef92a6f"
      },
      "source": [
        "grid_model.fit(train, train_y)\n",
        "grid_search_score = cross_val_score(grid_model, train, train_y, cv = 3, scoring = 'roc_auc')\n",
        "print(\"Grid search 후 점수:\", np.mean(grid_search_score))"
      ],
      "execution_count": null,
      "outputs": [
        {
          "output_type": "stream",
          "text": [
            "Grid search 후 점수: 0.7662430812265733\n"
          ],
          "name": "stdout"
        }
      ]
    },
    {
      "cell_type": "code",
      "metadata": {
        "id": "lFAbKwNv_c7n"
      },
      "source": [
        "scores['grid_search_score'] = np.mean(grid_search_score)"
      ],
      "execution_count": null,
      "outputs": []
    },
    {
      "cell_type": "markdown",
      "metadata": {
        "id": "vkz_tqGFcH5Y"
      },
      "source": [
        "### 2. Random search"
      ]
    },
    {
      "cell_type": "code",
      "metadata": {
        "id": "HRaa98xkcoR6"
      },
      "source": [
        "from sklearn.model_selection import RandomizedSearchCV"
      ],
      "execution_count": 23,
      "outputs": []
    },
    {
      "cell_type": "code",
      "metadata": {
        "id": "3-vcxYrjcEbL"
      },
      "source": [
        "param_random = {\n",
        "    'n_estimators': range(300, 501),\n",
        "    'learning_rate': np.arange(0.01, 0.1, 0.001),\n",
        "    'max_depth': range(3, 10)\n",
        "}"
      ],
      "execution_count": 25,
      "outputs": []
    },
    {
      "cell_type": "code",
      "metadata": {
        "id": "hplNASuW71Rh"
      },
      "source": [
        "def get_random_model(cv, X, y):\n",
        "    model = LGBMClassifier()\n",
        "    random_search = RandomizedSearchCV(model, param_random, scoring = 'roc_auc', n_jobs = -1, cv = cv)\n",
        "    random_search.fit(X, y)\n",
        "\n",
        "    random_hyperparams = random_search.best_params_\n",
        "    print(random_hyperparams)\n",
        "\n",
        "    return LGBMClassifier(**random_hyperparams)"
      ],
      "execution_count": 13,
      "outputs": []
    },
    {
      "cell_type": "code",
      "metadata": {
        "colab": {
          "base_uri": "https://localhost:8080/"
        },
        "id": "zc908BiGdEgp",
        "outputId": "6cc9847d-9201-4d4e-f447-ed153e87d3b2"
      },
      "source": [
        "random_model = get_random_model(3, train, train_y)"
      ],
      "execution_count": null,
      "outputs": [
        {
          "output_type": "stream",
          "text": [
            "{'n_estimators': 384, 'max_depth': 9, 'learning_rate': 0.014999999999999996}\n"
          ],
          "name": "stdout"
        }
      ]
    },
    {
      "cell_type": "code",
      "metadata": {
        "colab": {
          "base_uri": "https://localhost:8080/"
        },
        "id": "nPdoEKWA-qAd",
        "outputId": "e2a5dd0c-eaf7-44c3-984f-c2169144afae"
      },
      "source": [
        "random_model.fit(train, train_y)\n",
        "random_search_score = cross_val_score(random_model, train, train_y, cv = 3, scoring='roc_auc')\n",
        "print('RANDOM SEARCH 후 점수 : ', np.mean(random_search_score))"
      ],
      "execution_count": null,
      "outputs": [
        {
          "output_type": "stream",
          "text": [
            "RANDOM SEARCH 후 점수 :  0.7664489599172506\n"
          ],
          "name": "stdout"
        }
      ]
    },
    {
      "cell_type": "code",
      "metadata": {
        "id": "1lKrVsBO_kCb"
      },
      "source": [
        "scores['random_search_score'] = np.mean(random_search_score)"
      ],
      "execution_count": null,
      "outputs": []
    },
    {
      "cell_type": "markdown",
      "metadata": {
        "id": "lJD3R4Jdh4Va"
      },
      "source": [
        "## Cross validation"
      ]
    },
    {
      "cell_type": "code",
      "metadata": {
        "id": "aSrDv1Hz56lg"
      },
      "source": [
        "from sklearn.model_selection import StratifiedKFold, KFold, train_test_split"
      ],
      "execution_count": 20,
      "outputs": []
    },
    {
      "cell_type": "markdown",
      "metadata": {
        "id": "AxXUfspi56lg"
      },
      "source": [
        "### 1. Holdout"
      ]
    },
    {
      "cell_type": "code",
      "metadata": {
        "colab": {
          "base_uri": "https://localhost:8080/"
        },
        "id": "ulm7-43756lg",
        "outputId": "00b74abc-2347-4f2d-9fb5-728a4a290763"
      },
      "source": [
        "train, test, submission = load_data()\n",
        "train, train_y, test = init_data(train, test)\n",
        "train_x, valid_x, train_y, valid_y = train_test_split(train, train_y, test_size=0.3)"
      ],
      "execution_count": null,
      "outputs": [
        {
          "output_type": "stream",
          "text": [
            "/content/content/MyDrive/Dacon school\n"
          ],
          "name": "stdout"
        }
      ]
    },
    {
      "cell_type": "code",
      "metadata": {
        "colab": {
          "base_uri": "https://localhost:8080/"
        },
        "id": "L-JyPFAz56lh",
        "outputId": "ee1befda-f6f4-484f-902f-9c4e6c3fb7a8"
      },
      "source": [
        "train_x, valid_x = label_encoding(train_x, valid_x, string_columns)"
      ],
      "execution_count": null,
      "outputs": [
        {
          "output_type": "stream",
          "text": [
            "/usr/local/lib/python3.7/dist-packages/ipykernel_launcher.py:8: SettingWithCopyWarning: \n",
            "A value is trying to be set on a copy of a slice from a DataFrame.\n",
            "Try using .loc[row_indexer,col_indexer] = value instead\n",
            "\n",
            "See the caveats in the documentation: https://pandas.pydata.org/pandas-docs/stable/user_guide/indexing.html#returning-a-view-versus-a-copy\n",
            "  \n",
            "/usr/local/lib/python3.7/dist-packages/ipykernel_launcher.py:9: SettingWithCopyWarning: \n",
            "A value is trying to be set on a copy of a slice from a DataFrame.\n",
            "Try using .loc[row_indexer,col_indexer] = value instead\n",
            "\n",
            "See the caveats in the documentation: https://pandas.pydata.org/pandas-docs/stable/user_guide/indexing.html#returning-a-view-versus-a-copy\n",
            "  if __name__ == '__main__':\n"
          ],
          "name": "stderr"
        }
      ]
    },
    {
      "cell_type": "code",
      "metadata": {
        "colab": {
          "base_uri": "https://localhost:8080/"
        },
        "id": "BQZmywrz56lh",
        "outputId": "67a98635-286e-4a55-af54-b0eed2829ab4"
      },
      "source": [
        "model = LGBMClassifier()\n",
        "model.fit(train_x, train_y)\n",
        "prediction = model.predict(valid_x)\n",
        "holdout_score = roc_auc_score(valid_y, prediction)\n",
        "print(holdout_score)"
      ],
      "execution_count": null,
      "outputs": [
        {
          "output_type": "stream",
          "text": [
            "0.7053787548661354\n"
          ],
          "name": "stdout"
        }
      ]
    },
    {
      "cell_type": "code",
      "metadata": {
        "id": "RSKv0bfb_ph_"
      },
      "source": [
        "scores['holdout_score'] = holdout_score"
      ],
      "execution_count": null,
      "outputs": []
    },
    {
      "cell_type": "markdown",
      "metadata": {
        "id": "tL1PKYLmX0aO"
      },
      "source": [
        "### 2. KFCV"
      ]
    },
    {
      "cell_type": "code",
      "metadata": {
        "colab": {
          "base_uri": "https://localhost:8080/"
        },
        "id": "ff4Uj7EB_0oI",
        "outputId": "9a116118-b38d-4d18-93dd-baffd52bf46e"
      },
      "source": [
        "train, test, submission = load_data()\n",
        "train, test = label_encoding(train, test, string_columns)"
      ],
      "execution_count": null,
      "outputs": [
        {
          "output_type": "stream",
          "text": [
            "/content/content/MyDrive/Dacon school\n"
          ],
          "name": "stdout"
        }
      ]
    },
    {
      "cell_type": "code",
      "metadata": {
        "id": "uEJ_lmgT_0oJ"
      },
      "source": [
        "train, train_y, test = init_data(train, test)"
      ],
      "execution_count": null,
      "outputs": []
    },
    {
      "cell_type": "markdown",
      "metadata": {
        "id": "PXGp1I7_1jQP"
      },
      "source": [
        "#### KFCV - Normal"
      ]
    },
    {
      "cell_type": "code",
      "metadata": {
        "colab": {
          "base_uri": "https://localhost:8080/"
        },
        "id": "2qINmEfJWD_c",
        "outputId": "f01de2d0-88d8-4a1a-8b73-d31d6c30c2f9"
      },
      "source": [
        "kfold = KFold(n_splits=4, shuffle=True)\n",
        "\n",
        "model = LGBMClassifier()\n",
        "model.fit(train, train_y)\n",
        "kfold_normal_score = cross_val_score(model, train, train_y, cv = kfold, scoring= 'roc_auc')\n",
        "print('기본 점수 : ', np.mean(kfold_normal_score))"
      ],
      "execution_count": null,
      "outputs": [
        {
          "output_type": "stream",
          "text": [
            "기본 점수 :  0.7654603641696518\n"
          ],
          "name": "stdout"
        }
      ]
    },
    {
      "cell_type": "code",
      "metadata": {
        "id": "zoWe5t0n10VN"
      },
      "source": [
        "pred = model.predict(test)\n",
        "submission['voted'] = pred\n",
        "submission.to_csv('./심리성향 3주차 수업/kfcv_normal_submission.csv')"
      ],
      "execution_count": null,
      "outputs": []
    },
    {
      "cell_type": "code",
      "metadata": {
        "id": "qPyWf_sC_5f5"
      },
      "source": [
        "scores['kfold_noraml_score'] = np.mean(kfold_normal_score)"
      ],
      "execution_count": null,
      "outputs": []
    },
    {
      "cell_type": "markdown",
      "metadata": {
        "id": "Qar9CjIG1p5Y"
      },
      "source": [
        "#### KFCV - Grid search"
      ]
    },
    {
      "cell_type": "code",
      "metadata": {
        "colab": {
          "base_uri": "https://localhost:8080/"
        },
        "id": "kCa7yCOW1cs5",
        "outputId": "f563d51e-0806-49c1-d615-53af7aa31dc6"
      },
      "source": [
        "grid_model = get_grid_model(kfold, train, train_y)"
      ],
      "execution_count": null,
      "outputs": [
        {
          "output_type": "stream",
          "text": [
            "{'learning_rate': 0.01, 'max_depth': 7, 'n_estimators': 500}\n"
          ],
          "name": "stdout"
        }
      ]
    },
    {
      "cell_type": "code",
      "metadata": {
        "colab": {
          "base_uri": "https://localhost:8080/"
        },
        "id": "JrCrqT0MAMxo",
        "outputId": "296d631e-5cf6-40f1-d510-fd771ea006fb"
      },
      "source": [
        "grid_model.fit(train, train_y)\n",
        "kfold_grid_score = cross_val_score(grid_model, train, train_y, cv = kfold, scoring = 'roc_auc')\n",
        "print(\"Grid search 후 점수:\", np.mean(kfold_grid_score))"
      ],
      "execution_count": null,
      "outputs": [
        {
          "output_type": "stream",
          "text": [
            "Grid search 후 점수: 0.7673509807345695\n"
          ],
          "name": "stdout"
        }
      ]
    },
    {
      "cell_type": "code",
      "metadata": {
        "id": "s7RjQuvK3L3R"
      },
      "source": [
        "pred = grid_model.predict(test)\n",
        "submission['voted'] = pred\n",
        "submission.to_csv('./심리성향 3주차 수업/kfcv_grid_search_submission.csv')"
      ],
      "execution_count": null,
      "outputs": []
    },
    {
      "cell_type": "code",
      "metadata": {
        "id": "SFbsXZU8ANr-"
      },
      "source": [
        "scores['kfold_grid_search_score'] = np.mean(kfold_grid_score)"
      ],
      "execution_count": null,
      "outputs": []
    },
    {
      "cell_type": "markdown",
      "metadata": {
        "id": "dIjW6umC3RCu"
      },
      "source": [
        "### KFCV - Random search"
      ]
    },
    {
      "cell_type": "code",
      "metadata": {
        "colab": {
          "base_uri": "https://localhost:8080/"
        },
        "id": "usgI0hC_Agv3",
        "outputId": "65e5ce1b-bfcf-4f1e-bb66-8a843df9c1d5"
      },
      "source": [
        "random_model = get_random_model(kfold, train, train_y)"
      ],
      "execution_count": null,
      "outputs": [
        {
          "output_type": "stream",
          "text": [
            "{'n_estimators': 490, 'max_depth': 4, 'learning_rate': 0.04699999999999997}\n"
          ],
          "name": "stdout"
        }
      ]
    },
    {
      "cell_type": "code",
      "metadata": {
        "colab": {
          "base_uri": "https://localhost:8080/"
        },
        "id": "W3uDD_Pp3Z9o",
        "outputId": "b3380046-ae6e-4625-cd8e-728546a0b63a"
      },
      "source": [
        "random_model.fit(train, train_y)\n",
        "kfold_random_score = cross_val_score(random_model, train, train_y, cv = kfold, scoring='roc_auc')\n",
        "print('RANDOM SEARCH 후 점수 : ', np.mean(kfold_random_score))"
      ],
      "execution_count": null,
      "outputs": [
        {
          "output_type": "stream",
          "text": [
            "RANDOM SEARCH 후 점수 :  0.7655841408287802\n"
          ],
          "name": "stdout"
        }
      ]
    },
    {
      "cell_type": "code",
      "metadata": {
        "id": "Ox5VkDfG3pws"
      },
      "source": [
        "pred = random_model.predict(test)\n",
        "submission['voted'] = pred\n",
        "submission.to_csv('./심리성향 3주차 수업/kfcv_random_search_submission.csv')"
      ],
      "execution_count": null,
      "outputs": []
    },
    {
      "cell_type": "code",
      "metadata": {
        "id": "q6NHjSPbAiok"
      },
      "source": [
        "scores['kfold_random_search_score'] = np.mean(kfold_random_score)"
      ],
      "execution_count": null,
      "outputs": []
    },
    {
      "cell_type": "markdown",
      "metadata": {
        "id": "seLrKlfyh1dQ"
      },
      "source": [
        "### 2. Stratified KFCV"
      ]
    },
    {
      "cell_type": "code",
      "metadata": {
        "id": "8aeRR9AniFki"
      },
      "source": [
        "from sklearn.model_selection import StratifiedKFold"
      ],
      "execution_count": null,
      "outputs": []
    },
    {
      "cell_type": "code",
      "metadata": {
        "colab": {
          "base_uri": "https://localhost:8080/"
        },
        "id": "Eqe8SL1bJ4oE",
        "outputId": "082aeb29-6fd7-47de-ea19-1748448fcedc"
      },
      "source": [
        "train, test, submission = load_data()\n",
        "train, test = label_encoding(train, test, string_columns)"
      ],
      "execution_count": null,
      "outputs": [
        {
          "output_type": "stream",
          "text": [
            "/content/content/MyDrive/Dacon school\n"
          ],
          "name": "stdout"
        }
      ]
    },
    {
      "cell_type": "code",
      "metadata": {
        "id": "06fXXn10J4oF"
      },
      "source": [
        "train, train_y, test = init_data(train, test)"
      ],
      "execution_count": null,
      "outputs": []
    },
    {
      "cell_type": "markdown",
      "metadata": {
        "id": "Jt5vp-BI36oI"
      },
      "source": [
        "#### Stratified KFCV - Normal"
      ]
    },
    {
      "cell_type": "code",
      "metadata": {
        "id": "Jb1yC3ca4Gqz"
      },
      "source": [
        "skfold = StratifiedKFold(n_splits = 4, shuffle = True)"
      ],
      "execution_count": null,
      "outputs": []
    },
    {
      "cell_type": "code",
      "metadata": {
        "colab": {
          "base_uri": "https://localhost:8080/"
        },
        "id": "2MvkfXYD4Dpk",
        "outputId": "6d1f9601-dc0a-4595-d68f-78ec1e26803e"
      },
      "source": [
        "model = LGBMClassifier()\n",
        "model.fit(train, train_y)\n",
        "skfold_normal_score = cross_val_score(model, train, train_y, cv = skfold, scoring= 'roc_auc')\n",
        "print('기본 점수 : ', np.mean(skfold_normal_score))"
      ],
      "execution_count": null,
      "outputs": [
        {
          "output_type": "stream",
          "text": [
            "기본 점수 :  0.7655090276223184\n"
          ],
          "name": "stdout"
        }
      ]
    },
    {
      "cell_type": "code",
      "metadata": {
        "id": "rhhrmmfD4Dpl"
      },
      "source": [
        "pred = model.predict(test)\n",
        "submission['voted'] = pred\n",
        "submission.to_csv('./심리성향 3주차 수업/skfold_normal_submission.csv')"
      ],
      "execution_count": null,
      "outputs": []
    },
    {
      "cell_type": "code",
      "metadata": {
        "id": "m5NqvECvAqnx"
      },
      "source": [
        "scores['skfold_normal_score'] = np.mean(skfold_normal_score)"
      ],
      "execution_count": null,
      "outputs": []
    },
    {
      "cell_type": "markdown",
      "metadata": {
        "id": "aa9dAJJX4P-j"
      },
      "source": [
        "#### Stratified KFCV - Grid search"
      ]
    },
    {
      "cell_type": "code",
      "metadata": {
        "colab": {
          "base_uri": "https://localhost:8080/"
        },
        "id": "crivy90e4Wxl",
        "outputId": "e781b718-715f-4772-d781-a909ff958634"
      },
      "source": [
        "grid_model = get_grid_model(skfold, train, train_y)"
      ],
      "execution_count": null,
      "outputs": [
        {
          "output_type": "stream",
          "text": [
            "{'learning_rate': 0.01, 'max_depth': 7, 'n_estimators': 500}\n"
          ],
          "name": "stdout"
        }
      ]
    },
    {
      "cell_type": "code",
      "metadata": {
        "colab": {
          "base_uri": "https://localhost:8080/"
        },
        "id": "28yrUwYv4Wxv",
        "outputId": "04f278dd-c8a8-425f-fbe5-15cfec81706d"
      },
      "source": [
        "grid_model.fit(train, train_y)\n",
        "grid_skfold_score = cross_val_score(grid_model, train, train_y, cv = skfold, scoring = 'roc_auc')\n",
        "print(\"Grid search 후 점수:\", np.mean(grid_skfold_score))"
      ],
      "execution_count": null,
      "outputs": [
        {
          "output_type": "stream",
          "text": [
            "Grid search 후 점수: 0.7681855655421204\n"
          ],
          "name": "stdout"
        }
      ]
    },
    {
      "cell_type": "code",
      "metadata": {
        "id": "cqIjyL0c4Wxw"
      },
      "source": [
        "pred = grid_model.predict(test)\n",
        "submission['voted'] = pred\n",
        "submission.to_csv('./심리성향 3주차 수업/skfold_grid_search_submission.csv')"
      ],
      "execution_count": null,
      "outputs": []
    },
    {
      "cell_type": "code",
      "metadata": {
        "id": "SlOUdRbiA3C1"
      },
      "source": [
        "scores['skfold_grid_search_score'] = np.mean(grid_skfold_score)"
      ],
      "execution_count": null,
      "outputs": []
    },
    {
      "cell_type": "markdown",
      "metadata": {
        "id": "KufopKls4k7N"
      },
      "source": [
        "#### Stratified - Random search"
      ]
    },
    {
      "cell_type": "code",
      "metadata": {
        "colab": {
          "base_uri": "https://localhost:8080/"
        },
        "id": "5nTJvwFk4pay",
        "outputId": "a70e218f-8d24-4eb2-b231-5933f594d8c3"
      },
      "source": [
        "random_model = get_random_model(skfold, train, train_y)"
      ],
      "execution_count": null,
      "outputs": [
        {
          "output_type": "stream",
          "text": [
            "{'n_estimators': 356, 'max_depth': 9, 'learning_rate': 0.023999999999999987}\n"
          ],
          "name": "stdout"
        }
      ]
    },
    {
      "cell_type": "code",
      "metadata": {
        "colab": {
          "base_uri": "https://localhost:8080/"
        },
        "id": "7EsEqf0j4paz",
        "outputId": "1250123e-9642-450f-b41b-86e63a793f54"
      },
      "source": [
        "random_model.fit(train, train_y)\n",
        "skfold_random_score = cross_val_score(random_model, train, train_y, cv = skfold, scoring='roc_auc')\n",
        "print('RANDOM SEARCH 후 점수 : ', np.mean(skfold_random_score))"
      ],
      "execution_count": null,
      "outputs": [
        {
          "output_type": "stream",
          "text": [
            "RANDOM SEARCH 후 점수 :  0.7667319525050217\n"
          ],
          "name": "stdout"
        }
      ]
    },
    {
      "cell_type": "code",
      "metadata": {
        "id": "rfLv_sqt4pa0"
      },
      "source": [
        "pred = random_model.predict(test)\n",
        "submission['voted'] = pred\n",
        "submission.to_csv('./심리성향 3주차 수업/skfold_random_search_submission.csv')"
      ],
      "execution_count": null,
      "outputs": []
    },
    {
      "cell_type": "code",
      "metadata": {
        "id": "vzWXN4mzB2vo"
      },
      "source": [
        "scores['skfold_random_search_score'] = np.mean(skfold_random_score)"
      ],
      "execution_count": null,
      "outputs": []
    },
    {
      "cell_type": "code",
      "metadata": {
        "colab": {
          "base_uri": "https://localhost:8080/"
        },
        "id": "sbAwbbp96YGE",
        "outputId": "1f6b9841-4524-42e6-bc93-e02026ed655c"
      },
      "source": [
        "print(scores)"
      ],
      "execution_count": null,
      "outputs": [
        {
          "output_type": "stream",
          "text": [
            "{'noraml_score': 0.7619959487431558, 'grid_search_score': 0.7662430812265733, 'random_search_score': 0.7664489599172506, 'holdout_score': 0.7053787548661354, 'kfold_noraml_score': 0.7654603641696518, 'kfold_grid_search_score': 0.7673509807345695, 'kfold_random_search_score': 0.7655841408287802, 'skfold_normal_score': 0.7655090276223184, 'skfold_grid_search_score': 0.7681855655421204, 'skfold_random_search_score': 0.7667319525050217}\n"
          ],
          "name": "stdout"
        }
      ]
    },
    {
      "cell_type": "code",
      "metadata": {
        "colab": {
          "base_uri": "https://localhost:8080/",
          "height": 35
        },
        "id": "HMg4MsmT6z24",
        "outputId": "9676e183-93c0-4b3f-b4f0-81f9e9db288b"
      },
      "source": [
        "max(scores, key=scores.get)"
      ],
      "execution_count": null,
      "outputs": [
        {
          "output_type": "execute_result",
          "data": {
            "application/vnd.google.colaboratory.intrinsic+json": {
              "type": "string"
            },
            "text/plain": [
              "'skfold_grid_search_score'"
            ]
          },
          "metadata": {
            "tags": []
          },
          "execution_count": 79
        }
      ]
    },
    {
      "cell_type": "markdown",
      "metadata": {
        "id": "hRWIQD8xjKaX"
      },
      "source": [
        "## Scaling\n",
        "\n",
        "- 데이터의 값이 너무 크거나 혹은 작은 경우에 모델 알고리즘 학습과정에서 0으로 수렴하거나 무한으로 발산해 버릴 수 있는 것을 방지하거나, 예측 값이 범위를 벗어나는 입력데이터의 값에 더 큰 영향을 받는 것을 방지합니다.\n",
        "- 스케일링을 통해 다타원의 값들을 비교 분석하기 쉽게 만들어 줍니다.\n",
        "- 자료의 overflow나 underflow를 방지하고 최적화 과정에서 안정성 및 수렴 속도를 향상시킵니다.\n",
        " \n",
        "\n",
        "예를 들어 키와 몸무게가 입력 데이터로 주어지고 라벨데이터는 100m달리기에 걸리는 시간을 예측한다고 하면, 키와 몸무게는 서로 범위, Unit이 다르기 때문에 더 큰 값을 가진 키 값이 결과 값에 더 큰 영향을 미치는 것을 방지하기 위해 키와 몸무게 데이터의 유닛을 맞춰주는 작업을 해야합니다. 그럴때 사용하는 것이 바로 Scaling입니다.\n",
        "\n",
        "\n",
        "출처: https://ebbnflow.tistory.com/137 [Dev Log : 삶은 확률의 구름]"
      ]
    },
    {
      "cell_type": "markdown",
      "metadata": {
        "id": "8iqRDuudjio0"
      },
      "source": [
        "### Robust Scaler\n",
        " \n",
        "- StandardScaler에 의한 표준화보다 동일한 값을 더 넓게 분포\n",
        "\n",
        "- 이상치(outlier)를 포함하는 데이터를 표준화하는 경우\n",
        "\n",
        "\n",
        "\n",
        "출처: https://ebbnflow.tistory.com/137 [Dev Log : 삶은 확률의 구름]"
      ]
    },
    {
      "cell_type": "code",
      "metadata": {
        "id": "SJSEJyi1jKHk"
      },
      "source": [
        "from sklearn.preprocessing import RobustScaler"
      ],
      "execution_count": 1,
      "outputs": []
    },
    {
      "cell_type": "code",
      "metadata": {
        "colab": {
          "base_uri": "https://localhost:8080/"
        },
        "id": "vSdDSRlgj2RS",
        "outputId": "2ecb1960-a345-4f12-bcbe-44db969013b1"
      },
      "source": [
        "train, test, submission = load_data()\n",
        "train, test = label_encoding(train, test, string_columns)"
      ],
      "execution_count": 14,
      "outputs": [
        {
          "output_type": "stream",
          "text": [
            "/content/content/MyDrive/Dacon school\n"
          ],
          "name": "stdout"
        }
      ]
    },
    {
      "cell_type": "code",
      "metadata": {
        "id": "FiSohseOj2RW"
      },
      "source": [
        "train, train_y, test = init_data(train, test)"
      ],
      "execution_count": 17,
      "outputs": []
    },
    {
      "cell_type": "code",
      "metadata": {
        "id": "AsGLgBt1j4s_"
      },
      "source": [
        "scaler = RobustScaler()\n",
        "train = scaler.fit_transform(train)\n",
        "test = scaler.transform(test)"
      ],
      "execution_count": 18,
      "outputs": []
    },
    {
      "cell_type": "code",
      "metadata": {
        "id": "hLsyUj9xkjds"
      },
      "source": [
        "skfold = StratifiedKFold(n_splits = 4, shuffle = True)"
      ],
      "execution_count": 21,
      "outputs": []
    },
    {
      "cell_type": "code",
      "metadata": {
        "colab": {
          "base_uri": "https://localhost:8080/"
        },
        "id": "WvMQ0eVnkcJi",
        "outputId": "2328f669-619e-40e0-dfa7-36e1bc7ddbc6"
      },
      "source": [
        "random_model = get_random_model(skfold, train, train_y)"
      ],
      "execution_count": 26,
      "outputs": [
        {
          "output_type": "stream",
          "text": [
            "{'n_estimators': 425, 'max_depth': 8, 'learning_rate': 0.014999999999999996}\n"
          ],
          "name": "stdout"
        }
      ]
    },
    {
      "cell_type": "code",
      "metadata": {
        "colab": {
          "base_uri": "https://localhost:8080/"
        },
        "id": "HIZQjvlYkn5J",
        "outputId": "b5b33a26-08d6-4ea8-8bf0-206120662d7f"
      },
      "source": [
        "random_model.fit(train, train_y)\n",
        "skfold_random_score = cross_val_score(random_model, train, train_y, cv = skfold, scoring='roc_auc')\n",
        "print('RANDOM SEARCH 후 점수 : ', np.mean(skfold_random_score))"
      ],
      "execution_count": 28,
      "outputs": [
        {
          "output_type": "stream",
          "text": [
            "RANDOM SEARCH 후 점수 :  0.767279840924809\n"
          ],
          "name": "stdout"
        }
      ]
    },
    {
      "cell_type": "code",
      "metadata": {
        "id": "O5hilRT7k2Oe"
      },
      "source": [
        "pred = random_model.predict(test)\n",
        "submission['voted'] = pred\n",
        "submission.to_csv('./심리성향 3주차 수업/skfold_random_search_scaler_submission.csv')"
      ],
      "execution_count": 29,
      "outputs": []
    },
    {
      "cell_type": "code",
      "metadata": {
        "id": "T9LkbvZ1lLzc"
      },
      "source": [
        ""
      ],
      "execution_count": null,
      "outputs": []
    }
  ]
}